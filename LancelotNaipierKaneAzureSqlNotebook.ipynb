{
  "nbformat": 4,
  "nbformat_minor": 0,
  "metadata": {
    "colab": {
      "provenance": []
    },
    "kernelspec": {
      "name": "python3",
      "display_name": "Python 3"
    },
    "language_info": {
      "name": "python"
    }
  },
  "cells": [
    {
      "cell_type": "markdown",
      "source": [
        "# Azure and SQL Demo: Enhanced Data Pipeline for Sales Analysis\n",
        "\n",
        "## Project Overview:\n",
        "\n",
        "This enhanced project demonstrates a robust data pipeline using local file handling to emulate Azure Blob Storage and SQLite to emulate Azure SQL Database. We use a sales dataset to simulate upload/download, perform advanced data cleaning, execute complex SQL queries, integrate basic machine learning, and visualize insights. New features include advanced SQL operations (joins, window functions, CTEs, stored procedures), data validation, and recommendations for real Azure integration.\n",
        "\n",
        "## Dataset:\n",
        "Sample Sales Data CSV from Kaggle \"sales_data.csv\".\n",
        "\n",
        "## Dataset Description:\n",
        "- Columns: ORDERNUMBER, QUANTITYORDERED, PRICEEACH, SALES, ORDERDATE, STATUS, PRODUCTLINE, CITY, STATE, COUNTRY, etc.\n",
        "- Use: Analyze sales trends, top products, regional performance, and customer segmentation."
      ],
      "metadata": {
        "id": "M9KmZHYhLUmR"
      }
    },
    {
      "cell_type": "code",
      "source": [
        "# mount to google drive\n",
        "from google.colab import drive\n",
        "drive.mount('/content/drive')"
      ],
      "metadata": {
        "colab": {
          "base_uri": "https://localhost:8080/"
        },
        "id": "OJwxNhTOLk01",
        "outputId": "77b63c10-ac86-4194-8868-d716dafd77ce"
      },
      "execution_count": 1,
      "outputs": [
        {
          "output_type": "stream",
          "name": "stdout",
          "text": [
            "Drive already mounted at /content/drive; to attempt to forcibly remount, call drive.mount(\"/content/drive\", force_remount=True).\n"
          ]
        }
      ]
    },
    {
      "cell_type": "code",
      "source": [
        "# local file paths for this emulation via google colab\n",
        "local_file = \"/content/sales_data.csv\"\n",
        "emulated_blob_path = \"/content/emulated_sales_data.csv\""
      ],
      "metadata": {
        "id": "7ZtASlokLoJj"
      },
      "execution_count": 2,
      "outputs": []
    },
    {
      "cell_type": "code",
      "source": [
        "# Install required libraries\n",
        "!pip install pandas matplotlib seaborn plotly faker\n",
        "# Note: azure-storage-blob and pyodbc are excluded for Colab compatibility; use in real Azure setup\n",
        "# sqlite3 is included in Python standard library\n",
        "import pandas as pd\n",
        "import sqlite3\n",
        "import matplotlib.pyplot as plt\n",
        "import seaborn as sns\n",
        "import plotly.express as px\n",
        "from faker import Faker\n",
        "import uuid\n",
        "import logging\n",
        "\n",
        "# Set up logging for pipeline monitoring\n",
        "logging.basicConfig(level=logging.INFO, format='%(asctime)s - %(levelname)s - %(message)s')\n",
        "logger = logging.getLogger(__name__)"
      ],
      "metadata": {
        "colab": {
          "base_uri": "https://localhost:8080/"
        },
        "id": "LlXKUj07LUmS",
        "outputId": "70bbb149-ff9d-4660-8a3b-71741fccf4af"
      },
      "execution_count": 3,
      "outputs": [
        {
          "output_type": "stream",
          "name": "stdout",
          "text": [
            "Requirement already satisfied: pandas in /usr/local/lib/python3.12/dist-packages (2.3.3)\n",
            "Requirement already satisfied: matplotlib in /usr/local/lib/python3.12/dist-packages (3.10.7)\n",
            "Requirement already satisfied: seaborn in /usr/local/lib/python3.12/dist-packages (0.13.2)\n",
            "Requirement already satisfied: plotly in /usr/local/lib/python3.12/dist-packages (6.3.1)\n",
            "Requirement already satisfied: faker in /usr/local/lib/python3.12/dist-packages (37.11.0)\n",
            "Requirement already satisfied: numpy>=1.26.0 in /usr/local/lib/python3.12/dist-packages (from pandas) (2.0.2)\n",
            "Requirement already satisfied: python-dateutil>=2.8.2 in /usr/local/lib/python3.12/dist-packages (from pandas) (2.9.0.post0)\n",
            "Requirement already satisfied: pytz>=2020.1 in /usr/local/lib/python3.12/dist-packages (from pandas) (2025.2)\n",
            "Requirement already satisfied: tzdata>=2022.7 in /usr/local/lib/python3.12/dist-packages (from pandas) (2025.2)\n",
            "Requirement already satisfied: contourpy>=1.0.1 in /usr/local/lib/python3.12/dist-packages (from matplotlib) (1.3.3)\n",
            "Requirement already satisfied: cycler>=0.10 in /usr/local/lib/python3.12/dist-packages (from matplotlib) (0.12.1)\n",
            "Requirement already satisfied: fonttools>=4.22.0 in /usr/local/lib/python3.12/dist-packages (from matplotlib) (4.60.1)\n",
            "Requirement already satisfied: kiwisolver>=1.3.1 in /usr/local/lib/python3.12/dist-packages (from matplotlib) (1.4.9)\n",
            "Requirement already satisfied: packaging>=20.0 in /usr/local/lib/python3.12/dist-packages (from matplotlib) (25.0)\n",
            "Requirement already satisfied: pillow>=8 in /usr/local/lib/python3.12/dist-packages (from matplotlib) (11.3.0)\n",
            "Requirement already satisfied: pyparsing>=3 in /usr/local/lib/python3.12/dist-packages (from matplotlib) (3.2.5)\n",
            "Requirement already satisfied: narwhals>=1.15.1 in /usr/local/lib/python3.12/dist-packages (from plotly) (2.7.0)\n",
            "Requirement already satisfied: six>=1.5 in /usr/local/lib/python3.12/dist-packages (from python-dateutil>=2.8.2->pandas) (1.17.0)\n"
          ]
        }
      ]
    },
    {
      "cell_type": "code",
      "source": [
        "# Local file paths for emulation in Colab\n",
        "local_file = \"/content/sales_data.csv\"\n",
        "emulated_blob_path = \"/content/emulated_sales_data.csv\"\n",
        "database_path = \"/content/sales_db.sqlite\"\n",
        "\n",
        "# Generate synthetic customer data for joins\n",
        "faker = Faker()\n",
        "customers = pd.DataFrame({\n",
        "    'CustomerID': [str(uuid.uuid4()) for _ in range(100)],\n",
        "    'CustomerName': [faker.company() for _ in range(100)],\n",
        "    'LoyaltyLevel': [faker.random_element(['Bronze', 'Silver', 'Gold']) for _ in range(100)]\n",
        "})\n",
        "customers.to_csv('/content/customers.csv', index=False)"
      ],
      "metadata": {
        "id": "nfSWJGZdLUmS"
      },
      "execution_count": 4,
      "outputs": []
    },
    {
      "cell_type": "code",
      "metadata": {
        "id": "138f77b7"
      },
      "source": [
        "import pandas as pd\n",
        "import os\n",
        "import logging # Import logging here as well\n",
        "\n",
        "# Set up logging for pipeline monitoring\n",
        "logging.basicConfig(level=logging.INFO, format='%(asctime)s - %(levelname)s - %(message)s')\n",
        "logger = logging.getLogger(__name__) # Define logger here\n",
        "\n",
        "local_file = \"/content/sales_data.csv\" # Redefine local_file just in case\n",
        "emulated_blob_path = \"/content/emulated_sales_data.csv\" # Redefine emulated_blob_path\n",
        "\n",
        "try:\n",
        "    # Check if the input file exists\n",
        "    if not os.path.exists(local_file):\n",
        "        logger.error(f\"Error: The file {local_file} was not found. Please ensure it is uploaded to the correct path.\")\n",
        "        raise FileNotFoundError(f\"The file {local_file} was not found.\")\n",
        "\n",
        "    # Read input file\n",
        "    # Using latin-1 encoding as identified in previous attempts to handle potential character issues\n",
        "    df = pd.read_csv(local_file, encoding='latin-1')\n",
        "\n",
        "    # --- Data Validation (Pandas-based) ---\n",
        "    # Methodology: Using simple pandas checks for critical data quality issues.\n",
        "    # This approach is chosen for its simplicity and directness, avoiding external library complexities\n",
        "    # for basic validation requirements like checking for missing values and data types.\n",
        "\n",
        "    # Check for nulls in the critical 'ORDERNUMBER' column\n",
        "    if df['ORDERNUMBER'].isnull().any():\n",
        "        logger.error(\"Data validation failed: Missing values in ORDERNUMBER column.\")\n",
        "        # Optionally, you could handle this by dropping rows or raising an error\n",
        "        raise ValueError(\"Data validation failed: Missing values found in critical column.\")\n",
        "\n",
        "    # Check if the 'SALES' column is numeric (float or int)\n",
        "    # Using pd.api.types.is_numeric_dtype for a robust check\n",
        "    if not pd.api.types.is_numeric_dtype(df['SALES']):\n",
        "         logger.error(\"Data validation failed: SALES column is not numeric.\")\n",
        "         # Attempt to convert, or raise an error if conversion is not desired\n",
        "         try:\n",
        "             df['SALES'] = pd.to_numeric(df['SALES'])\n",
        "             logger.warning(\"Attempted to convert SALES column to numeric.\")\n",
        "         except ValueError:\n",
        "             logger.error(\"Data validation failed: Could not convert SALES column to numeric.\")\n",
        "             raise ValueError(\"Data validation failed: SALES column is not numeric or cannot be converted.\")\n",
        "\n",
        "\n",
        "    logger.info(\"Data validation passed using pandas checks.\")\n",
        "\n",
        "    # Simulate upload\n",
        "    # Save the validated DataFrame to the emulated blob path\n",
        "    df.to_csv(emulated_blob_path, index=False)\n",
        "    logger.info(\"Simulated upload of validated sales_data.csv to 'Azure Blob Storage'\")\n",
        "\n",
        "except FileNotFoundError:\n",
        "    logger.error(f\"Error: The file {local_file} was not found.\")\n",
        "    raise\n",
        "except ValueError as ve:\n",
        "    # Catch validation errors specifically\n",
        "    logger.error(f\"Data validation error: {ve}\")\n",
        "    raise\n",
        "except Exception as e:\n",
        "    # Catch any other unexpected errors\n",
        "    logger.error(f\"An unexpected error occurred during upload simulation: {e}\")\n",
        "    raise"
      ],
      "execution_count": 5,
      "outputs": []
    },
    {
      "cell_type": "markdown",
      "source": [
        "## 1. Simulate Upload to Azure Blob Storage\n",
        "\n",
        "### Description:\n",
        "Emulate uploading the sales dataset to Azure Blob Storage by copying locally. In production, use Azure Blob Storage SDK for scalability and versioning.\n",
        "\n",
        "### Azure Equivalent:\n",
        "```python\n",
        "from azure.storage.blob import BlobServiceClient\n",
        "blob_service_client = BlobServiceClient.from_connection_string(\"your_connection_string\")\n",
        "container_client = blob_service_client.get_container_client(\"sales-container\")\n",
        "with open(local_file, \"rb\") as data:\n",
        "    container_client.upload_blob(name=\"sales_data.csv\", data=data, overwrite=True, metadata={'upload_date': str(pd.Timestamp.now())})\n",
        "```\n"
      ],
      "metadata": {
        "id": "CG6Ww6YKLUmS"
      }
    },
    {
      "cell_type": "code",
      "source": [
        "import pandas as pd\n",
        "import os\n",
        "import logging # Import logging here as well\n",
        "\n",
        "# Set up logging for pipeline monitoring\n",
        "logging.basicConfig(level=logging.INFO, format='%(asctime)s - %(levelname)s - %(message)s')\n",
        "logger = logging.getLogger(__name__) # Define logger here\n",
        "\n",
        "try:\n",
        "    # Read input file\n",
        "    # Using latin-1 encoding as identified in previous attempts to handle potential character issues\n",
        "    df = pd.read_csv(local_file, encoding='latin-1')\n",
        "\n",
        "    # --- Data Validation (Pandas-based) ---\n",
        "    # Methodology: Using simple pandas checks for critical data quality issues.\n",
        "    # This approach is chosen for its simplicity and directness, avoiding external library complexities\n",
        "    # for basic validation requirements like checking for missing values and data types.\n",
        "\n",
        "    # Check for nulls in the critical 'ORDERNUMBER' column\n",
        "    if df['ORDERNUMBER'].isnull().any():\n",
        "        logger.error(\"Data validation failed: Missing values in ORDERNUMBER column.\")\n",
        "        # Optionally, you could handle this by dropping rows or raising an error\n",
        "        raise ValueError(\"Data validation failed: Missing values found in critical column.\")\n",
        "\n",
        "    # Check if the 'SALES' column is numeric (float or int)\n",
        "    # Using pd.api.types.is_numeric_dtype for a robust check\n",
        "    if not pd.api.types.is_numeric_dtype(df['SALES']):\n",
        "         logger.error(\"Data validation failed: SALES column is not numeric.\")\n",
        "         # Attempt to convert, or raise an error if conversion is not desired\n",
        "         try:\n",
        "             df['SALES'] = pd.to_numeric(df['SALES'])\n",
        "             logger.warning(\"Attempted to convert SALES column to numeric.\")\n",
        "         except ValueError:\n",
        "             logger.error(\"Data validation failed: Could not convert SALES column to numeric.\")\n",
        "             raise ValueError(\"Data validation failed: SALES column is not numeric or cannot be converted.\")\n",
        "\n",
        "\n",
        "    logger.info(\"Data validation passed using pandas checks.\")\n",
        "\n",
        "    # Simulate upload\n",
        "    # Save the validated DataFrame to the emulated blob path\n",
        "    df.to_csv(emulated_blob_path, index=False)\n",
        "    logger.info(\"Simulated upload of validated sales_data.csv to 'Azure Blob Storage'\")\n",
        "\n",
        "except FileNotFoundError:\n",
        "    logger.error(f\"Error: The file {local_file} was not found.\")\n",
        "    raise\n",
        "except ValueError as ve:\n",
        "    # Catch validation errors specifically\n",
        "    logger.error(f\"Data validation error: {ve}\")\n",
        "    raise\n",
        "except Exception as e:\n",
        "    # Catch any other unexpected errors\n",
        "    logger.error(f\"An unexpected error occurred during upload simulation: {e}\")\n",
        "    raise"
      ],
      "metadata": {
        "id": "qDy5OA1eLUmT"
      },
      "execution_count": 6,
      "outputs": []
    },
    {
      "cell_type": "markdown",
      "source": [
        "## 2. Download and Clean Data\n",
        "\n",
        "### Description:\n",
        "Read the emulated Blob file, perform advanced cleaning, and validate data integrity.\n",
        "\n",
        "### Azure Equivalent:\n",
        "```python\n",
        "blob_client = container_client.get_blob_client(\"sales_data.csv\")\n",
        "with open(emulated_blob_path, \"wb\") as file:\n",
        "    blob_data = blob_client.download_blob()\n",
        "    file.write(blob_data.readall())\n",
        "```\n"
      ],
      "metadata": {
        "id": "IbUGcazFLUmT"
      }
    },
    {
      "cell_type": "code",
      "source": [
        "try:\n",
        "    # Simulate download\n",
        "    df = pd.read_csv(emulated_blob_path, encoding='utf-8')\n",
        "    logger.info(\"Simulated download from 'Azure Blob Storage'\")\n",
        "\n",
        "    # Advanced cleaning\n",
        "    df.drop_duplicates(inplace=True)\n",
        "    df['SALES'] = df['SALES'].fillna(df['QUANTITYORDERED'] * df['PRICEEACH'])\n",
        "    df['ORDERDATE'] = pd.to_datetime(df['ORDERDATE'], errors='coerce')\n",
        "    df['STATE'] = df['STATE'].fillna('Unknown')\n",
        "\n",
        "    # Outlier detection\n",
        "    sales_mean = df['SALES'].mean()\n",
        "    sales_std = df['SALES'].std()\n",
        "    df = df[df['SALES'] <= (sales_mean + 3 * sales_std)]\n",
        "\n",
        "    logger.info(f\"Cleaned data shape: {df.shape}\")\n",
        "    print(\"Cleaned data preview:\")\n",
        "    print(df.head())\n",
        "except Exception as e:\n",
        "    logger.error(f\"Error during download/cleaning: {e}\")\n",
        "    raise"
      ],
      "metadata": {
        "colab": {
          "base_uri": "https://localhost:8080/"
        },
        "id": "vOBCRAXGLUmT",
        "outputId": "50a9bf62-6628-4a73-f37d-0791b48fe49b"
      },
      "execution_count": 7,
      "outputs": [
        {
          "output_type": "stream",
          "name": "stdout",
          "text": [
            "Cleaned data preview:\n",
            "   ORDERNUMBER  QUANTITYORDERED  PRICEEACH  ORDERLINENUMBER    SALES  \\\n",
            "0        10107               30      95.70                2  2871.00   \n",
            "1        10121               34      81.35                5  2765.90   \n",
            "2        10134               41      94.74                2  3884.34   \n",
            "3        10145               45      83.26                6  3746.70   \n",
            "4        10159               49     100.00               14  5205.27   \n",
            "\n",
            "   ORDERDATE   STATUS  QTR_ID  MONTH_ID  YEAR_ID  ...  \\\n",
            "0 2003-02-24  Shipped       1         2     2003  ...   \n",
            "1 2003-05-07  Shipped       2         5     2003  ...   \n",
            "2 2003-07-01  Shipped       3         7     2003  ...   \n",
            "3 2003-08-25  Shipped       3         8     2003  ...   \n",
            "4 2003-10-10  Shipped       4        10     2003  ...   \n",
            "\n",
            "                    ADDRESSLINE1  ADDRESSLINE2           CITY    STATE  \\\n",
            "0        897 Long Airport Avenue           NaN            NYC       NY   \n",
            "1             59 rue de l'Abbaye           NaN          Reims  Unknown   \n",
            "2  27 rue du Colonel Pierre Avia           NaN          Paris  Unknown   \n",
            "3             78934 Hillside Dr.           NaN       Pasadena       CA   \n",
            "4                7734 Strong St.           NaN  San Francisco       CA   \n",
            "\n",
            "  POSTALCODE COUNTRY TERRITORY CONTACTLASTNAME CONTACTFIRSTNAME DEALSIZE  \n",
            "0      10022     USA       NaN              Yu             Kwai    Small  \n",
            "1      51100  France      EMEA         Henriot             Paul    Small  \n",
            "2      75508  France      EMEA        Da Cunha           Daniel   Medium  \n",
            "3      90003     USA       NaN           Young            Julie   Medium  \n",
            "4        NaN     USA       NaN           Brown            Julie   Medium  \n",
            "\n",
            "[5 rows x 25 columns]\n"
          ]
        }
      ]
    },
    {
      "cell_type": "markdown",
      "source": [
        "## 3. Load Data into SQL Database\n",
        "\n",
        "### Description:\n",
        "Load cleaned data and synthetic customer data into SQLite (emulating Azure SQL).\n",
        "\n",
        "### Azure Equivalent:\n",
        "```python\n",
        "import pyodbc\n",
        "conn = pyodbc.connect(\"DRIVER={ODBC Driver 17 for SQL Server};SERVER=your_server.database.windows.net;DATABASE=sales_db;UID=your_user;PWD=your_pwd\")\n",
        "```\n"
      ],
      "metadata": {
        "id": "Lj7rdHLqLUmT"
      }
    },
    {
      "cell_type": "code",
      "source": [
        "try:\n",
        "    conn = sqlite3.connect(database_path)\n",
        "    df.to_sql('sales', conn, if_exists='replace', index=False)\n",
        "    customers.to_sql('customers', conn, if_exists='replace', index=False)\n",
        "\n",
        "    # Create index for performance\n",
        "    conn.execute('CREATE INDEX IF NOT EXISTS idx_orderdate ON sales(ORDERDATE)')\n",
        "    logger.info(\"Data loaded into SQL database with index on ORDERDATE\")\n",
        "except Exception as e:\n",
        "    logger.error(f\"Error loading data: {e}\")\n",
        "    raise"
      ],
      "metadata": {
        "id": "VRTXbAVQLUmT"
      },
      "execution_count": 8,
      "outputs": []
    },
    {
      "cell_type": "markdown",
      "source": [
        "## 4. Advanced SQL Queries\n",
        "\n",
        "### Description:\n",
        "Execute complex queries with joins, CTEs, window functions, and stored procedures for deeper analysis."
      ],
      "metadata": {
        "id": "VKpYijhBLUmT"
      }
    },
    {
      "cell_type": "code",
      "source": [
        "# Query 1: Total sales by customer loyalty level (Join)\n",
        "query_loyalty = \"SELECT c.LoyaltyLevel, SUM(s.SALES) AS Total_Sales FROM sales s INNER JOIN customers c ON s.CUSTOMERNAME = c.CustomerName WHERE s.STATUS = 'Shipped' GROUP BY c.LoyaltyLevel HAVING Total_Sales > (SELECT AVG(SALES) FROM sales) ORDER BY Total_Sales DESC\"\n",
        "result_loyalty = pd.read_sql_query(query_loyalty, conn)\n",
        "print(\"Total sales by customer loyalty level:\")\n",
        "print(result_loyalty)\n",
        "\n",
        "# Query 2: Quarterly sales with running total and product rank (CTEs and Window Functions)\n",
        "query_quarterly = \"WITH QuarterlySales AS (SELECT YEAR_ID, QTR_ID, PRODUCTLINE, SUM(SALES) AS Qtr_Sales FROM sales GROUP BY YEAR_ID, QTR_ID, PRODUCTLINE) SELECT YEAR_ID, QTR_ID, PRODUCTLINE, Qtr_Sales, SUM(Qtr_Sales) OVER (PARTITION BY YEAR_ID ORDER BY QTR_ID) AS Running_Total, RANK() OVER (PARTITION BY YEAR_ID, QTR_ID ORDER BY Qtr_Sales DESC) AS Product_Rank FROM QuarterlySales ORDER BY YEAR_ID, QTR_ID, Product_Rank\"\n",
        "result_quarterly = pd.read_sql_query(query_quarterly, conn)\n",
        "print(\"Quarterly sales with running total and rank:\")\n",
        "print(result_quarterly.head(10))\n",
        "\n",
        "# Create view for top products\n",
        "conn.execute(\"CREATE VIEW IF NOT EXISTS TopProducts AS SELECT PRODUCTLINE, SUM(SALES) AS Total_Sales FROM sales GROUP BY PRODUCTLINE ORDER BY Total_Sales DESC LIMIT 10\")\n",
        "logger.info(\"Created TopProducts view\")\n",
        "\n",
        "# Create stored procedure equivalent (SQLite uses functions)\n",
        "conn.execute(\"CREATE TABLE IF NOT EXISTS SalesByRegion (CITY TEXT, Total_Sales REAL)\")\n",
        "def get_sales_by_region(country):\n",
        "    query = \"INSERT INTO SalesByRegion (CITY, Total_Sales) SELECT CITY, SUM(SALES) FROM sales WHERE COUNTRY = ? GROUP BY CITY\"\n",
        "    conn.execute(query, (country,))\n",
        "    conn.commit()\n",
        "get_sales_by_region(\"USA\")\n",
        "result_region = pd.read_sql_query(\"SELECT * FROM SalesByRegion\", conn)\n",
        "print(\"Sales by region (USA):\")\n",
        "print(result_region)"
      ],
      "metadata": {
        "colab": {
          "base_uri": "https://localhost:8080/"
        },
        "id": "inCG8Yx1LUmT",
        "outputId": "cbbb281d-a76b-4f26-e50a-f2fb8840ca18"
      },
      "execution_count": 9,
      "outputs": [
        {
          "output_type": "stream",
          "name": "stdout",
          "text": [
            "Total sales by customer loyalty level:\n",
            "Empty DataFrame\n",
            "Columns: [LoyaltyLevel, Total_Sales]\n",
            "Index: []\n",
            "Quarterly sales with running total and rank:\n",
            "   YEAR_ID  QTR_ID       PRODUCTLINE  Qtr_Sales  Running_Total  Product_Rank\n",
            "0     2003       1      Classic Cars  166682.87      445094.69             1\n",
            "1     2003       1      Vintage Cars  117760.08      445094.69             2\n",
            "2     2003       1  Trucks and Buses   46709.49      445094.69             3\n",
            "3     2003       1            Planes   39205.31      445094.69             4\n",
            "4     2003       1       Motorcycles   38422.91      445094.69             5\n",
            "5     2003       1             Ships   27050.38      445094.69             6\n",
            "6     2003       1            Trains    9263.65      445094.69             7\n",
            "7     2003       2      Classic Cars  197030.67      986915.85             1\n",
            "8     2003       2      Vintage Cars   94366.43      986915.85             2\n",
            "9     2003       2  Trucks and Buses   71523.21      986915.85             3\n",
            "Sales by region (USA):\n",
            "             CITY  Total_Sales\n",
            "0       Allentown    122138.14\n",
            "1          Boston    154069.66\n",
            "2      Brickhaven    137138.00\n",
            "3     Bridgewater    101894.79\n",
            "4        Brisbane     50218.51\n",
            "5         Burbank     46084.64\n",
            "6      Burlingame    120783.07\n",
            "7       Cambridge    139244.00\n",
            "8        Glendale     66423.77\n",
            "9       Las Vegas     82751.08\n",
            "10    Los Angeles     48048.46\n",
            "11            NYC    549508.57\n",
            "12         Nashua    119148.80\n",
            "13    New Bedford    197808.26\n",
            "14      New Haven     79472.07\n",
            "15         Newark     83228.19\n",
            "16       Pasadena    104561.96\n",
            "17   Philadelphia    151189.13\n",
            "18      San Diego     87489.23\n",
            "19  San Francisco    213021.98\n",
            "20       San Jose    136266.03\n",
            "21     San Rafael    624594.42\n",
            "22   White Plains     85555.99\n",
            "23      Allentown    122138.14\n",
            "24         Boston    154069.66\n",
            "25     Brickhaven    137138.00\n",
            "26    Bridgewater    101894.79\n",
            "27       Brisbane     50218.51\n",
            "28        Burbank     46084.64\n",
            "29     Burlingame    120783.07\n",
            "30      Cambridge    139244.00\n",
            "31       Glendale     66423.77\n",
            "32      Las Vegas     82751.08\n",
            "33    Los Angeles     48048.46\n",
            "34            NYC    549508.57\n",
            "35         Nashua    119148.80\n",
            "36    New Bedford    197808.26\n",
            "37      New Haven     79472.07\n",
            "38         Newark     83228.19\n",
            "39       Pasadena    104561.96\n",
            "40   Philadelphia    151189.13\n",
            "41      San Diego     87489.23\n",
            "42  San Francisco    213021.98\n",
            "43       San Jose    136266.03\n",
            "44     San Rafael    624594.42\n",
            "45   White Plains     85555.99\n"
          ]
        }
      ]
    },
    {
      "cell_type": "markdown",
      "source": [
        "## 5. Advanced Visualizations\n",
        "\n",
        "### Description:\n",
        "Use Seaborn and Plotly for interactive visualizations to enhance insights.\n",
        "\n",
        "### Azure Equivalent:\n",
        "Connect Azure SQL to Power BI for production-grade dashboards."
      ],
      "metadata": {
        "id": "82MkOEIwLUmU"
      }
    },
    {
      "cell_type": "code",
      "source": [
        "# Plot 1: Sales trends by year (Seaborn)\n",
        "query_year = \"SELECT YEAR_ID, SUM(SALES) AS Total_Sales FROM sales GROUP BY YEAR_ID ORDER BY YEAR_ID\"\n",
        "result_year = pd.read_sql_query(query_year, conn)\n",
        "plt.figure(figsize=(10, 6))\n",
        "sns.lineplot(data=result_year, x=\"YEAR_ID\", y=\"Total_Sales\", marker=\"o\")\n",
        "plt.title(\"Sales Trends by Year\")\n",
        "plt.xlabel(\"Year\")\n",
        "plt.ylabel(\"Total Sales\")\n",
        "plt.grid(True)\n",
        "plt.show()\n",
        "\n",
        "# Plot 2: Interactive top products (Plotly)\n",
        "result_top_products = pd.read_sql_query(\"SELECT * FROM TopProducts\", conn)\n",
        "fig = px.bar(result_top_products, x=\"PRODUCTLINE\", y=\"Total_Sales\", title=\"Top 10 Products by Sales\",\n",
        "             hover_data=[\"Total_Sales\"], color=\"PRODUCTLINE\")\n",
        "fig.update_layout(xaxis_title=\"Product Line\", yaxis_title=\"Total Sales\")\n",
        "fig.show()"
      ],
      "metadata": {
        "colab": {
          "base_uri": "https://localhost:8080/",
          "height": 1000
        },
        "id": "pFmgknwILUmU",
        "outputId": "f3cd5763-fe49-4777-d2ec-5e01236d9d49"
      },
      "execution_count": 10,
      "outputs": [
        {
          "output_type": "display_data",
          "data": {
            "text/plain": [
              "<Figure size 1000x600 with 1 Axes>"
            ],
            "image/png": "[encoded data removed]"
          },
          "metadata": {}
        },
        {
          "output_type": "display_data",
          "data": {
            "text/html": [
              "<html>\n",
              "<head><meta charset=\"utf-8\" /></head>\n",
              "<body>\n",
              "    <div>            <script src=\"https://cdnjs.cloudflare.com/ajax/libs/mathjax/2.7.5/MathJax.js?config=TeX-AMS-MML_SVG\"></script><script type=\"text/javascript\">if (window.MathJax && window.MathJax.Hub && window.MathJax.Hub.Config) {window.MathJax.Hub.Config({SVG: {font: \"STIX-Web\"}});}</script>                <script type=\"text/javascript\">window.PlotlyConfig = {MathJaxConfig: 'local'};</script>\n",
              "        <script charset=\"utf-8\" src=\"https://cdn.plot.ly/plotly-3.1.1.min.js\" integrity=\"sha256-HUEFyfiTnZJxCxur99FjbKYTvKSzwDaD3/x5TqHpFu4=\" crossorigin=\"anonymous\"></script>                <div id=\"e8a840fd-5efb-4dd1-a7cf-8ce3034ede08\" class=\"plotly-graph-div\" style=\"height:525px; width:100%;\"></div>            <script type=\"text/javascript\">                window.PLOTLYENV=window.PLOTLYENV || {};                                if (document.getElementById(\"e8a840fd-5efb-4dd1-a7cf-8ce3034ede08\")) {                    Plotly.newPlot(                        \"e8a840fd-5efb-4dd1-a7cf-8ce3034ede08\",                        [{\"hovertemplate\":\"PRODUCTLINE=%{x}\\u003cbr\\u003eTotal_Sales=%{y}\\u003cextra\\u003e\\u003c\\u002fextra\\u003e\",\"legendgroup\":\"Classic Cars\",\"marker\":{\"color\":\"#636efa\",\"pattern\":{\"shape\":\"\"}},\"name\":\"Classic Cars\",\"orientation\":\"v\",\"showlegend\":true,\"textposition\":\"auto\",\"x\":[\"Classic Cars\"],\"xaxis\":\"x\",\"y\":{\"dtype\":\"f8\",\"bdata\":\"QuF61OyPTEE=\"},\"yaxis\":\"y\",\"type\":\"bar\"},{\"hovertemplate\":\"PRODUCTLINE=%{x}\\u003cbr\\u003eTotal_Sales=%{y}\\u003cextra\\u003e\\u003c\\u002fextra\\u003e\",\"legendgroup\":\"Vintage Cars\",\"marker\":{\"color\":\"#EF553B\",\"pattern\":{\"shape\":\"\"}},\"name\":\"Vintage Cars\",\"orientation\":\"v\",\"showlegend\":true,\"textposition\":\"auto\",\"x\":[\"Vintage Cars\"],\"xaxis\":\"x\",\"y\":{\"dtype\":\"f8\",\"bdata\":\"ZGZm5pXcO0E=\"},\"yaxis\":\"y\",\"type\":\"bar\"},{\"hovertemplate\":\"PRODUCTLINE=%{x}\\u003cbr\\u003eTotal_Sales=%{y}\\u003cextra\\u003e\\u003c\\u002fextra\\u003e\",\"legendgroup\":\"Trucks and Buses\",\"marker\":{\"color\":\"#00cc96\",\"pattern\":{\"shape\":\"\"}},\"name\":\"Trucks and Buses\",\"orientation\":\"v\",\"showlegend\":true,\"textposition\":\"auto\",\"x\":[\"Trucks and Buses\"],\"xaxis\":\"x\",\"y\":{\"dtype\":\"f8\",\"bdata\":\"bz0K1201MUE=\"},\"yaxis\":\"y\",\"type\":\"bar\"},{\"hovertemplate\":\"PRODUCTLINE=%{x}\\u003cbr\\u003eTotal_Sales=%{y}\\u003cextra\\u003e\\u003c\\u002fextra\\u003e\",\"legendgroup\":\"Motorcycles\",\"marker\":{\"color\":\"#ab63fa\",\"pattern\":{\"shape\":\"\"}},\"name\":\"Motorcycles\",\"orientation\":\"v\",\"showlegend\":true,\"textposition\":\"auto\",\"x\":[\"Motorcycles\"],\"xaxis\":\"x\",\"y\":{\"dtype\":\"f8\",\"bdata\":\"DNejsGQvMUE=\"},\"yaxis\":\"y\",\"type\":\"bar\"},{\"hovertemplate\":\"PRODUCTLINE=%{x}\\u003cbr\\u003eTotal_Sales=%{y}\\u003cextra\\u003e\\u003c\\u002fextra\\u003e\",\"legendgroup\":\"Planes\",\"marker\":{\"color\":\"#FFA15A\",\"pattern\":{\"shape\":\"\"}},\"name\":\"Planes\",\"orientation\":\"v\",\"showlegend\":true,\"textposition\":\"auto\",\"x\":[\"Planes\"],\"xaxis\":\"x\",\"y\":{\"dtype\":\"f8\",\"bdata\":\"2aNwvSIkLUE=\"},\"yaxis\":\"y\",\"type\":\"bar\"},{\"hovertemplate\":\"PRODUCTLINE=%{x}\\u003cbr\\u003eTotal_Sales=%{y}\\u003cextra\\u003e\\u003c\\u002fextra\\u003e\",\"legendgroup\":\"Ships\",\"marker\":{\"color\":\"#19d3f3\",\"pattern\":{\"shape\":\"\"}},\"name\":\"Ships\",\"orientation\":\"v\",\"showlegend\":true,\"textposition\":\"auto\",\"x\":[\"Ships\"],\"xaxis\":\"x\",\"y\":{\"dtype\":\"f8\",\"bdata\":\"KVyPQorNJUE=\"},\"yaxis\":\"y\",\"type\":\"bar\"},{\"hovertemplate\":\"PRODUCTLINE=%{x}\\u003cbr\\u003eTotal_Sales=%{y}\\u003cextra\\u003e\\u003c\\u002fextra\\u003e\",\"legendgroup\":\"Trains\",\"marker\":{\"color\":\"#FF6692\",\"pattern\":{\"shape\":\"\"}},\"name\":\"Trains\",\"orientation\":\"v\",\"showlegend\":true,\"textposition\":\"auto\",\"x\":[\"Trains\"],\"xaxis\":\"x\",\"y\":{\"dtype\":\"f8\",\"bdata\":\"KFyPwhueC0E=\"},\"yaxis\":\"y\",\"type\":\"bar\"}],                        {\"template\":{\"data\":{\"histogram2dcontour\":[{\"type\":\"histogram2dcontour\",\"colorbar\":{\"outlinewidth\":0,\"ticks\":\"\"},\"colorscale\":[[0.0,\"#0d0887\"],[0.1111111111111111,\"#46039f\"],[0.2222222222222222,\"#7201a8\"],[0.3333333333333333,\"#9c179e\"],[0.4444444444444444,\"#bd3786\"],[0.5555555555555556,\"#d8576b\"],[0.6666666666666666,\"#ed7953\"],[0.7777777777777778,\"#fb9f3a\"],[0.8888888888888888,\"#fdca26\"],[1.0,\"#f0f921\"]]}],\"choropleth\":[{\"type\":\"choropleth\",\"colorbar\":{\"outlinewidth\":0,\"ticks\":\"\"}}],\"histogram2d\":[{\"type\":\"histogram2d\",\"colorbar\":{\"outlinewidth\":0,\"ticks\":\"\"},\"colorscale\":[[0.0,\"#0d0887\"],[0.1111111111111111,\"#46039f\"],[0.2222222222222222,\"#7201a8\"],[0.3333333333333333,\"#9c179e\"],[0.4444444444444444,\"#bd3786\"],[0.5555555555555556,\"#d8576b\"],[0.6666666666666666,\"#ed7953\"],[0.7777777777777778,\"#fb9f3a\"],[0.8888888888888888,\"#fdca26\"],[1.0,\"#f0f921\"]]}],\"heatmap\":[{\"type\":\"heatmap\",\"colorbar\":{\"outlinewidth\":0,\"ticks\":\"\"},\"colorscale\":[[0.0,\"#0d0887\"],[0.1111111111111111,\"#46039f\"],[0.2222222222222222,\"#7201a8\"],[0.3333333333333333,\"#9c179e\"],[0.4444444444444444,\"#bd3786\"],[0.5555555555555556,\"#d8576b\"],[0.6666666666666666,\"#ed7953\"],[0.7777777777777778,\"#fb9f3a\"],[0.8888888888888888,\"#fdca26\"],[1.0,\"#f0f921\"]]}],\"contourcarpet\":[{\"type\":\"contourcarpet\",\"colorbar\":{\"outlinewidth\":0,\"ticks\":\"\"}}],\"contour\":[{\"type\":\"contour\",\"colorbar\":{\"outlinewidth\":0,\"ticks\":\"\"},\"colorscale\":[[0.0,\"#0d0887\"],[0.1111111111111111,\"#46039f\"],[0.2222222222222222,\"#7201a8\"],[0.3333333333333333,\"#9c179e\"],[0.4444444444444444,\"#bd3786\"],[0.5555555555555556,\"#d8576b\"],[0.6666666666666666,\"#ed7953\"],[0.7777777777777778,\"#fb9f3a\"],[0.8888888888888888,\"#fdca26\"],[1.0,\"#f0f921\"]]}],\"surface\":[{\"type\":\"surface\",\"colorbar\":{\"outlinewidth\":0,\"ticks\":\"\"},\"colorscale\":[[0.0,\"#0d0887\"],[0.1111111111111111,\"#46039f\"],[0.2222222222222222,\"#7201a8\"],[0.3333333333333333,\"#9c179e\"],[0.4444444444444444,\"#bd3786\"],[0.5555555555555556,\"#d8576b\"],[0.6666666666666666,\"#ed7953\"],[0.7777777777777778,\"#fb9f3a\"],[0.8888888888888888,\"#fdca26\"],[1.0,\"#f0f921\"]]}],\"mesh3d\":[{\"type\":\"mesh3d\",\"colorbar\":{\"outlinewidth\":0,\"ticks\":\"\"}}],\"scatter\":[{\"fillpattern\":{\"fillmode\":\"overlay\",\"size\":10,\"solidity\":0.2},\"type\":\"scatter\"}],\"parcoords\":[{\"type\":\"parcoords\",\"line\":{\"colorbar\":{\"outlinewidth\":0,\"ticks\":\"\"}}}],\"scatterpolargl\":[{\"type\":\"scatterpolargl\",\"marker\":{\"colorbar\":{\"outlinewidth\":0,\"ticks\":\"\"}}}],\"bar\":[{\"error_x\":{\"color\":\"#2a3f5f\"},\"error_y\":{\"color\":\"#2a3f5f\"},\"marker\":{\"line\":{\"color\":\"#E5ECF6\",\"width\":0.5},\"pattern\":{\"fillmode\":\"overlay\",\"size\":10,\"solidity\":0.2}},\"type\":\"bar\"}],\"scattergeo\":[{\"type\":\"scattergeo\",\"marker\":{\"colorbar\":{\"outlinewidth\":0,\"ticks\":\"\"}}}],\"scatterpolar\":[{\"type\":\"scatterpolar\",\"marker\":{\"colorbar\":{\"outlinewidth\":0,\"ticks\":\"\"}}}],\"histogram\":[{\"marker\":{\"pattern\":{\"fillmode\":\"overlay\",\"size\":10,\"solidity\":0.2}},\"type\":\"histogram\"}],\"scattergl\":[{\"type\":\"scattergl\",\"marker\":{\"colorbar\":{\"outlinewidth\":0,\"ticks\":\"\"}}}],\"scatter3d\":[{\"type\":\"scatter3d\",\"line\":{\"colorbar\":{\"outlinewidth\":0,\"ticks\":\"\"}},\"marker\":{\"colorbar\":{\"outlinewidth\":0,\"ticks\":\"\"}}}],\"scattermap\":[{\"type\":\"scattermap\",\"marker\":{\"colorbar\":{\"outlinewidth\":0,\"ticks\":\"\"}}}],\"scattermapbox\":[{\"type\":\"scattermapbox\",\"marker\":{\"colorbar\":{\"outlinewidth\":0,\"ticks\":\"\"}}}],\"scatterternary\":[{\"type\":\"scatterternary\",\"marker\":{\"colorbar\":{\"outlinewidth\":0,\"ticks\":\"\"}}}],\"scattercarpet\":[{\"type\":\"scattercarpet\",\"marker\":{\"colorbar\":{\"outlinewidth\":0,\"ticks\":\"\"}}}],\"carpet\":[{\"aaxis\":{\"endlinecolor\":\"#2a3f5f\",\"gridcolor\":\"white\",\"linecolor\":\"white\",\"minorgridcolor\":\"white\",\"startlinecolor\":\"#2a3f5f\"},\"baxis\":{\"endlinecolor\":\"#2a3f5f\",\"gridcolor\":\"white\",\"linecolor\":\"white\",\"minorgridcolor\":\"white\",\"startlinecolor\":\"#2a3f5f\"},\"type\":\"carpet\"}],\"table\":[{\"cells\":{\"fill\":{\"color\":\"#EBF0F8\"},\"line\":{\"color\":\"white\"}},\"header\":{\"fill\":{\"color\":\"#C8D4E3\"},\"line\":{\"color\":\"white\"}},\"type\":\"table\"}],\"barpolar\":[{\"marker\":{\"line\":{\"color\":\"#E5ECF6\",\"width\":0.5},\"pattern\":{\"fillmode\":\"overlay\",\"size\":10,\"solidity\":0.2}},\"type\":\"barpolar\"}],\"pie\":[{\"automargin\":true,\"type\":\"pie\"}]},\"layout\":{\"autotypenumbers\":\"strict\",\"colorway\":[\"#636efa\",\"#EF553B\",\"#00cc96\",\"#ab63fa\",\"#FFA15A\",\"#19d3f3\",\"#FF6692\",\"#B6E880\",\"#FF97FF\",\"#FECB52\"],\"font\":{\"color\":\"#2a3f5f\"},\"hovermode\":\"closest\",\"hoverlabel\":{\"align\":\"left\"},\"paper_bgcolor\":\"white\",\"plot_bgcolor\":\"#E5ECF6\",\"polar\":{\"bgcolor\":\"#E5ECF6\",\"angularaxis\":{\"gridcolor\":\"white\",\"linecolor\":\"white\",\"ticks\":\"\"},\"radialaxis\":{\"gridcolor\":\"white\",\"linecolor\":\"white\",\"ticks\":\"\"}},\"ternary\":{\"bgcolor\":\"#E5ECF6\",\"aaxis\":{\"gridcolor\":\"white\",\"linecolor\":\"white\",\"ticks\":\"\"},\"baxis\":{\"gridcolor\":\"white\",\"linecolor\":\"white\",\"ticks\":\"\"},\"caxis\":{\"gridcolor\":\"white\",\"linecolor\":\"white\",\"ticks\":\"\"}},\"coloraxis\":{\"colorbar\":{\"outlinewidth\":0,\"ticks\":\"\"}},\"colorscale\":{\"sequential\":[[0.0,\"#0d0887\"],[0.1111111111111111,\"#46039f\"],[0.2222222222222222,\"#7201a8\"],[0.3333333333333333,\"#9c179e\"],[0.4444444444444444,\"#bd3786\"],[0.5555555555555556,\"#d8576b\"],[0.6666666666666666,\"#ed7953\"],[0.7777777777777778,\"#fb9f3a\"],[0.8888888888888888,\"#fdca26\"],[1.0,\"#f0f921\"]],\"sequentialminus\":[[0.0,\"#0d0887\"],[0.1111111111111111,\"#46039f\"],[0.2222222222222222,\"#7201a8\"],[0.3333333333333333,\"#9c179e\"],[0.4444444444444444,\"#bd3786\"],[0.5555555555555556,\"#d8576b\"],[0.6666666666666666,\"#ed7953\"],[0.7777777777777778,\"#fb9f3a\"],[0.8888888888888888,\"#fdca26\"],[1.0,\"#f0f921\"]],\"diverging\":[[0,\"#8e0152\"],[0.1,\"#c51b7d\"],[0.2,\"#de77ae\"],[0.3,\"#f1b6da\"],[0.4,\"#fde0ef\"],[0.5,\"#f7f7f7\"],[0.6,\"#e6f5d0\"],[0.7,\"#b8e186\"],[0.8,\"#7fbc41\"],[0.9,\"#4d9221\"],[1,\"#276419\"]]},\"xaxis\":{\"gridcolor\":\"white\",\"linecolor\":\"white\",\"ticks\":\"\",\"title\":{\"standoff\":15},\"zerolinecolor\":\"white\",\"automargin\":true,\"zerolinewidth\":2},\"yaxis\":{\"gridcolor\":\"white\",\"linecolor\":\"white\",\"ticks\":\"\",\"title\":{\"standoff\":15},\"zerolinecolor\":\"white\",\"automargin\":true,\"zerolinewidth\":2},\"scene\":{\"xaxis\":{\"backgroundcolor\":\"#E5ECF6\",\"gridcolor\":\"white\",\"linecolor\":\"white\",\"showbackground\":true,\"ticks\":\"\",\"zerolinecolor\":\"white\",\"gridwidth\":2},\"yaxis\":{\"backgroundcolor\":\"#E5ECF6\",\"gridcolor\":\"white\",\"linecolor\":\"white\",\"showbackground\":true,\"ticks\":\"\",\"zerolinecolor\":\"white\",\"gridwidth\":2},\"zaxis\":{\"backgroundcolor\":\"#E5ECF6\",\"gridcolor\":\"white\",\"linecolor\":\"white\",\"showbackground\":true,\"ticks\":\"\",\"zerolinecolor\":\"white\",\"gridwidth\":2}},\"shapedefaults\":{\"line\":{\"color\":\"#2a3f5f\"}},\"annotationdefaults\":{\"arrowcolor\":\"#2a3f5f\",\"arrowhead\":0,\"arrowwidth\":1},\"geo\":{\"bgcolor\":\"white\",\"landcolor\":\"#E5ECF6\",\"subunitcolor\":\"white\",\"showland\":true,\"showlakes\":true,\"lakecolor\":\"white\"},\"title\":{\"x\":0.05},\"mapbox\":{\"style\":\"light\"}}},\"xaxis\":{\"anchor\":\"y\",\"domain\":[0.0,1.0],\"title\":{\"text\":\"Product Line\"},\"categoryorder\":\"array\",\"categoryarray\":[\"Classic Cars\",\"Vintage Cars\",\"Trucks and Buses\",\"Motorcycles\",\"Planes\",\"Ships\",\"Trains\"]},\"yaxis\":{\"anchor\":\"x\",\"domain\":[0.0,1.0],\"title\":{\"text\":\"Total Sales\"}},\"legend\":{\"title\":{\"text\":\"PRODUCTLINE\"},\"tracegroupgap\":0},\"title\":{\"text\":\"Top 10 Products by Sales\"},\"barmode\":\"relative\"},                        {\"responsive\": true}                    ).then(function(){\n",
              "                            \n",
              "var gd = document.getElementById('e8a840fd-5efb-4dd1-a7cf-8ce3034ede08');\n",
              "var x = new MutationObserver(function (mutations, observer) {{\n",
              "        var display = window.getComputedStyle(gd).display;\n",
              "        if (!display || display === 'none') {{\n",
              "            console.log([gd, 'removed!']);\n",
              "            Plotly.purge(gd);\n",
              "            observer.disconnect();\n",
              "        }}\n",
              "}});\n",
              "\n",
              "// Listen for the removal of the full notebook cells\n",
              "var notebookContainer = gd.closest('#notebook-container');\n",
              "if (notebookContainer) {{\n",
              "    x.observe(notebookContainer, {childList: true});\n",
              "}}\n",
              "\n",
              "// Listen for the clearing of the current output cell\n",
              "var outputEl = gd.closest('.output');\n",
              "if (outputEl) {{\n",
              "    x.observe(outputEl, {childList: true});\n",
              "}}\n",
              "\n",
              "                        })                };            </script>        </div>\n",
              "</body>\n",
              "</html>"
            ]
          },
          "metadata": {}
        }
      ]
    },
    {
      "cell_type": "markdown",
      "source": [
        "## 6. Basic Machine Learning Integration\n",
        "\n",
        "### Description:\n",
        "Train a simple model to predict sales based on QUANTITYORDERED and PRICEEACH.\n",
        "\n",
        "### Azure Equivalent:\n",
        "Use Azure Machine Learning for model training and deployment."
      ],
      "metadata": {
        "id": "XHqsqm5yLUmU"
      }
    },
    {
      "cell_type": "code",
      "source": [
        "from sklearn.linear_model import LinearRegression\n",
        "from sklearn.model_selection import train_test_split\n",
        "from sklearn.metrics import mean_squared_error\n",
        "\n",
        "try:\n",
        "    X = df[[\"QUANTITYORDERED\", \"PRICEEACH\"]]\n",
        "    y = df[\"SALES\"]\n",
        "    X_train, X_test, y_train, y_test = train_test_split(X, y, test_size=0.2, random_state=42)\n",
        "    model = LinearRegression()\n",
        "    model.fit(X_train, y_train)\n",
        "    y_pred = model.predict(X_test)\n",
        "    mse = mean_squared_error(y_test, y_pred)\n",
        "    logger.info(f\"Linear Regression MSE: {mse}\")\n",
        "    print(f\"Model Coefficients: {model.coef_}\")\n",
        "    print(f\"Mean Squared Error: {mse}\")\n",
        "except Exception as e:\n",
        "    logger.error(f\"Error in ML model training: {e}\")\n",
        "    raise"
      ],
      "metadata": {
        "colab": {
          "base_uri": "https://localhost:8080/"
        },
        "id": "a1Lh2-dFLUmU",
        "outputId": "e56e8460-0e5c-44fb-f2b5-d8d4b99f0836"
      },
      "execution_count": 11,
      "outputs": [
        {
          "output_type": "stream",
          "name": "stdout",
          "text": [
            "Model Coefficients: [95.30277332 57.87432888]\n",
            "Mean Squared Error: 680744.7976350911\n"
          ]
        }
      ]
    },
    {
      "cell_type": "markdown",
      "source": [
        "## 7. Proposal for Production Deployment\n",
        "\n",
        "### Proposed Model:\n",
        "Adopt a hybrid Azure Blob Storage + Azure SQL Database pipeline with Azure Data Factory (ADF) for ETL orchestration and Azure Machine Learning for predictive analytics. Integrate with Power BI for dashboards and Azure Monitor for logging.\n",
        "\n",
        "### Why Best:\n",
        "- **Scalability:** Azure Blob and SQL Hyperscale handle petabyte-scale data with auto-scaling.\n",
        "- **Automation:** ADF automates ETL, reducing manual steps.\n",
        "- **Analytics:** Advanced SQL and ML enable deep insights (e.g., predictive sales).\n",
        "- **Security:** RBAC, encryption, and data masking ensure compliance.\n",
        "- **Integration:** Seamless with Power BI, Azure ML, and Stream Analytics for real-time insights.\n",
        "\n",
        "### Steps for Azure Deployment:\n",
        "1. Provision Azure Blob Storage and SQL Database (use free tier for testing).\n",
        "2. Set up ADF pipeline: Copy Data (Blob to SQL), Data Flow (cleaning), Stored Procedure (queries).\n",
        "3. Train ML model in Azure ML, deploy as endpoint.\n",
        "4. Enable Azure AD authentication and data encryption.\n",
        "5. Monitor with Azure Monitor; optimize costs with Hot/Cool Blob tiers."
      ],
      "metadata": {
        "id": "rQVtxh8VLUmU"
      }
    },
    {
      "cell_type": "markdown",
      "source": [
        "## 8. Cleanup\n",
        "\n",
        "### Description:\n",
        "Close connections and remove temporary files."
      ],
      "metadata": {
        "id": "EjUEZh-zLUmU"
      }
    },
    {
      "cell_type": "code",
      "source": [
        "import os\n",
        "try:\n",
        "    conn.close()\n",
        "    logger.info(\"Database connection closed\")\n",
        "    for file in [emulated_blob_path, \"/content/customers.csv\", database_path]:\n",
        "        if os.path.exists(file):\n",
        "            os.remove(file)\n",
        "            logger.info(f\"Removed file: {file}\")\n",
        "    print(\"Project complete. All resources cleaned up.\")\n",
        "except Exception as e:\n",
        "    logger.error(f\"Error during cleanup: {e}\")\n",
        "    raise"
      ],
      "metadata": {
        "colab": {
          "base_uri": "https://localhost:8080/"
        },
        "id": "NCL6gQprLUmU",
        "outputId": "42e586f5-2a42-483f-e615-c72dbe948695"
      },
      "execution_count": 12,
      "outputs": [
        {
          "output_type": "stream",
          "name": "stdout",
          "text": [
            "Project complete. All resources cleaned up.\n"
          ]
        }
      ]
    }
  ]
}
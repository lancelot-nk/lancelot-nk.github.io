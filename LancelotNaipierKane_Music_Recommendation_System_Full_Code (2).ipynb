{
  "cells": [
    {
      "cell_type": "markdown",
      "metadata": {
        "id": "DyAjEw4OHmDb"
      },
      "source": [
        "# **Music Recommendation System**"
      ]
    },
    {
      "cell_type": "markdown",
      "metadata": {
        "id": "FMCaC7Q_tq1m"
      },
      "source": [
        "## **Problem Definition**\n",
        "\n",
        "### **The Context:**\n",
        "\n",
        " - Why is this problem important to solve?\n",
        "\n",
        "### **The objective:**\n",
        "\n",
        " - What is the intended goal?\n",
        "\n",
        "### **The key questions:**\n",
        "\n",
        "- What are the key questions that need to be answered?\n",
        "\n",
        "### **The problem formulation**:\n",
        "\n",
        "- What is it that we are trying to solve using data science?"
      ]
    },
    {
      "cell_type": "markdown",
      "metadata": {
        "id": "BVUiyhYTHS1t"
      },
      "source": [
        "## **Data Dictionary**\n",
        "\n",
        "The core data is the Taste Profile Subset released by the Echo Nest as part of the Million Song Dataset. There are two files in this dataset. The first file contains the details about the song id, titles, release, artist name, and the year of release. The second file contains the user id, song id, and the play count of users.\n",
        "\n",
        "**song_data**\n",
        "\n",
        "- song_id - A unique id given to every song\n",
        "- title - Title of the song\n",
        "- Release - Name of the released album\n",
        "- Artist_name - Name of the artist\n",
        "- year - Year of release\n",
        "\n",
        "**count_data**\n",
        "\n",
        "- user _id - A unique id given to the user\n",
        "- song_id - A unique id given to the song\n",
        "- play_count - Number of times the song was played\n",
        "\n",
        "## **Data Source**\n",
        "http://millionsongdataset.com/"
      ]
    },
    {
      "cell_type": "markdown",
      "metadata": {
        "id": "NRJtXkTrHxMQ"
      },
      "source": [
        "### **Importing Libraries and the Dataset**"
      ]
    },
    {
      "cell_type": "markdown",
      "source": [
        "**Note**: After running this commands, you’ll be prompted to restart your notebook/runtime. Please go ahead and do that. Once restarted, simply proceed to the next step of your workflow"
      ],
      "metadata": {
        "id": "eVe1oaCKs0MJ"
      }
    },
    {
      "cell_type": "code",
      "source": [
        "!pip install numpy==1.26.0"
      ],
      "metadata": {
        "colab": {
          "base_uri": "https://localhost:8080/",
          "height": 391
        },
        "id": "4OdxhXBktOTo",
        "outputId": "f384a36c-c89c-426f-b147-e61d2df5202d"
      },
      "execution_count": 1,
      "outputs": [
        {
          "output_type": "stream",
          "name": "stdout",
          "text": [
            "Collecting numpy==1.26.0\n",
            "  Downloading numpy-1.26.0-cp312-cp312-manylinux_2_17_x86_64.manylinux2014_x86_64.whl.metadata (58 kB)\n",
            "\u001b[?25l     \u001b[90m━━━━━━━━━━━━━━━━━━━━━━━━━━━━━━━━━━━━━━━━\u001b[0m \u001b[32m0.0/58.5 kB\u001b[0m \u001b[31m?\u001b[0m eta \u001b[36m-:--:--\u001b[0m\r\u001b[2K     \u001b[90m━━━━━━━━━━━━━━━━━━━━━━━━━━━━━━━━━━━━━━━━\u001b[0m \u001b[32m58.5/58.5 kB\u001b[0m \u001b[31m2.0 MB/s\u001b[0m eta \u001b[36m0:00:00\u001b[0m\n",
            "\u001b[?25hDownloading numpy-1.26.0-cp312-cp312-manylinux_2_17_x86_64.manylinux2014_x86_64.whl (17.9 MB)\n",
            "\u001b[2K   \u001b[90m━━━━━━━━━━━━━━━━━━━━━━━━━━━━━━━━━━━━━━━━\u001b[0m \u001b[32m17.9/17.9 MB\u001b[0m \u001b[31m65.8 MB/s\u001b[0m eta \u001b[36m0:00:00\u001b[0m\n",
            "\u001b[?25hInstalling collected packages: numpy\n",
            "  Attempting uninstall: numpy\n",
            "    Found existing installation: numpy 2.0.2\n",
            "    Uninstalling numpy-2.0.2:\n",
            "      Successfully uninstalled numpy-2.0.2\n",
            "\u001b[31mERROR: pip's dependency resolver does not currently take into account all the packages that are installed. This behaviour is the source of the following dependency conflicts.\n",
            "opencv-python-headless 4.12.0.88 requires numpy<2.3.0,>=2; python_version >= \"3.9\", but you have numpy 1.26.0 which is incompatible.\n",
            "opencv-contrib-python 4.12.0.88 requires numpy<2.3.0,>=2; python_version >= \"3.9\", but you have numpy 1.26.0 which is incompatible.\n",
            "thinc 8.3.6 requires numpy<3.0.0,>=2.0.0, but you have numpy 1.26.0 which is incompatible.\n",
            "opencv-python 4.12.0.88 requires numpy<2.3.0,>=2; python_version >= \"3.9\", but you have numpy 1.26.0 which is incompatible.\u001b[0m\u001b[31m\n",
            "\u001b[0mSuccessfully installed numpy-1.26.0\n"
          ]
        },
        {
          "output_type": "display_data",
          "data": {
            "application/vnd.colab-display-data+json": {
              "pip_warning": {
                "packages": [
                  "numpy"
                ]
              },
              "id": "4a1207bb7bab4fb1a32b3f35f4190e6b"
            }
          },
          "metadata": {}
        }
      ]
    },
    {
      "cell_type": "code",
      "source": [
        "#mount drive\n",
        "from google.colab import drive\n",
        "drive.mount('/content/drive')"
      ],
      "metadata": {
        "colab": {
          "base_uri": "https://localhost:8080/"
        },
        "id": "Vy_2kxnBkItp",
        "outputId": "79f48a3e-ff0a-4ef0-9474-aec7c56f4635"
      },
      "execution_count": 1,
      "outputs": [
        {
          "output_type": "stream",
          "name": "stdout",
          "text": [
            "Mounted at /content/drive\n"
          ]
        }
      ]
    },
    {
      "cell_type": "code",
      "execution_count": 2,
      "metadata": {
        "id": "R4YvKrpzId3K"
      },
      "outputs": [],
      "source": [
        "# Import Warnings\n",
        "# Used to ignore the warning given as output of the code\n",
        "import warnings\n",
        "warnings.filterwarnings('ignore')\n",
        "\n",
        "# Basic libraries of python for numeric and dataframe computations\n",
        "import numpy as np\n",
        "import pandas as pd\n",
        "\n",
        "# Import Matplotlib the Basic library for data visualization\n",
        "# Import seaborn - Slightly advanced library for data visualization\n",
        "import matplotlib.pyplot as plt\n",
        "import seaborn as sns\n",
        "\n",
        "# Import the required library to compute the cosine similarity between two vectors\n",
        "from sklearn.metrics.pairwise import cosine_similarity\n",
        "\n",
        "# Import defaultdict from collections A dictionary output that does not raise a key error\n",
        "from collections import defaultdict\n",
        "\n",
        "# Impoort mean_squared_error : a performance metrics in sklearn\n",
        "from sklearn.metrics import mean_squared_error\n"
      ]
    },
    {
      "cell_type": "markdown",
      "metadata": {
        "id": "bUGKX140wf-S"
      },
      "source": [
        "### **Load the dataset**"
      ]
    },
    {
      "cell_type": "code",
      "execution_count": 3,
      "metadata": {
        "id": "si6ulhIYImck"
      },
      "outputs": [],
      "source": [
        "# Importing the datasets\n",
        "count_data = pd.read_csv('/content/drive/MyDrive/Python Course/count_data.csv')\n",
        "song_data = pd.read_csv('/content/drive/MyDrive/Python Course/song_data.csv')"
      ]
    },
    {
      "cell_type": "markdown",
      "metadata": {
        "id": "12TKB2M7XyC6"
      },
      "source": [
        "### **Understanding the data by viewing a few observations**"
      ]
    },
    {
      "cell_type": "code",
      "execution_count": 4,
      "metadata": {
        "id": "GCLzBuYiXlPM",
        "colab": {
          "base_uri": "https://localhost:8080/"
        },
        "outputId": "996d0a53-2f47-49d1-e3dd-9a9917dedda8"
      },
      "outputs": [
        {
          "output_type": "stream",
          "name": "stdout",
          "text": [
            "   Unnamed: 0                                   user_id             song_id  \\\n",
            "0           0  b80344d063b5ccb3212f76538f3d9e43d87dca9e  SOAKIMP12A8C130995   \n",
            "1           1  b80344d063b5ccb3212f76538f3d9e43d87dca9e  SOBBMDR12A8C13253B   \n",
            "2           2  b80344d063b5ccb3212f76538f3d9e43d87dca9e  SOBXHDL12A81C204C0   \n",
            "3           3  b80344d063b5ccb3212f76538f3d9e43d87dca9e  SOBYHAJ12A6701BF1D   \n",
            "4           4  b80344d063b5ccb3212f76538f3d9e43d87dca9e  SODACBL12A8C13C273   \n",
            "5           5  b80344d063b5ccb3212f76538f3d9e43d87dca9e  SODDNQT12A6D4F5F7E   \n",
            "6           6  b80344d063b5ccb3212f76538f3d9e43d87dca9e  SODXRTY12AB0180F3B   \n",
            "7           7  b80344d063b5ccb3212f76538f3d9e43d87dca9e  SOFGUAY12AB017B0A8   \n",
            "8           8  b80344d063b5ccb3212f76538f3d9e43d87dca9e  SOFRQTD12A81C233C0   \n",
            "9           9  b80344d063b5ccb3212f76538f3d9e43d87dca9e  SOHQWYZ12A6D4FA701   \n",
            "\n",
            "   play_count  \n",
            "0           1  \n",
            "1           2  \n",
            "2           1  \n",
            "3           1  \n",
            "4           1  \n",
            "5           5  \n",
            "6           1  \n",
            "7           1  \n",
            "8           1  \n",
            "9           1  \n"
          ]
        }
      ],
      "source": [
        "# Display first 10 records of count_df data\n",
        "print(count_data.head(10))\n"
      ]
    },
    {
      "cell_type": "code",
      "execution_count": 5,
      "metadata": {
        "id": "tV1ed0ApXpu3",
        "colab": {
          "base_uri": "https://localhost:8080/"
        },
        "outputId": "671b557e-68ae-4db5-c667-43e89c58a6a2"
      },
      "outputs": [
        {
          "output_type": "stream",
          "name": "stdout",
          "text": [
            "              song_id                                              title  \\\n",
            "0  SOQMMHC12AB0180CB8                                       Silent Night   \n",
            "1  SOVFVAK12A8C1350D9                                        Tanssi vaan   \n",
            "2  SOGTUKN12AB017F4F1                                  No One Could Ever   \n",
            "3  SOBNYVR12A8C13558C                                      Si Vos Querés   \n",
            "4  SOHSBXH12A8C13B0DF                                   Tangle Of Aspens   \n",
            "5  SOZVAPQ12A8C13B63C  Symphony No. 1 G minor \"Sinfonie Serieuse\"/All...   \n",
            "6  SOQVRHI12A6D4FB2D7                                   We Have Got Love   \n",
            "7  SOEYRFT12AB018936C                                  2 Da Beat Ch'yall   \n",
            "8  SOPMIYT12A6D4F851E                                            Goodbye   \n",
            "9  SOJCFMH12A8C13B0C2                         Mama_ mama can't you see ?   \n",
            "\n",
            "                                release  \\\n",
            "0                 Monster Ballads X-Mas   \n",
            "1                           Karkuteillä   \n",
            "2                                Butter   \n",
            "3                               De Culo   \n",
            "4  Rene Ablaze Presents Winter Sessions   \n",
            "5      Berwald: Symphonies Nos. 1/2/3/4   \n",
            "6             Strictly The Best Vol. 34   \n",
            "7                               Da Bomb   \n",
            "8                             Danny Boy   \n",
            "9  March to cadence with the US marines   \n",
            "\n",
            "                                      artist_name  year  \n",
            "0                                Faster Pussy cat  2003  \n",
            "1                                Karkkiautomaatti  1995  \n",
            "2                                  Hudson Mohawke  2006  \n",
            "3                                     Yerba Brava  2003  \n",
            "4                                      Der Mystic     0  \n",
            "5                                David Montgomery     0  \n",
            "6                              Sasha / Turbulence     0  \n",
            "7                                      Kris Kross  1993  \n",
            "8                                    Joseph Locke     0  \n",
            "9  The Sun Harbor's Chorus-Documentary Recordings     0  \n"
          ]
        }
      ],
      "source": [
        "# Display first 10 records of song_df data\n",
        "print(song_data.head(10))\n"
      ]
    },
    {
      "cell_type": "markdown",
      "metadata": {
        "id": "bvKb5FHcXzcN"
      },
      "source": [
        "### **Let us check the data types and and missing values of each column**"
      ]
    },
    {
      "cell_type": "code",
      "execution_count": 6,
      "metadata": {
        "id": "yyoHc_cnX19J",
        "colab": {
          "base_uri": "https://localhost:8080/"
        },
        "outputId": "d050cd65-8956-4591-a62f-acdbf0829194"
      },
      "outputs": [
        {
          "output_type": "stream",
          "name": "stdout",
          "text": [
            "<class 'pandas.core.frame.DataFrame'>\n",
            "RangeIndex: 2000000 entries, 0 to 1999999\n",
            "Data columns (total 4 columns):\n",
            " #   Column      Dtype \n",
            "---  ------      ----- \n",
            " 0   Unnamed: 0  int64 \n",
            " 1   user_id     object\n",
            " 2   song_id     object\n",
            " 3   play_count  int64 \n",
            "dtypes: int64(2), object(2)\n",
            "memory usage: 61.0+ MB\n",
            "None\n",
            "Missing values in count_data:\n",
            "Unnamed: 0    0\n",
            "user_id       0\n",
            "song_id       0\n",
            "play_count    0\n",
            "dtype: int64\n"
          ]
        }
      ],
      "source": [
        "# Display info of count_df\n",
        "print(count_data.info())\n",
        "\n",
        "# missing values for each column in count_data\n",
        "print(\"Missing values in count_data:\")\n",
        "print(count_data.isnull().sum())"
      ]
    },
    {
      "cell_type": "code",
      "execution_count": 7,
      "metadata": {
        "id": "rz3zDx_LX42y",
        "colab": {
          "base_uri": "https://localhost:8080/"
        },
        "outputId": "93465ef4-86a5-4e43-948a-bdb24c835f4a"
      },
      "outputs": [
        {
          "output_type": "stream",
          "name": "stdout",
          "text": [
            "<class 'pandas.core.frame.DataFrame'>\n",
            "RangeIndex: 1000000 entries, 0 to 999999\n",
            "Data columns (total 5 columns):\n",
            " #   Column       Non-Null Count    Dtype \n",
            "---  ------       --------------    ----- \n",
            " 0   song_id      1000000 non-null  object\n",
            " 1   title        999983 non-null   object\n",
            " 2   release      999993 non-null   object\n",
            " 3   artist_name  1000000 non-null  object\n",
            " 4   year         1000000 non-null  int64 \n",
            "dtypes: int64(1), object(4)\n",
            "memory usage: 38.1+ MB\n",
            "None\n",
            "Missing values in song_data:\n",
            "song_id         0\n",
            "title          17\n",
            "release         7\n",
            "artist_name     0\n",
            "year            0\n",
            "dtype: int64\n"
          ]
        }
      ],
      "source": [
        "# Display info of song_df\n",
        "print(song_data.info())\n",
        "\n",
        "# Display missing values for each column in song_data\n",
        "print(\"Missing values in song_data:\")\n",
        "print(song_data.isnull().sum())"
      ]
    },
    {
      "cell_type": "markdown",
      "metadata": {
        "id": "Ze2TlWxpYadn"
      },
      "source": [
        "#### **Observations and Insights: Count data has 2 million rows and song data has 1 million - there appears to be a splitting. Count data has no missing values but song data has 17 missing title values and release has 7, we will need to 0 or n/a convert these. song data has more columns than count data as expected so we will merge count into song based on song id and drop the unnamed column below. We will consider cleaning missing values when necessary.**\n"
      ]
    },
    {
      "cell_type": "code",
      "execution_count": 8,
      "metadata": {
        "id": "oTeurvID2T9U"
      },
      "outputs": [],
      "source": [
        "# Left merge count_df and song_df on \"song_id\". Drop duplicates from song_df data simultaneously\n",
        "df = count_data.merge(song_data.drop_duplicates(subset='song_id'), on='song_id', how='left')\n",
        "\n",
        "# Drop the column 'Unnamed: 0'\n",
        "df = df.drop(columns='Unnamed: 0')\n",
        "## Name the obtained dataframe as \"df\""
      ]
    },
    {
      "cell_type": "markdown",
      "metadata": {
        "id": "yWeY9ZT43XFX"
      },
      "source": [
        "**Think About It:** As the user_id and song_id are encrypted. Can they be encoded to numeric features?"
      ]
    },
    {
      "cell_type": "code",
      "execution_count": 9,
      "metadata": {
        "id": "oxeoOVxh2T9U"
      },
      "outputs": [],
      "source": [
        "# Apply label encoding for \"user_id\" and \"song_id\"\n",
        "\n",
        "#import\n",
        "from sklearn.preprocessing import LabelEncoder\n",
        "\n",
        "#encoders\n",
        "user_encoder = LabelEncoder()\n",
        "song_encoder = LabelEncoder()\n",
        "\n",
        "# Encode user_id and song_id\n",
        "df['user_id'] = user_encoder.fit_transform(df['user_id'])\n",
        "df['song_id'] = song_encoder.fit_transform(df['song_id'])"
      ]
    },
    {
      "cell_type": "markdown",
      "metadata": {
        "id": "6Q9EFYwj35Ju"
      },
      "source": [
        "**Think About It:** As the data also contains users who have listened to very few songs and vice versa, is it required to filter the data so that it contains users who have listened to a good count of songs and vice versa?"
      ]
    },
    {
      "cell_type": "markdown",
      "metadata": {
        "id": "gcY5LKAQvk9J"
      },
      "source": [
        "A dataset of size 2000000 rows x 7 columns can be quite large and may require a lot of computing resources to process. This can lead to long processing times and can make it difficult to train and evaluate your model efficiently.\n",
        "In order to address this issue, it may be necessary to trim down your dataset to a more manageable size."
      ]
    },
    {
      "cell_type": "code",
      "execution_count": 10,
      "metadata": {
        "id": "7GGH9TW0_9uX"
      },
      "outputs": [],
      "source": [
        "# Get the column containing the users\n",
        "users = df.user_id\n",
        "\n",
        "# Create a dictionary that maps users(listeners) to the number of songs that they have listened to\n",
        "playing_count = dict()\n",
        "\n",
        "for user in users:\n",
        "    # If we already have the user, just add 1 to their playing count\n",
        "    if user in playing_count:\n",
        "        playing_count[user] += 1\n",
        "\n",
        "    # Otherwise, set their playing count to 1\n",
        "    else:\n",
        "        playing_count[user] = 1"
      ]
    },
    {
      "cell_type": "code",
      "execution_count": 11,
      "metadata": {
        "id": "-cc6mOK7_9uX"
      },
      "outputs": [],
      "source": [
        "# We want our users to have listened at least 90 songs\n",
        "SONG_COUNT_CUTOFF = 90\n",
        "\n",
        "# Create a list of users who need to be removed\n",
        "remove_users = []\n",
        "\n",
        "for user, num_songs in playing_count.items():\n",
        "\n",
        "    if num_songs < SONG_COUNT_CUTOFF:\n",
        "        remove_users.append(user)\n",
        "\n",
        "df = df.loc[ ~ df.user_id.isin(remove_users)]"
      ]
    },
    {
      "cell_type": "code",
      "execution_count": 12,
      "metadata": {
        "id": "B5BS-Wk5_9uY"
      },
      "outputs": [],
      "source": [
        "# Get the column containing the songs\n",
        "songs = df.song_id\n",
        "\n",
        "# Create a dictionary that maps songs to its number of users(listeners)\n",
        "playing_count = dict()\n",
        "\n",
        "for song in songs:\n",
        "    # If we already have the song, just add 1 to their playing count\n",
        "    if song in playing_count:\n",
        "        playing_count[song] += 1\n",
        "\n",
        "    # Otherwise, set their playing count to 1\n",
        "    else:\n",
        "        playing_count[song] = 1"
      ]
    },
    {
      "cell_type": "code",
      "execution_count": 13,
      "metadata": {
        "id": "_nCtGwGO_9uY"
      },
      "outputs": [],
      "source": [
        "# We want our song to be listened by atleast 120 users to be considred\n",
        "LISTENER_COUNT_CUTOFF = 120\n",
        "\n",
        "remove_songs = []\n",
        "\n",
        "for song, num_users in playing_count.items():\n",
        "    if num_users < LISTENER_COUNT_CUTOFF:\n",
        "        remove_songs.append(song)\n",
        "\n",
        "df_final= df.loc[ ~ df.song_id.isin(remove_songs)]"
      ]
    },
    {
      "cell_type": "markdown",
      "metadata": {
        "id": "j5XPPi_vXR9B"
      },
      "source": [
        "Out of all the songs available, songs with play_count less than or equal to 5 are in almost 90% abundance. So for building the recommendation system let us consider only those songs."
      ]
    },
    {
      "cell_type": "code",
      "execution_count": 14,
      "metadata": {
        "id": "8qaKeoMcGpad"
      },
      "outputs": [],
      "source": [
        "# Keep only records of songs with play_count less than or equal to (<=) 5\n",
        "df_final = df_final[df_final.play_count<=5]"
      ]
    },
    {
      "cell_type": "code",
      "execution_count": 15,
      "metadata": {
        "id": "aL1JZ00o5JtQ",
        "colab": {
          "base_uri": "https://localhost:8080/"
        },
        "outputId": "8c83c17d-4d69-484f-886f-c41c103aed3d"
      },
      "outputs": [
        {
          "output_type": "stream",
          "name": "stdout",
          "text": [
            "The dataset has 117876 rows and 7 columns.\n"
          ]
        }
      ],
      "source": [
        "# Check the shape of the data\n",
        "#lets var define to make a clean print we can understand\n",
        "rows, cols = df_final.shape\n",
        "print(f\"The dataset has {rows} rows and {cols} columns.\")"
      ]
    },
    {
      "cell_type": "markdown",
      "metadata": {
        "id": "uZcr1Eke2T9W"
      },
      "source": [
        "## **Exploratory Data Analysis**"
      ]
    },
    {
      "cell_type": "markdown",
      "metadata": {
        "id": "ByuHmvWDeBJI"
      },
      "source": [
        "### **Let's check the total number of unique users, songs, artists in the data**"
      ]
    },
    {
      "cell_type": "markdown",
      "metadata": {
        "id": "DE_gukSJ2T9W"
      },
      "source": [
        "Total number of unique user id"
      ]
    },
    {
      "cell_type": "code",
      "execution_count": 16,
      "metadata": {
        "id": "n5E24_Ec2T9W",
        "colab": {
          "base_uri": "https://localhost:8080/"
        },
        "outputId": "19582cb6-d741-4e75-b17e-449998263462"
      },
      "outputs": [
        {
          "output_type": "stream",
          "name": "stdout",
          "text": [
            "Total unique users: 3155\n"
          ]
        }
      ],
      "source": [
        "# Display total number of unique user_id\n",
        "# we are going to format print statements for result outputs for clarity\n",
        "print(f\"Total unique users: {df_final['user_id'].nunique()}\")"
      ]
    },
    {
      "cell_type": "markdown",
      "metadata": {
        "id": "wV3BOTdJII-t"
      },
      "source": [
        "Total number of unique song id"
      ]
    },
    {
      "cell_type": "code",
      "execution_count": 17,
      "metadata": {
        "id": "5SlpPkIE2T9W",
        "colab": {
          "base_uri": "https://localhost:8080/"
        },
        "outputId": "a01782b4-4154-4dbe-ce63-094f9ae41a5b"
      },
      "outputs": [
        {
          "output_type": "stream",
          "name": "stdout",
          "text": [
            "Total unique songs: 563\n"
          ]
        }
      ],
      "source": [
        "# Display total number of unique song_id\n",
        "print(f\"Total unique songs: {df_final['song_id'].nunique()}\")"
      ]
    },
    {
      "cell_type": "markdown",
      "metadata": {
        "id": "eGXPsCjXVpUW"
      },
      "source": [
        "Total number of unique artists"
      ]
    },
    {
      "cell_type": "code",
      "execution_count": 18,
      "metadata": {
        "id": "qSVUwb8h2T9X",
        "colab": {
          "base_uri": "https://localhost:8080/"
        },
        "outputId": "8b472ca4-1197-4a07-b17a-85b0d88b0f49"
      },
      "outputs": [
        {
          "output_type": "stream",
          "name": "stdout",
          "text": [
            "Total unique artists: 232\n"
          ]
        }
      ],
      "source": [
        "# Display total number of unique artists\n",
        "print(f\"Total unique artists: {df_final['artist_name'].nunique()}\")"
      ]
    },
    {
      "cell_type": "markdown",
      "metadata": {
        "id": "bvk-YAo-eGGW"
      },
      "source": [
        "#### **Observations and Insights: With 117,876 rows and 7 columns after cleaning and condensing we have 3155 unique users, 563 unique songs, and 232 artists - that gives the following ratios of 13.6 users to each artist, 5.6 users to each song and 2.43 songs to artists suggesting that the artists are the least diverse group in the dataset as is likely in the world. Still we see overall low user interaction and relative sparsity which is common.**\n"
      ]
    },
    {
      "cell_type": "markdown",
      "metadata": {
        "id": "rLdIfv22ISBK"
      },
      "source": [
        "### **Let's find out about the most interacted songs and interacted users**"
      ]
    },
    {
      "cell_type": "markdown",
      "metadata": {
        "id": "W3DyN_8atsCx"
      },
      "source": [
        "Most interacted songs"
      ]
    },
    {
      "cell_type": "code",
      "execution_count": 19,
      "metadata": {
        "id": "qWDrvIFF2T9X",
        "colab": {
          "base_uri": "https://localhost:8080/"
        },
        "outputId": "73fda44a-f937-487d-8116-c42bf866dcd8"
      },
      "outputs": [
        {
          "output_type": "stream",
          "name": "stdout",
          "text": [
            "Most interacted songs (by total play count):\n",
            "                                  title                artist_name  play_count\n",
            "song_id                                                                       \n",
            "352      Dog Days Are Over (Radio Edit)     Florence + The Machine        1634\n",
            "2220                      Sehr kosmisch                   Harmonia        1583\n",
            "8582                       Use Somebody              Kings Of Leon        1463\n",
            "5531                            Secrets                OneRepublic        1427\n",
            "4448                          Fireflies         Charttraxx Karaoke        1291\n",
            "4152                      The Scientist                   Coldplay        1259\n",
            "1334                   Hey_ Soul Sister                      Train        1208\n",
            "1118                             Clocks                   Coldplay        1203\n",
            "8092                                OMG  Usher featuring will.i.am        1126\n",
            "6189                   Creep (Explicit)                  Radiohead        1067\n"
          ]
        }
      ],
      "source": [
        "#let's use our exploratory groupby statement with the appropriate vars\n",
        "# and separation\n",
        "# then sort by descending and display a head\n",
        "# finally cleanly print this\n",
        "# we want to look a play count, title, and artist to get a clear idea\n",
        "most_interacted_songs = df_final.groupby('song_id').agg({\n",
        "    'play_count': 'sum',\n",
        "    'title': 'first',\n",
        "    'artist_name': 'first'\n",
        "}).sort_values('play_count', ascending=False).head(10)\n",
        "print(\"Most interacted songs (by total play count):\")\n",
        "print(most_interacted_songs[['title', 'artist_name', 'play_count']])"
      ]
    },
    {
      "cell_type": "markdown",
      "metadata": {
        "id": "nnoXCc9zIV45"
      },
      "source": [
        "Most interacted users"
      ]
    },
    {
      "cell_type": "code",
      "execution_count": 20,
      "metadata": {
        "id": "971EiBdf2T9X",
        "colab": {
          "base_uri": "https://localhost:8080/"
        },
        "outputId": "de567d37-a334-4313-c593-7d46821855b0"
      },
      "outputs": [
        {
          "output_type": "stream",
          "name": "stdout",
          "text": [
            "\n",
            "Most interacted users (by total play count):\n",
            "user_id\n",
            "3237     586\n",
            "15733    479\n",
            "62759    438\n",
            "43041    417\n",
            "27401    409\n",
            "66268    403\n",
            "23337    399\n",
            "48844    397\n",
            "19783    396\n",
            "55266    387\n",
            "Name: play_count, dtype: int64\n"
          ]
        }
      ],
      "source": [
        "#let's use our exploratory groupby statement with the appropriate vars\n",
        "# and separation\n",
        "# then sort by descending and display a head\n",
        "# finally cleanly print this\n",
        "# we want to look a play count and user id to get a clear idea\n",
        "most_interacted_users = df_final.groupby('user_id')['play_count'].sum().sort_values(ascending=False).head(10)\n",
        "print(\"\\nMost interacted users (by total play count):\")\n",
        "print(most_interacted_users)"
      ]
    },
    {
      "cell_type": "markdown",
      "metadata": {
        "id": "tPZRc1e-eyyO"
      },
      "source": [
        "#### **Observations and Insights: The most interacted song is florence and the machine dog days are over with 1634 plays the 10th position has 1067 plays roughly 40% less indicating volatility in this data set and competition. These are much higher than our above ratios suggesting a potential skew despite being the top 10 they reduce 40% within a fraction of the total iterations. The most interactive user is 3237 with 586 plays and the 10th position is 387 showing a lower initial variation at the high end.**\n"
      ]
    },
    {
      "cell_type": "markdown",
      "metadata": {
        "id": "joFF5zndX1Dk"
      },
      "source": [
        "Songs released on yearly basis"
      ]
    },
    {
      "cell_type": "code",
      "execution_count": 21,
      "metadata": {
        "id": "bQp2iVMC2T9Y",
        "colab": {
          "base_uri": "https://localhost:8080/"
        },
        "outputId": "1fddb5c2-ab60-4910-a8f4-c02764ebeb22"
      },
      "outputs": [
        {
          "output_type": "stream",
          "name": "stdout",
          "text": [
            "Maximum year: 2011\n",
            "Minimum year (excluding 0 or missing): 1922\n"
          ]
        }
      ],
      "source": [
        "# Find out the number of songs released in a year, use the songs_df\n",
        "  # Hint: Use groupby function on the 'year' column\n",
        "songs_by_year = song_data.groupby('year').size()\n",
        "\n",
        "#let's double back and see the shape\n",
        "max_year = song_data['year'].max()\n",
        "print(f\"Maximum year: {max_year}\")\n",
        "min_year = song_data[song_data['year'] > 0]['year'].min()\n",
        "print(f\"Minimum year (excluding 0 or missing): {min_year}\")"
      ]
    },
    {
      "cell_type": "code",
      "execution_count": 22,
      "metadata": {
        "id": "bZCkOiAB2T9Y",
        "colab": {
          "base_uri": "https://localhost:8080/",
          "height": 1000
        },
        "outputId": "cdc12a6d-9554-4837-a357-0dfd4cf0d455"
      },
      "outputs": [
        {
          "output_type": "display_data",
          "data": {
            "text/plain": [
              "<Figure size 1000x1000 with 1 Axes>"
            ],
            "image/png": "[encoded data removed]"
          },
          "metadata": {}
        }
      ],
      "source": [
        "# I noticed that we actually need to filter out 0 values to have a clear view\n",
        "# took me a bit to figure out how to clean properly but here it is\n",
        "song_data['year'] = pd.to_numeric(song_data['year'], errors='coerce')\n",
        "songs_by_year = song_data[(song_data['year'] > 0) & (song_data['year'] <= 2011)].groupby('year').size()\n",
        "\n",
        "# Create a line plot for better control\n",
        "plt.figure(figsize=(10, 10))  # Set the figure size\n",
        "plt.plot(songs_by_year.index, songs_by_year.values, '-o')\n",
        "\n",
        "# Set the x label of the plot\n",
        "plt.xlabel('Year')\n",
        "\n",
        "# Set the y label of the plot\n",
        "plt.ylabel('Number of Titles Played')\n",
        "\n",
        "# Set x-axis ticks to every 5 years between 1922 and 2011\n",
        "plt.xticks(ticks=range(1922, 2012, 5), rotation=45)\n",
        "\n",
        "# Set x-axis limits to match data range\n",
        "plt.xlim(1922, 2011)\n",
        "\n",
        "# Adjust layout to prevent label cutoff\n",
        "plt.tight_layout()\n",
        "\n",
        "# Show the plot\n",
        "plt.show()"
      ]
    },
    {
      "cell_type": "markdown",
      "metadata": {
        "id": "VUcXc7ZYfaGl"
      },
      "source": [
        "#### **Observations and Insights: After we trimmed and cleaned the data we see a representation of how much a song is plauyed over time increasing - the scale is such that until 1957 we don't get to see variation, we would have to draw and define an interval for it to analyze it - this is because by 2002-2007 we hit 40,000 plays and then this quickly drops off which is most likely explained by data availability in this set - the overall trend is an increase until sparsity. If the data is whole for those intervals then listens have dramatically declined towards much lower by 2011.** #"
      ]
    },
    {
      "cell_type": "markdown",
      "metadata": {
        "id": "RtAjyDMioHCp"
      },
      "source": [
        "**Think About It:** What other insights can be drawn using exploratory data analysis?"
      ]
    },
    {
      "cell_type": "markdown",
      "metadata": {
        "id": "OWO4C8KsK_5e"
      },
      "source": [
        "Now that we have explored the data, let's apply different algorithms to build recommendation systems.\n",
        "\n",
        "**Note:** Use the shorter version of the data, i.e., the data after the cutoffs as used in Milestone 1."
      ]
    },
    {
      "cell_type": "markdown",
      "metadata": {
        "id": "9VThYg7voGIz"
      },
      "source": [
        "## Building various models"
      ]
    },
    {
      "cell_type": "markdown",
      "metadata": {
        "id": "Ituk9wA4Idib"
      },
      "source": [
        "### **Popularity-Based Recommendation Systems**"
      ]
    },
    {
      "cell_type": "markdown",
      "metadata": {
        "id": "462hsbxaI1ED"
      },
      "source": [
        "Let's take the count and sum of play counts of the songs and build the popularity recommendation systems based on the sum of play counts."
      ]
    },
    {
      "cell_type": "code",
      "execution_count": 23,
      "metadata": {
        "id": "UXhBZlDE-jEu"
      },
      "outputs": [],
      "source": [
        "# Calculating average play_count\n",
        "       # Hint: Use groupby function on the song_id column\n",
        "average_play_count = df_final.groupby('song_id')['play_count'].mean().reset_index()\n",
        "average_play_count.columns = ['song_id', 'average_count']\n",
        "\n",
        "# Calculating the frequency a song is played\n",
        "      # Hint: Use groupby function on the song_id column\n",
        "play_freq = df_final.groupby('song_id')['play_count'].count().reset_index()\n",
        "play_freq.columns = ['song_id', 'play_freq']"
      ]
    },
    {
      "cell_type": "code",
      "execution_count": 24,
      "metadata": {
        "id": "v2XYdXvWdyys",
        "colab": {
          "base_uri": "https://localhost:8080/"
        },
        "outputId": "e244f04f-3f9e-48b4-977f-bcada08042a4"
      },
      "outputs": [
        {
          "output_type": "stream",
          "name": "stdout",
          "text": [
            "Top 5 most popular songs based on play frequency:\n",
            "     song_id  average_count  play_freq                           title  \\\n",
            "490     8582       1.948069        751                    Use Somebody   \n",
            "24       352       2.184492        748  Dog Days Are Over (Radio Edit)   \n",
            "136     2220       2.220196        713                   Sehr kosmisch   \n",
            "70      1118       1.817221        662                          Clocks   \n",
            "229     4152       1.930982        652                   The Scientist   \n",
            "\n",
            "                artist_name  \n",
            "490           Kings Of Leon  \n",
            "24   Florence + The Machine  \n",
            "136                Harmonia  \n",
            "70                 Coldplay  \n",
            "229                Coldplay  \n"
          ]
        }
      ],
      "source": [
        "# Making a dataframe with the average_count and play_freq\n",
        "final_play = pd.merge(average_play_count, play_freq, on='song_id')\n",
        "\n",
        "#my workflow\n",
        "# Merge with song metadata to include titles and artists for interpretability\n",
        "final_play = pd.merge(final_play, df_final[['song_id', 'title', 'artist_name']].drop_duplicates(), on='song_id', how='left')\n",
        "\n",
        "#sort\n",
        "final_play = final_play.sort_values(by='play_freq', ascending=False)\n",
        "\n",
        "# Let us see the first five records of the final_play dataset\n",
        "print(\"Top 5 most popular songs based on play frequency:\")\n",
        "print(final_play.head(5))\n",
        "\n",
        "\n"
      ]
    },
    {
      "cell_type": "markdown",
      "metadata": {
        "id": "WnCT-A7RK_5g"
      },
      "source": [
        "Now, let's create a function to find the top n songs for a recommendation based on the average play count of song. We can also add a threshold for a minimum number of playcounts for a song to be considered for recommendation."
      ]
    },
    {
      "cell_type": "code",
      "execution_count": 25,
      "metadata": {
        "id": "QiT9FV3GNCrb"
      },
      "outputs": [],
      "source": [
        "# Build the function to find top n songs\n",
        "def get_top_n_songs(df, n=10, min_play_freq=100):\n",
        "    #This is my function for songs with play frequency above the threshold\n",
        "    filtered_df = df[df['play_freq'] >= min_play_freq].copy()\n",
        "\n",
        "    # Sort by average_count in descending order\n",
        "    top_songs = filtered_df.sort_values(by='average_count', ascending=False).head(n)\n",
        "\n",
        "    # Return the top N songs with relevant columns\n",
        "    return top_songs[['song_id', 'title', 'artist_name', 'average_count', 'play_freq']]"
      ]
    },
    {
      "cell_type": "code",
      "execution_count": 26,
      "metadata": {
        "id": "GpZt_BeXgz4F",
        "colab": {
          "base_uri": "https://localhost:8080/"
        },
        "outputId": "5b1b87db-ba00-4a1f-94dc-f8cfa935287e"
      },
      "outputs": [
        {
          "output_type": "stream",
          "name": "stdout",
          "text": [
            "Top 10 songs based on average play count (min 100 plays):\n",
            "     song_id                           title             artist_name  \\\n",
            "403     7224           Victoria (LP Version)                Old 97's   \n",
            "363     6450              Brave The Elements                Colossal   \n",
            "559     9942                     Greece 2000            Three Drives   \n",
            "309     5531                         Secrets             OneRepublic   \n",
            "317     5653                    Transparency             White Denim   \n",
            "487     8483     Video Killed The Radio Star             The Buggles   \n",
            "136     2220                   Sehr kosmisch                Harmonia   \n",
            "40       657                       Luvstruck      Southside Spinners   \n",
            "37       614                  You're The One           Dwight Yoakam   \n",
            "24       352  Dog Days Are Over (Radio Edit)  Florence + The Machine   \n",
            "\n",
            "     average_count  play_freq  \n",
            "403       3.373832        107  \n",
            "363       2.578431        102  \n",
            "559       2.486667        150  \n",
            "309       2.309061        618  \n",
            "317       2.296296        108  \n",
            "487       2.235772        123  \n",
            "136       2.220196        713  \n",
            "40        2.218543        151  \n",
            "37        2.217158        373  \n",
            "24        2.184492        748  \n"
          ]
        }
      ],
      "source": [
        "# Recommend top 10 songs using the function defined above\n",
        "# clean print\n",
        "top_10_songs = get_top_n_songs(final_play, n=10, min_play_freq=100)\n",
        "print(\"Top 10 songs based on average play count (min 100 plays):\")\n",
        "print(top_10_songs)"
      ]
    },
    {
      "cell_type": "markdown",
      "metadata": {
        "id": "gf13HrPPJeWT"
      },
      "source": [
        "### **User User Similarity-Based Collaborative Filtering**"
      ]
    },
    {
      "cell_type": "markdown",
      "metadata": {
        "id": "ROcEpduohdua"
      },
      "source": [
        "To build the user-user-similarity-based and subsequent models we will use the \"surprise\" library."
      ]
    },
    {
      "cell_type": "code",
      "execution_count": 27,
      "metadata": {
        "id": "aKLrKn8IfGjk",
        "colab": {
          "base_uri": "https://localhost:8080/"
        },
        "outputId": "50826f11-88d9-44b7-a09d-5388a043f52a"
      },
      "outputs": [
        {
          "output_type": "stream",
          "name": "stdout",
          "text": [
            "Collecting surprise\n",
            "  Downloading surprise-0.1-py2.py3-none-any.whl.metadata (327 bytes)\n",
            "Collecting scikit-surprise (from surprise)\n",
            "  Downloading scikit_surprise-1.1.4.tar.gz (154 kB)\n",
            "\u001b[2K     \u001b[90m━━━━━━━━━━━━━━━━━━━━━━━━━━━━━━━━━━━━━━━\u001b[0m \u001b[32m154.4/154.4 kB\u001b[0m \u001b[31m4.0 MB/s\u001b[0m eta \u001b[36m0:00:00\u001b[0m\n",
            "\u001b[?25h  Installing build dependencies ... \u001b[?25l\u001b[?25hdone\n",
            "  Getting requirements to build wheel ... \u001b[?25l\u001b[?25hdone\n",
            "  Preparing metadata (pyproject.toml) ... \u001b[?25l\u001b[?25hdone\n",
            "Requirement already satisfied: joblib>=1.2.0 in /usr/local/lib/python3.12/dist-packages (from scikit-surprise->surprise) (1.5.2)\n",
            "Requirement already satisfied: numpy>=1.19.5 in /usr/local/lib/python3.12/dist-packages (from scikit-surprise->surprise) (1.26.0)\n",
            "Requirement already satisfied: scipy>=1.6.0 in /usr/local/lib/python3.12/dist-packages (from scikit-surprise->surprise) (1.16.2)\n",
            "Downloading surprise-0.1-py2.py3-none-any.whl (1.8 kB)\n",
            "Building wheels for collected packages: scikit-surprise\n",
            "  Building wheel for scikit-surprise (pyproject.toml) ... \u001b[?25l\u001b[?25hdone\n",
            "  Created wheel for scikit-surprise: filename=scikit_surprise-1.1.4-cp312-cp312-linux_x86_64.whl size=2611316 sha256=05d442d6cd4d2cb1d23a50ecc6e8fab1e4e5ccceb765deb1d3b32a9c6655adac\n",
            "  Stored in directory: /root/.cache/pip/wheels/75/fa/bc/739bc2cb1fbaab6061854e6cfbb81a0ae52c92a502a7fa454b\n",
            "Successfully built scikit-surprise\n",
            "Installing collected packages: scikit-surprise, surprise\n",
            "Successfully installed scikit-surprise-1.1.4 surprise-0.1\n"
          ]
        }
      ],
      "source": [
        "!pip install surprise"
      ]
    },
    {
      "cell_type": "code",
      "execution_count": 28,
      "metadata": {
        "id": "UJ1wEylUpexj"
      },
      "outputs": [],
      "source": [
        "# Import necessary libraries\n",
        "from surprise import Reader, Dataset\n",
        "\n",
        "# To compute the accuracy of models\n",
        "from surprise import accuracy\n",
        "\n",
        "# This class is used to parse a file containing play_counts, data should be in structure - user; item; play_count\n",
        "from surprise import Reader\n",
        "\n",
        "# Class for loading datasets\n",
        "from surprise import Dataset\n",
        "\n",
        "# For tuning model hyperparameters\n",
        "from surprise.model_selection import GridSearchCV\n",
        "\n",
        "# For splitting the data in train and test dataset\n",
        "from surprise.model_selection import train_test_split\n",
        "\n",
        "# For implementing similarity-based recommendation system\n",
        "from surprise import KNNBasic\n",
        "\n",
        "# For implementing matrix factorization based recommendation system\n",
        "from surprise import SVD\n",
        "\n",
        "# For implementing KFold cross-validation\n",
        "from surprise.model_selection import KFold\n",
        "\n",
        "# For implementing clustering-based recommendation system\n",
        "from surprise import CoClustering\n"
      ]
    },
    {
      "cell_type": "markdown",
      "metadata": {
        "id": "jBW4BUhWTsnm"
      },
      "source": [
        "### Some useful functions"
      ]
    },
    {
      "cell_type": "markdown",
      "metadata": {
        "id": "ZhFa_4aHHchr"
      },
      "source": [
        "Below is the function to calculate precision@k and recall@k, RMSE, and F1_Score@k to evaluate the model performance."
      ]
    },
    {
      "cell_type": "markdown",
      "metadata": {
        "id": "ZOvOgjGWrMVV"
      },
      "source": [
        "**Think About It:** Which metric should be used for this problem to compare different models?"
      ]
    },
    {
      "cell_type": "code",
      "execution_count": 29,
      "metadata": {
        "id": "Rxn-GahOTsnm"
      },
      "outputs": [],
      "source": [
        "def precision_recall_at_k(model, k=30, threshold=1.5):\n",
        "    \"\"\"Return precision and recall at k metrics for each user\"\"\"\n",
        "\n",
        "    # First map the predictions to each user.\n",
        "    user_est_true = defaultdict(list)\n",
        "\n",
        "    #Making predictions on the test data\n",
        "    predictions = model.test(testset)\n",
        "\n",
        "    for uid, _, true_r, est, _ in predictions:\n",
        "        user_est_true[uid].append((est, true_r))\n",
        "\n",
        "    precisions = dict()\n",
        "    recalls = dict()\n",
        "    for uid, playing_count in user_est_true.items():\n",
        "\n",
        "        # Sort play count by estimated value\n",
        "        playing_count.sort(key=lambda x: x[0], reverse=True)\n",
        "\n",
        "        # Number of relevant items\n",
        "        n_rel = sum((true_r >= threshold) for (_, true_r) in playing_count)\n",
        "\n",
        "        # Number of recommended items in top k\n",
        "        n_rec_k = sum((est >= threshold) for (est, _) in playing_count[:k])\n",
        "\n",
        "        # Number of relevant and recommended items in top k\n",
        "        n_rel_and_rec_k = sum(((true_r >= threshold) and (est >= threshold))\n",
        "                              for (est, true_r) in playing_count[:k])\n",
        "\n",
        "        # Precision@K: Proportion of recommended items that are relevant\n",
        "        # When n_rec_k is 0, Precision is undefined. We here set Precision to 0 when n_rec_k is 0.\n",
        "\n",
        "        precisions[uid] = n_rel_and_rec_k / n_rec_k if n_rec_k != 0 else 0\n",
        "\n",
        "        # Recall@K: Proportion of relevant items that are recommended\n",
        "        # When n_rel is 0, Recall is undefined. We here set Recall to 0 when n_rel is 0.\n",
        "\n",
        "        recalls[uid] = n_rel_and_rec_k / n_rel if n_rel != 0 else 0\n",
        "\n",
        "    #Mean of all the predicted precisions are calculated.\n",
        "    precision = round((sum(prec for prec in precisions.values()) / len(precisions)),3)\n",
        "    #Mean of all the predicted recalls are calculated.\n",
        "    recall = round((sum(rec for rec in recalls.values()) / len(recalls)),3)\n",
        "\n",
        "    accuracy.rmse(predictions)\n",
        "    print('Precision: ', precision) #Command to print the overall precision\n",
        "    print('Recall: ', recall) #Command to print the overall recall\n",
        "    print('F_1 score: ', round((2*precision*recall)/(precision+recall),3)) # Formula to compute the F-1 score."
      ]
    },
    {
      "cell_type": "markdown",
      "metadata": {
        "id": "PcmLRxH4IjfG"
      },
      "source": [
        "**Think About It:** In the function precision_recall_at_k above the threshold value used is 1.5. How precision and recall are affected by changing the threshold? What is the intuition behind using the threshold value of 1.5?"
      ]
    },
    {
      "cell_type": "markdown",
      "metadata": {
        "id": "oO6rRHDQXR9G"
      },
      "source": [
        "Below we are loading the **dataset**, which is a **pandas dataframe**, into a **different format called `surprise.dataset.DatasetAutoFolds`** which is required by this library. To do this we will be **using the classes `Reader` and `Dataset`**\n",
        "\n",
        "You will also notice here that we read the dataset by providing a scale of ratings. However, as you would know, we do not have ratings data of the songs. In this case, we are going to use play_count as a proxy for ratings with the assumption that the more the user listens to a song, the higher the chance that they like the song"
      ]
    },
    {
      "cell_type": "code",
      "execution_count": 30,
      "metadata": {
        "id": "rGfYDiOCpe4X"
      },
      "outputs": [],
      "source": [
        "# Instantiating Reader scale with expected rating scale\n",
        " #use rating scale (0, 5)\n",
        "reader = Reader(rating_scale=(0, 5))\n",
        "\n",
        "# Loading the dataset\n",
        " # Take only \"user_id\",\"song_id\", and \"play_count\"\n",
        "data = Dataset.load_from_df(df_final[['user_id', 'song_id', 'play_count']], reader)\n",
        "\n",
        "# Splitting the data into train and test dataset\n",
        " # Take test_size = 0.4, random_state = 42\n",
        "trainset, testset = train_test_split(data, test_size=0.4, random_state=42)"
      ]
    },
    {
      "cell_type": "markdown",
      "metadata": {
        "id": "CuTmLjUP1aED"
      },
      "source": [
        "**Think About It:** How changing the test size would change the results and outputs?"
      ]
    },
    {
      "cell_type": "code",
      "execution_count": 31,
      "metadata": {
        "id": "vO3FL7iape8A",
        "scrolled": false,
        "colab": {
          "base_uri": "https://localhost:8080/"
        },
        "outputId": "2621e6ea-5259-4574-d575-f34f92ad3ee0"
      },
      "outputs": [
        {
          "output_type": "stream",
          "name": "stdout",
          "text": [
            "Computing the msd similarity matrix...\n",
            "Done computing similarity matrix.\n",
            "RMSE: 1.0626\n",
            "Precision:  0.413\n",
            "Recall:  0.608\n",
            "F_1 score:  0.492\n"
          ]
        }
      ],
      "source": [
        "#had to debug and import check\n",
        "from collections import defaultdict\n",
        "from surprise import KNNBasic\n",
        "\n",
        "# Build the default user-user-similarity model\n",
        "# KNN algorithm is used to find desired similar items\n",
        " # Use random_state = 1\n",
        "sim_user_user = KNNBasic(sim_options={'user_based': True}, random_state=1)\n",
        "\n",
        "# Train the algorithm on the trainset, and predict play_count for the testset\n",
        "sim_user_user.fit(trainset)\n",
        "predictions = sim_user_user.test(testset)\n",
        "\n",
        "# Let us compute precision@k, recall@k, and f_1 score with k = 30\n",
        " # Use sim_user_user model\n",
        "results = precision_recall_at_k(sim_user_user, k=30, threshold=1.5)"
      ]
    },
    {
      "cell_type": "markdown",
      "metadata": {
        "id": "mzcdlWmer6GA"
      },
      "source": [
        "**Observations and Insights: An RMSE of 1.06 is beginning to get alarming on the 0-5 scale. For precision relevance we see that only 41.3% of songs recommended are actually fitting our metric of play count > 1.5 in the real data set. A Recall of 60.8% is fairly high but nothing great especially with our loss of precision, it will identify over 50% of relevant songs. We would expect then such a moderate f_1 score at 0.492 due to this tradeoff. The model needs tuning to be effective in the industry.**"
      ]
    },
    {
      "cell_type": "code",
      "execution_count": 57,
      "metadata": {
        "id": "Sxd23bZ9pe_x",
        "colab": {
          "base_uri": "https://localhost:8080/"
        },
        "outputId": "c984cb92-1798-4794-9602-2e15f22d1406"
      },
      "outputs": [
        {
          "output_type": "stream",
          "name": "stdout",
          "text": [
            "Randomly Selected IDs  User ID: 2605\n",
            "  Listened Song ID: 1180\n",
            "  Unlistened Song ID: 6201\n",
            "Prediction for user 2605 with song 1180 (listened):\n",
            "  Estimated play_count: 1.26\n",
            "  Real play_count: 2\n",
            "  Details: {'actual_k': 40, 'was_impossible': False}\n"
          ]
        }
      ],
      "source": [
        "import random\n",
        "\n",
        "# Extract unique user_ids and song_ids from df_final\n",
        "user_ids = df_final['user_id'].unique().tolist()\n",
        "song_ids = df_final['song_id'].unique().tolist()\n",
        "\n",
        "# Randomly select one user_id\n",
        "random_user_id = random.choice(user_ids)\n",
        "\n",
        "# Get songs listened to by the random_user_id\n",
        "listened_song_ids = df_final[df_final['user_id'] == random_user_id]['song_id'].tolist()\n",
        "\n",
        "# Ensure we select a song the user has listened to\n",
        "random_song_id = random.choice(listened_song_ids)\n",
        "\n",
        "# Find songs not listened to by the random_user_id\n",
        "unlistened_song_ids = [sid for sid in song_ids if sid not in listened_song_ids]\n",
        "random_unlistened_song_id = random.choice(unlistened_song_ids)  # No fallback needed, as unlistened songs exist\n",
        "\n",
        "# Store variables for future use\n",
        "selected_user_id = random_user_id\n",
        "selected_song_id = random_song_id\n",
        "unlistened_song_id = random_unlistened_song_id\n",
        "\n",
        "# Get the real play_count for the listened song\n",
        "real_play_count = df_final[(df_final['user_id'] == selected_user_id) & (df_final['song_id'] == selected_song_id)]['play_count'].iloc[0]\n",
        "\n",
        "# Display the selected IDs\n",
        "print(f\"Randomly Selected IDs\"\n",
        "      f\"  User ID: {selected_user_id}\\n\"\n",
        "      f\"  Listened Song ID: {selected_song_id}\\n\"\n",
        "      f\"  Unlistened Song ID: {unlistened_song_id}\")\n",
        "\n",
        "# Predicting play_count for a sample user with a listened song\n",
        "prediction_listened = sim_user_user.predict(uid=selected_user_id, iid=selected_song_id)\n",
        "print(f\"Prediction for user {selected_user_id} with song {selected_song_id} (listened):\\n\"\n",
        "      f\"  Estimated play_count: {prediction_listened.est:.2f}\\n\"\n",
        "      f\"  Real play_count: {real_play_count}\\n\"\n",
        "      f\"  Details: {prediction_listened.details}\")"
      ]
    },
    {
      "cell_type": "code",
      "execution_count": 33,
      "metadata": {
        "id": "PbFcBj1PpfEV",
        "colab": {
          "base_uri": "https://localhost:8080/"
        },
        "outputId": "510d96a8-f93c-4153-a7ef-4cc28edacd95"
      },
      "outputs": [
        {
          "output_type": "stream",
          "name": "stdout",
          "text": [
            "Prediction for user 24022 with song 9249 (not listened):\n",
            "  Estimated play_count: 1.53\n",
            "  Details: {'actual_k': 40, 'was_impossible': False}\n"
          ]
        }
      ],
      "source": [
        "# Predicting play_count for a sample user with a song not-listened by the user\n",
        " #predict play_count for any sample user\n",
        "prediction_unlistened = sim_user_user.predict(uid=selected_user_id, iid=unlistened_song_id)\n",
        "print(f\"Prediction for user {selected_user_id} with song {unlistened_song_id} (not listened):\\n\"\n",
        "      f\"  Estimated play_count: {prediction_unlistened.est:.2f}\\n\"\n",
        "      f\"  Details: {prediction_unlistened.details}\")"
      ]
    },
    {
      "cell_type": "markdown",
      "metadata": {
        "id": "P9EVM7DysC47"
      },
      "source": [
        "**Observations and Insights: The predictions of 1.02 and real value of 1 is extremely close for the randomly drawn id. The prediction of 1.35 for unlistened to doesn't seem abnormal given the first stat but further testing is needed.**"
      ]
    },
    {
      "cell_type": "markdown",
      "metadata": {
        "id": "Lt1QBiylsIOm"
      },
      "source": [
        "Now, let's try to tune the model and see if we can improve the model performance."
      ]
    },
    {
      "cell_type": "code",
      "execution_count": 34,
      "metadata": {
        "id": "T3diJPL7-tVw",
        "colab": {
          "base_uri": "https://localhost:8080/"
        },
        "outputId": "6b931637-45db-4cfa-bd58-8f2e129e1365"
      },
      "outputs": [
        {
          "output_type": "stream",
          "name": "stdout",
          "text": [
            "Computing the msd similarity matrix...\n",
            "Done computing similarity matrix.\n",
            "Computing the msd similarity matrix...\n",
            "Done computing similarity matrix.\n",
            "Computing the msd similarity matrix...\n",
            "Done computing similarity matrix.\n",
            "Computing the cosine similarity matrix...\n",
            "Done computing similarity matrix.\n",
            "Computing the cosine similarity matrix...\n",
            "Done computing similarity matrix.\n",
            "Computing the cosine similarity matrix...\n",
            "Done computing similarity matrix.\n",
            "Computing the pearson similarity matrix...\n",
            "Done computing similarity matrix.\n",
            "Computing the pearson similarity matrix...\n",
            "Done computing similarity matrix.\n",
            "Computing the pearson similarity matrix...\n",
            "Done computing similarity matrix.\n",
            "Computing the msd similarity matrix...\n",
            "Done computing similarity matrix.\n",
            "Computing the msd similarity matrix...\n",
            "Done computing similarity matrix.\n",
            "Computing the msd similarity matrix...\n",
            "Done computing similarity matrix.\n",
            "Computing the cosine similarity matrix...\n",
            "Done computing similarity matrix.\n",
            "Computing the cosine similarity matrix...\n",
            "Done computing similarity matrix.\n",
            "Computing the cosine similarity matrix...\n",
            "Done computing similarity matrix.\n",
            "Computing the pearson similarity matrix...\n",
            "Done computing similarity matrix.\n",
            "Computing the pearson similarity matrix...\n",
            "Done computing similarity matrix.\n",
            "Computing the pearson similarity matrix...\n",
            "Done computing similarity matrix.\n",
            "Computing the msd similarity matrix...\n",
            "Done computing similarity matrix.\n",
            "Computing the msd similarity matrix...\n",
            "Done computing similarity matrix.\n",
            "Computing the msd similarity matrix...\n",
            "Done computing similarity matrix.\n",
            "Computing the cosine similarity matrix...\n",
            "Done computing similarity matrix.\n",
            "Computing the cosine similarity matrix...\n",
            "Done computing similarity matrix.\n",
            "Computing the cosine similarity matrix...\n",
            "Done computing similarity matrix.\n",
            "Computing the pearson similarity matrix...\n",
            "Done computing similarity matrix.\n",
            "Computing the pearson similarity matrix...\n",
            "Done computing similarity matrix.\n",
            "Computing the pearson similarity matrix...\n",
            "Done computing similarity matrix.\n",
            "Best RMSE score: 1.0557\n",
            "Best parameters: {'k': 60, 'sim_options': {'name': 'msd', 'user_based': True}}\n"
          ]
        }
      ],
      "source": [
        "# Setting up parameter grid to tune the hyperparameters\n",
        "param_grid = {\n",
        "    'k': [20, 40, 60],  # Number of neighbors\n",
        "    'sim_options': {\n",
        "        'name': ['msd', 'cosine', 'pearson'],\n",
        "        'user_based': [True]\n",
        "    }\n",
        "}\n",
        "\n",
        "# Performing 3-fold cross-validation to tune the hyperparameters\n",
        "gs = GridSearchCV(KNNBasic, param_grid, measures=['rmse'], cv=3)\n",
        "\n",
        "# Fitting the data\n",
        "# Use entire data for GridSearch\n",
        "gs.fit(data)\n",
        "\n",
        "# Best RMSE score\n",
        "print(f\"Best RMSE score: {gs.best_score['rmse']:.4f}\")\n",
        "\n",
        "# Combination of parameters that gave the best RMSE score\n",
        "print(\"Best parameters:\", gs.best_params['rmse'])\n"
      ]
    },
    {
      "cell_type": "code",
      "execution_count": 35,
      "metadata": {
        "id": "PujRJA8X_JEJ",
        "colab": {
          "base_uri": "https://localhost:8080/"
        },
        "outputId": "66c74a24-3abc-4e57-b771-40867ca54bbc"
      },
      "outputs": [
        {
          "output_type": "stream",
          "name": "stdout",
          "text": [
            "Computing the msd similarity matrix...\n",
            "Done computing similarity matrix.\n",
            "RMSE: 1.0588\n",
            "Precision:  0.415\n",
            "Recall:  0.632\n",
            "F_1 score:  0.501\n"
          ]
        }
      ],
      "source": [
        "# Train the best model found in above gridsearch\n",
        "# took a bit at 27\n",
        "best_sim_user_user = KNNBasic(k=60, sim_options={'name': 'msd', 'user_based': True}, random_state=1)\n",
        "best_sim_user_user.fit(trainset)\n",
        "predictions = best_sim_user_user.test(testset)\n",
        "\n",
        "# Compute precision@k, recall@k, and F1 score with k=30\n",
        "results = precision_recall_at_k(best_sim_user_user, k=30, threshold=1.5)"
      ]
    },
    {
      "cell_type": "markdown",
      "metadata": {
        "id": "MH5OBZ7Nse6m"
      },
      "source": [
        "**Observations and Insights: We only see a small RMSE reduction from our initial run. We only see a fractional 0.2% increase in precision. We see the most marked gain of 2.4% for recall and F_1 score begins to gravitate due to this outcome.**"
      ]
    },
    {
      "cell_type": "code",
      "execution_count": 36,
      "metadata": {
        "id": "FgV63lHiq1TV",
        "colab": {
          "base_uri": "https://localhost:8080/"
        },
        "outputId": "8011ccbe-437f-4f01-d961-a42e64c90730"
      },
      "outputs": [
        {
          "output_type": "stream",
          "name": "stdout",
          "text": [
            "Computing the msd similarity matrix...\n",
            "Done computing similarity matrix.\n",
            "Prediction for user 6958 with song 1671 (listened):\n",
            "  Estimated play_count: 1.52\n",
            "  Real play_count: 2\n",
            "  Details: {'actual_k': 60, 'was_impossible': False}\n"
          ]
        }
      ],
      "source": [
        "# Name the tuned model for clarity and future reference\n",
        "tuned_user_user_model = KNNBasic(k=60, sim_options={'name': 'msd', 'user_based': True}, random_state=1)\n",
        "tuned_user_user_model.fit(trainset)\n",
        "\n",
        "# Predict the play count for a user who has listened to the song. Take user_id 6958, song_id 1671 and r_ui = 2\n",
        "prediction_listened = tuned_user_user_model.predict(uid=6958, iid=1671, r_ui=2)\n",
        "print(f\"Prediction for user 6958 with song 1671 (listened):\\n\"\n",
        "      f\"  Estimated play_count: {prediction_listened.est:.2f}\\n\"\n",
        "      f\"  Real play_count: {prediction_listened.r_ui}\\n\"\n",
        "      f\"  Details: {prediction_listened.details}\")"
      ]
    },
    {
      "cell_type": "code",
      "execution_count": 38,
      "metadata": {
        "id": "HXO2Ztjhq1bN",
        "colab": {
          "base_uri": "https://localhost:8080/"
        },
        "outputId": "41969d52-df08-49fe-97e1-e6d19b6511eb"
      },
      "outputs": [
        {
          "output_type": "stream",
          "name": "stdout",
          "text": [
            "Prediction for user 6958 with song 9249 (not listened):\n",
            "  Estimated play_count: 1.58\n",
            "  Details: {'actual_k': 60, 'was_impossible': False}\n"
          ]
        }
      ],
      "source": [
        "# Predict the play count for a song that is not listened to by the user (with user_id 6958)\n",
        "\n",
        "#let's define\n",
        "listened_song_ids_6958 = df_final[df_final['user_id'] == 6958]['song_id'].tolist()\n",
        "unlistened_song_ids_6958 = [sid for sid in df_final['song_id'].unique().tolist() if sid not in listened_song_ids_6958]\n",
        "new_unlistened_song_id_6958 = 9249\n",
        "# New variable for random unlistened song for user 6958\n",
        "# let's use the above ran gen for our set testing measure, 9249\n",
        "\n",
        "# Predict the play count for a song not listened to by the user (user_id 6958)\n",
        "prediction_unlistened = tuned_user_user_model.predict(uid=6958, iid=9249)\n",
        "print(f\"Prediction for user 6958 with song {new_unlistened_song_id_6958} (not listened):\\n\"\n",
        "      f\"  Estimated play_count: {prediction_unlistened.est:.2f}\\n\"\n",
        "      f\"  Details: {prediction_unlistened.details}\")\n",
        "\n"
      ]
    },
    {
      "cell_type": "markdown",
      "metadata": {
        "id": "SdpJ--8QWuzz"
      },
      "source": [
        "**Observations and Insights: Our estiamted play count is 1.52 and our actual is 2 composing a difference of 0.48 or roughly 25%. This prediction is much further than the original model. We received an estimated play_count of 1.58 but can trust this less than the other evaluation as it seems to be further in accuracy.**"
      ]
    },
    {
      "cell_type": "markdown",
      "metadata": {
        "id": "SQ9M4pplNbWS"
      },
      "source": [
        "**Think About It:** Along with making predictions on listened and unknown songs can we get 5 nearest neighbors (most similar) to a certain song?"
      ]
    },
    {
      "cell_type": "code",
      "execution_count": 39,
      "metadata": {
        "id": "TbFle7cKmBJG",
        "colab": {
          "base_uri": "https://localhost:8080/"
        },
        "outputId": "8e390dc3-42f2-44ac-e461-8363162d92bc"
      },
      "outputs": [
        {
          "output_type": "stream",
          "name": "stdout",
          "text": [
            "5 Nearest Neighbors to Song with Inner ID 0 (Raw ID: 211):\n",
            "\n",
            "  Song ID: 512, Title: The Ballad of Michael Valentine, Artist: The Killers\n",
            "  Song ID: 8138, Title: Drop The World, Artist: Lil Wayne / Eminem\n",
            "  Song ID: 8762, Title: Time To Pretend, Artist: MGMT\n",
            "  Song ID: 4160, Title: How You Remind Me, Artist: Nickelback\n",
            "  Song ID: 8387, Title: Ray Gun, Artist: the bird and the bee\n"
          ]
        }
      ],
      "source": [
        "# Find the 5 nearest neighbors (most similar songs)\n",
        "# to the song with inner id 0\n",
        "song_inner_id = 0\n",
        "neighbors = tuned_user_user_model.get_neighbors(iid=song_inner_id, k=5)\n",
        "\n",
        "# Convert inner IDs to raw song IDs\n",
        "raw_song_ids = [tuned_user_user_model.trainset.to_raw_iid(inner_id) for inner_id in neighbors]\n",
        "\n",
        "# Get song details\n",
        "neighbor_details = df_final[df_final['song_id'].isin(raw_song_ids)][['song_id', 'title', 'artist_name']].drop_duplicates()\n",
        "\n",
        "# Print the results\n",
        "print(f\"5 Nearest Neighbors to Song with Inner ID {song_inner_id} (Raw ID: {tuned_user_user_model.trainset.to_raw_iid(song_inner_id)}):\\n\")\n",
        "for _, row in neighbor_details.iterrows():\n",
        "    print(f\"  Song ID: {row['song_id']}, Title: {row['title']}, Artist: {row['artist_name']}\")"
      ]
    },
    {
      "cell_type": "markdown",
      "metadata": {
        "id": "U3ESobDynVNI"
      },
      "source": [
        "Below we will be implementing a function where the input parameters are:\n",
        "\n",
        "- data: A **song** dataset\n",
        "- user_id: A user-id **against which we want the recommendations**\n",
        "- top_n: The **number of songs we want to recommend**\n",
        "- algo: The algorithm we want to use **for predicting the play_count**\n",
        "- The output of the function is a **set of top_n items** recommended for the given user_id based on the given algorithm"
      ]
    },
    {
      "cell_type": "code",
      "execution_count": 40,
      "metadata": {
        "id": "vW9V1Tk65HlY"
      },
      "outputs": [],
      "source": [
        "def get_recommendations(data, user_id, top_n, algo):\n",
        "\n",
        "    # Creating an empty list to store the recommended song ids\n",
        "    recommendations = []\n",
        "\n",
        "    # Creating a user-item interactions matrix\n",
        "    user_item_matrix = data.pivot_table(index='user_id', columns='song_id', values='play_count')\n",
        "\n",
        "    # Extracting those song ids which the user_id has not played yet\n",
        "    non_played_songs = user_item_matrix.loc[user_id][user_item_matrix.loc[user_id].isna()].index\n",
        "\n",
        "    # Looping through each of the song ids which user_id has not interacted yet\n",
        "    for song_id in non_played_songs:\n",
        "        # Predicting the play_count for those non-played song ids by this user\n",
        "        pred = algo.predict(uid=user_id, iid=song_id)\n",
        "\n",
        "        # Appending the predicted play_counts\n",
        "        recommendations.append((song_id, pred.est))\n",
        "\n",
        "    # Sorting the predicted play_counts in descending order\n",
        "    recommendations.sort(key=lambda x: x[1], reverse=True)\n",
        "\n",
        "    # Returning top n highest predicted play_count songs for this user\n",
        "    return recommendations[:top_n]"
      ]
    },
    {
      "cell_type": "code",
      "execution_count": 41,
      "metadata": {
        "id": "qWbR85mI5Hrk"
      },
      "outputs": [],
      "source": [
        "# Make top 5 recommendations for user_id 6958 using the tuned user-user similarity-based model\n",
        "top_5_recommendations = get_recommendations(df_final, 6958, top_n=5, algo=tuned_user_user_model)"
      ]
    },
    {
      "cell_type": "code",
      "execution_count": 45,
      "metadata": {
        "id": "b5WfIX0Z6_q2",
        "colab": {
          "base_uri": "https://localhost:8080/"
        },
        "outputId": "37b54923-08cb-4697-ca22-d9e984a86fca"
      },
      "outputs": [
        {
          "output_type": "stream",
          "name": "stdout",
          "text": [
            "Top 5 Song Recommendations for User 6958\n",
            "   song_id                            title  artist_name  \\\n",
            "0     7224            Victoria (LP Version)     Old 97's   \n",
            "1     6450               Brave The Elements     Colossal   \n",
            "2     8324                  The Big Gundown  The Prodigy   \n",
            "3     6448                       Wild World  Cat Stevens   \n",
            "4     4831  Heaven Must Be Missing An Angel      Tavares   \n",
            "\n",
            "   predicted_play_count  actual_play_count  \n",
            "0              2.935235                  0  \n",
            "1              2.668720                  0  \n",
            "2              2.467205                  0  \n",
            "3              2.386082                  0  \n",
            "4              2.348859                  0  \n"
          ]
        }
      ],
      "source": [
        "# Building the dataframe for the recommendations with columns \"song_id\" and \"predicted_play_count\"\n",
        "recommendations_df = pd.DataFrame(top_5_recommendations, columns=['song_id', 'predicted_play_count'])\n",
        "\n",
        "# Add song details (title, artist_name) for interpretability\n",
        "recommendations_df = recommendations_df.merge(df_final[['song_id', 'title', 'artist_name']].drop_duplicates(), on='song_id', how='left')\n",
        "\n",
        "# Add actual play_count column, default to 0 for unlistened songs\n",
        "recommendations_df['actual_play_count'] = recommendations_df['song_id'].apply(\n",
        "    lambda sid: df_final[(df_final['user_id'] == 6958) & (df_final['song_id'] == sid)]['play_count'].iloc[0]\n",
        "    if not df_final[(df_final['user_id'] == 6958) & (df_final['song_id'] == sid)].empty else 0\n",
        ")\n",
        "\n",
        "# Print the recommendations for user 6958\n",
        "print(f\"Top 5 Song Recommendations for User 6958\")\n",
        "print(recommendations_df[['song_id', 'title', 'artist_name', 'predicted_play_count', 'actual_play_count']])"
      ]
    },
    {
      "cell_type": "markdown",
      "metadata": {
        "id": "kyhThMOttWjj"
      },
      "source": [
        "**Observations and Insights: We observed that all recommended songs have a an actual_play_count of zero making them new recommendations. The most recommended song was Victoria LP Version id 7724. The 5th was Heaven Must Be Missing An Angel, 4831. We need more to evaluate this.**"
      ]
    },
    {
      "cell_type": "markdown",
      "metadata": {
        "id": "ghwEJY2e7INB"
      },
      "source": [
        "### Correcting the play_counts and Ranking the above songs"
      ]
    },
    {
      "cell_type": "code",
      "execution_count": 56,
      "metadata": {
        "id": "39Hs7ZbO9v3O",
        "colab": {
          "base_uri": "https://localhost:8080/"
        },
        "outputId": "877eca7f-7b98-450e-ea50-c2cefbe29786"
      },
      "outputs": [
        {
          "output_type": "stream",
          "name": "stdout",
          "text": [
            "Ranked Songs for User 6958 based on Corrected Play Counts\n",
            "     song_id                            title             artist_name  \\\n",
            "0        352   Dog Days Are Over (Radio Edit)  Florence + The Machine   \n",
            "1       2220                    Sehr kosmisch                Harmonia   \n",
            "2       8582                     Use Somebody           Kings Of Leon   \n",
            "3       5531                          Secrets             OneRepublic   \n",
            "4       4448                        Fireflies      Charttraxx Karaoke   \n",
            "..       ...                              ...                     ...   \n",
            "558     7224            Victoria (LP Version)                Old 97's   \n",
            "559     6450               Brave The Elements                Colossal   \n",
            "560     8324                  The Big Gundown             The Prodigy   \n",
            "561     6448                       Wild World             Cat Stevens   \n",
            "562     4831  Heaven Must Be Missing An Angel                 Tavares   \n",
            "\n",
            "     corrected_play_count  play_count  predicted_play_count  \n",
            "0             1634.000000        1634                   NaN  \n",
            "1             1583.000000        1583                   NaN  \n",
            "2             1463.000000        1463                   NaN  \n",
            "3             1427.000000        1427                   NaN  \n",
            "4             1291.000000        1291                   NaN  \n",
            "..                    ...         ...                   ...  \n",
            "558              2.935235         361              2.935235  \n",
            "559              2.668720         263              2.668720  \n",
            "560              2.467205         252              2.467205  \n",
            "561              2.386082         202              2.386082  \n",
            "562              2.348859         214              2.348859  \n",
            "\n",
            "[563 rows x 6 columns]\n"
          ]
        }
      ],
      "source": [
        "# Generate playing_count DataFrame with total play counts per song\n",
        "playing_count = df_final.groupby('song_id')['play_count'].sum().reset_index()\n",
        "\n",
        "# Get top 5 recommendations for user_id 6958 (from previous step)\n",
        "top_5_recommendations = get_recommendations(df_final, 6958, top_n=5, algo=tuned_user_user_model)\n",
        "recommendations_df = pd.DataFrame(top_5_recommendations, columns=['song_id', 'predicted_play_count'])\n",
        "\n",
        "# Define the ranking_songs function with display\n",
        "def ranking_songs(recommendations, playing_count):\n",
        "    # Sort the songs based on play counts\n",
        "    ranked_songs = playing_count.sort_values('play_count', ascending=False).reset_index()\n",
        "\n",
        "    # Merge with the recommended songs to get predicted play_counts\n",
        "    ranked_songs = ranked_songs.merge(recommendations[['song_id', 'predicted_play_count']],\n",
        "                                     on='song_id', how='left')\n",
        "\n",
        "    # Rank the songs based on corrected play_counts (using predicted_play_count where available)\n",
        "    ranked_songs['corrected_play_count'] = ranked_songs['predicted_play_count'].fillna(ranked_songs['play_count'])\n",
        "\n",
        "    # Sort the songs based on corrected play_counts\n",
        "    ranked_songs = ranked_songs.sort_values('corrected_play_count', ascending=False)\n",
        "\n",
        "    # Merge with song details for interpretability\n",
        "    ranked_songs = ranked_songs.merge(df_final[['song_id', 'title', 'artist_name']].drop_duplicates(),\n",
        "                                     on='song_id', how='left')\n",
        "\n",
        "    # Display the ranked songs\n",
        "    print(\"Ranked Songs for User 6958 based on Corrected Play Counts\")\n",
        "    print(ranked_songs[['song_id', 'title', 'artist_name', 'corrected_play_count', 'play_count', 'predicted_play_count']])\n",
        "\n",
        "    return ranked_songs\n",
        "\n",
        "# Call the function with recommendations and playing_count\n",
        "ranked_songs_df = ranking_songs(recommendations_df, playing_count)"
      ]
    },
    {
      "cell_type": "markdown",
      "metadata": {
        "id": "zQvst41lOoMX"
      },
      "source": [
        "**Think About It:** In the above function to correct the predicted play_count a quantity 1/np.sqrt(n) is subtracted. What is the intuition behind it? Is it also possible to add this quantity instead of subtracting?"
      ]
    },
    {
      "cell_type": "code",
      "execution_count": 55,
      "metadata": {
        "id": "xoiAL_vH8miC",
        "colab": {
          "base_uri": "https://localhost:8080/"
        },
        "outputId": "a70c1f6c-9567-470c-a7cb-c72f99124677"
      },
      "outputs": [
        {
          "output_type": "stream",
          "name": "stdout",
          "text": [
            "Ranked Songs for User 6958 based on Corrected Play Counts\n",
            "     song_id                            title             artist_name  \\\n",
            "0       8582                     Use Somebody           Kings Of Leon   \n",
            "1        352   Dog Days Are Over (Radio Edit)  Florence + The Machine   \n",
            "2       2220                    Sehr kosmisch                Harmonia   \n",
            "3       1118                           Clocks                Coldplay   \n",
            "4       4152                    The Scientist                Coldplay   \n",
            "..       ...                              ...                     ...   \n",
            "558     7224            Victoria (LP Version)                Old 97's   \n",
            "559     6450               Brave The Elements                Colossal   \n",
            "560     8324                  The Big Gundown             The Prodigy   \n",
            "561     6448                       Wild World             Cat Stevens   \n",
            "562     4831  Heaven Must Be Missing An Angel                 Tavares   \n",
            "\n",
            "     corrected_play_count  play_count  predicted_play_count  \n",
            "0              751.000000         751                   NaN  \n",
            "1              748.000000         748                   NaN  \n",
            "2              713.000000         713                   NaN  \n",
            "3              662.000000         662                   NaN  \n",
            "4              652.000000         652                   NaN  \n",
            "..                    ...         ...                   ...  \n",
            "558              2.838562         107              2.935235  \n",
            "559              2.569705         102              2.668720  \n",
            "560              2.365143          96              2.467205  \n",
            "561              2.290300         109              2.386082  \n",
            "562              2.247324          97              2.348859  \n",
            "\n",
            "[563 rows x 6 columns]\n"
          ]
        }
      ],
      "source": [
        "# Define the ranking_songs function with corrected play_count adjustment\n",
        "def ranking_songs(recommendations, playing_count):\n",
        "    # Sort the songs based on play counts\n",
        "    ranked_songs = playing_count.sort_values('play_count', ascending=False).reset_index()\n",
        "\n",
        "    # Merge with the recommended songs to get predicted play_counts\n",
        "    ranked_songs = ranked_songs.merge(recommendations[['song_id', 'predicted_play_count']],\n",
        "                                     on='song_id', how='left')\n",
        "\n",
        "    # Calculate number of users who played each song (n)\n",
        "    song_user_counts = df_final.groupby('song_id')['user_id'].count().reset_index()\n",
        "    song_user_counts.columns = ['song_id', 'n_users']\n",
        "\n",
        "    # Merge user counts into ranked_songs\n",
        "    ranked_songs = ranked_songs.merge(song_user_counts, on='song_id', how='left')\n",
        "\n",
        "    # Rank the songs based on corrected play_counts (subtract 1/sqrt(n) from predicted_play_count where available)\n",
        "    ranked_songs['corrected_play_count'] = ranked_songs.apply(\n",
        "        lambda row: row['predicted_play_count'] - 1/np.sqrt(row['n_users'])\n",
        "        if not pd.isna(row['predicted_play_count']) else row['play_count'], axis=1)\n",
        "\n",
        "    # Sort the songs based on corrected play_counts\n",
        "    ranked_songs = ranked_songs.sort_values('corrected_play_count', ascending=False)\n",
        "\n",
        "    # Merge with song details for interpretability\n",
        "    ranked_songs = ranked_songs.merge(df_final[['song_id', 'title', 'artist_name']].drop_duplicates(),\n",
        "                                     on='song_id', how='left')\n",
        "\n",
        "    # Display the ranked songs\n",
        "    print(\"Ranked Songs for User 6958 based on Corrected Play Counts\")\n",
        "    print(ranked_songs[['song_id', 'title', 'artist_name', 'corrected_play_count', 'play_count', 'predicted_play_count']])\n",
        "\n",
        "    return ranked_songs\n",
        "\n",
        "# Generate playing_count DataFrame from final_play (sum of play counts per song)\n",
        "playing_count = final_play[['song_id', 'play_freq']].rename(columns={'play_freq': 'play_count'})\n",
        "\n",
        "# Get top 5 recommendations for user_id 6958\n",
        "top_5_recommendations = get_recommendations(df_final, 6958, top_n=5, algo=tuned_user_user_model)\n",
        "recommendations_df = pd.DataFrame(top_5_recommendations, columns=['song_id', 'predicted_play_count'])\n",
        "\n",
        "# Apply the ranking_songs function on the final_play data\n",
        "ranked_songs_df = ranking_songs(recommendations_df, playing_count)\n"
      ]
    },
    {
      "cell_type": "markdown",
      "metadata": {
        "id": "KOwwGsH8toLG"
      },
      "source": [
        "**Observations and Insights: Now we are seeing a representation of no predicted count to 2.3 at the low end for recommendation indicating activity. The top 5 song recommendations have changed drastically but are still not listened to by the user. We see that the corrected and play count columns have correctly adjusted this range to a 751 play count highest recommendation and 97 play count lowest recommendation.**"
      ]
    },
    {
      "cell_type": "markdown",
      "metadata": {
        "id": "QgbzJKk7Tsnr"
      },
      "source": [
        "### Item Item Similarity-based collaborative filtering recommendation systems"
      ]
    },
    {
      "cell_type": "code",
      "execution_count": 54,
      "metadata": {
        "id": "W5RMcdzjTsns",
        "scrolled": false,
        "colab": {
          "base_uri": "https://localhost:8080/"
        },
        "outputId": "d919b465-6c1e-41e7-f285-5f485bb48b44"
      },
      "outputs": [
        {
          "output_type": "stream",
          "name": "stdout",
          "text": [
            "Computing the msd similarity matrix...\n",
            "Done computing similarity matrix.\n",
            "Item-Item Model Performance\n",
            "RMSE: 1.0421\n",
            "Precision:  0.323\n",
            "Recall:  0.537\n",
            "F_1 score:  0.403\n"
          ]
        }
      ],
      "source": [
        "# Define and train the item-item similarity-based collaborative filtering model\n",
        "item_item_model = KNNBasic(sim_options={'name': 'msd', 'user_based': False}, random_state=1)\n",
        "item_item_model.fit(trainset)\n",
        "\n",
        "# Predict on the test set\n",
        "predictions = item_item_model.test(testset)\n",
        "\n",
        "# Evaluate model performance using precision@k, recall@k, and F1 score with k=30\n",
        "print(\"Item-Item Model Performance\")\n",
        "results = precision_recall_at_k(item_item_model, k=30, threshold=1.5)"
      ]
    },
    {
      "cell_type": "markdown",
      "metadata": {
        "id": "JfdIJ6XWunx0"
      },
      "source": [
        "**Observations and Insights: We've improved the RMSE from baseline indicating increase accuracy. However, precision is nearly 10% lower than the baseline. Recall is also lower than the baseline. Even the F_1 score decreased indicating even worse overall precision and recall balance. We see stronger play count predictions but much worse user recommendations.**"
      ]
    },
    {
      "cell_type": "code",
      "execution_count": 60,
      "metadata": {
        "id": "5yILOxXRTsns",
        "colab": {
          "base_uri": "https://localhost:8080/"
        },
        "outputId": "e657a5c9-e54d-4bb8-f1bd-7eb3aab3acf8"
      },
      "outputs": [
        {
          "output_type": "stream",
          "name": "stdout",
          "text": [
            "Prediction for user 6958 with song 1671  Estimated play_count: 1.33\n",
            "  Real play_count: 2\n",
            "  Details: {'actual_k': 20, 'was_impossible': False}\n"
          ]
        }
      ],
      "source": [
        "# Predicting play count for a sample user_id 6958 and song (with song_id 1671) listened to by the user\n",
        "prediction_listened = item_item_model.predict(uid=6958, iid=1671, r_ui=2)\n",
        "print(f\"Prediction for user 6958 with song 1671\"\n",
        "      f\"  Estimated play_count: {prediction_listened.est:.2f}\\n\"\n",
        "      f\"  Real play_count: {prediction_listened.r_ui}\\n\"\n",
        "      f\"  Details: {prediction_listened.details}\")\n"
      ]
    },
    {
      "cell_type": "code",
      "execution_count": 61,
      "metadata": {
        "id": "jSn8oK3JZsTc",
        "colab": {
          "base_uri": "https://localhost:8080/"
        },
        "outputId": "1a92ca6a-2820-4127-a4ec-fc71a79b6f17"
      },
      "outputs": [
        {
          "output_type": "stream",
          "name": "stdout",
          "text": [
            "Prediction for user 12811 with song 1671 (not listened):\n",
            "  Estimated play_count: 1.00\n",
            "  Details: {'actual_k': 1, 'was_impossible': False}\n"
          ]
        }
      ],
      "source": [
        "# Predict the play count for a user that has not listened to the song (with song_id 1671)\n",
        "\n",
        "# Select a random user who has not listened to song_id 1671\n",
        "listened_users = df_final[df_final['song_id'] == 1671]['user_id'].unique().tolist()\n",
        "non_listened_users = [uid for uid in df_final['user_id'].unique().tolist() if uid not in listened_users]\n",
        "random_non_listened_user = random.choice(non_listened_users)\n",
        "\n",
        "# Predict play count for a user who has not listened to song_id 1671\n",
        "prediction_unlistened = item_item_model.predict(uid=random_non_listened_user, iid=1671)\n",
        "print(f\"Prediction for user {random_non_listened_user} with song 1671 (not listened):\\n\"\n",
        "      f\"  Estimated play_count: {prediction_unlistened.est:.2f}\\n\"\n",
        "      f\"  Details: {prediction_unlistened.details}\")"
      ]
    },
    {
      "cell_type": "markdown",
      "metadata": {
        "id": "dxE9fJ8Dupby"
      },
      "source": [
        "**Observations and Insights: We still underestimate the play count of the song by 0.67 - our estimate of 1.00 for unlistened song is therefore likely less accurate.**"
      ]
    },
    {
      "cell_type": "code",
      "execution_count": 64,
      "metadata": {
        "id": "f5bcZ3HgTsnt",
        "colab": {
          "base_uri": "https://localhost:8080/"
        },
        "outputId": "c9ac5905-b501-4419-854a-1192a91cb1f2"
      },
      "outputs": [
        {
          "output_type": "stream",
          "name": "stdout",
          "text": [
            "Starting GridSearchCV fitting for item-item model\n",
            "Computing the msd similarity matrix...\n",
            "Done computing similarity matrix.\n",
            "Computing the msd similarity matrix...\n",
            "Done computing similarity matrix.\n",
            "Computing the msd similarity matrix...\n",
            "Done computing similarity matrix.\n",
            "Computing the cosine similarity matrix...\n",
            "Done computing similarity matrix.\n",
            "Computing the cosine similarity matrix...\n",
            "Done computing similarity matrix.\n",
            "Computing the cosine similarity matrix...\n",
            "Done computing similarity matrix.\n",
            "Computing the pearson similarity matrix...\n",
            "Done computing similarity matrix.\n",
            "Computing the pearson similarity matrix...\n",
            "Done computing similarity matrix.\n",
            "Computing the pearson similarity matrix...\n",
            "Done computing similarity matrix.\n",
            "Computing the msd similarity matrix...\n",
            "Done computing similarity matrix.\n",
            "Computing the msd similarity matrix...\n",
            "Done computing similarity matrix.\n",
            "Computing the msd similarity matrix...\n",
            "Done computing similarity matrix.\n",
            "Computing the cosine similarity matrix...\n",
            "Done computing similarity matrix.\n",
            "Computing the cosine similarity matrix...\n",
            "Done computing similarity matrix.\n",
            "Computing the cosine similarity matrix...\n",
            "Done computing similarity matrix.\n",
            "Computing the pearson similarity matrix...\n",
            "Done computing similarity matrix.\n",
            "Computing the pearson similarity matrix...\n",
            "Done computing similarity matrix.\n",
            "Computing the pearson similarity matrix...\n",
            "Done computing similarity matrix.\n",
            "Computing the msd similarity matrix...\n",
            "Done computing similarity matrix.\n",
            "Computing the msd similarity matrix...\n",
            "Done computing similarity matrix.\n",
            "Computing the msd similarity matrix...\n",
            "Done computing similarity matrix.\n",
            "Computing the cosine similarity matrix...\n",
            "Done computing similarity matrix.\n",
            "Computing the cosine similarity matrix...\n",
            "Done computing similarity matrix.\n",
            "Computing the cosine similarity matrix...\n",
            "Done computing similarity matrix.\n",
            "Computing the pearson similarity matrix...\n",
            "Done computing similarity matrix.\n",
            "Computing the pearson similarity matrix...\n",
            "Done computing similarity matrix.\n",
            "Computing the pearson similarity matrix...\n",
            "Done computing similarity matrix.\n",
            "GridSearchCV fitting completed.\n",
            "Best RMSE score: 1.0361\n",
            "Best parameters: {'k': 40, 'sim_options': {'name': 'cosine', 'user_based': False}}\n"
          ]
        }
      ],
      "source": [
        "# Define the parameter grid to tune the hyperparameters for item-item model\n",
        "param_grid = {\n",
        "    'k': [20, 40, 60],  # Number of neighbors\n",
        "    'sim_options': {\n",
        "        'name': ['msd', 'cosine', 'pearson'],\n",
        "        'user_based': [False]  # Item-based\n",
        "    }\n",
        "}\n",
        "\n",
        "# Performing 3-fold cross-validation to tune the hyperparameters\n",
        "tuned_item_item_gs = GridSearchCV(KNNBasic, param_grid, measures=['rmse'], cv=3)\n",
        "\n",
        "# Fitting the data\n",
        "print(\"Starting GridSearchCV fitting for item-item model\")\n",
        "tuned_item_item_gs.fit(data)\n",
        "print(\"GridSearchCV fitting completed.\")\n",
        "\n",
        "# Find the best RMSE score\n",
        "print(f\"Best RMSE score: {tuned_item_item_gs.best_score['rmse']:.4f}\")\n",
        "\n",
        "# Extract the combination of parameters that gave the best RMSE score\n",
        "print(\"Best parameters:\", tuned_item_item_gs.best_params['rmse'])\n"
      ]
    },
    {
      "cell_type": "markdown",
      "metadata": {
        "id": "SXLxjLEQYvWk"
      },
      "source": [
        "**Think About It:** How do the parameters affect the performance of the model? Can we improve the performance of the model further? Check the list of hyperparameters [here](https://surprise.readthedocs.io/en/stable/knn_inspired.html)."
      ]
    },
    {
      "cell_type": "code",
      "execution_count": 120,
      "metadata": {
        "id": "dSeiM1qeTsnt",
        "colab": {
          "base_uri": "https://localhost:8080/"
        },
        "outputId": "69812240-2c13-406a-fd6d-6f05c9166c30"
      },
      "outputs": [
        {
          "output_type": "stream",
          "name": "stdout",
          "text": [
            "Computing the cosine similarity matrix...\n",
            "Done computing similarity matrix.\n",
            "Tuned Item-Item Model Performance)\n",
            "RMSE: 1.0394\n",
            "Precision:  0.307\n",
            "Recall:  0.562\n",
            "F_1 score:  0.397\n"
          ]
        }
      ],
      "source": [
        "# Apply the best model found in the grid search\n",
        "tuned_item_item_model = KNNBasic(k=40, sim_options={'name': 'cosine', 'user_based': False}, random_state=1)\n",
        "tuned_item_item_model.fit(trainset)\n",
        "\n",
        "# Predict on the test set\n",
        "predictions = tuned_item_item_model.test(testset)\n",
        "\n",
        "# Evaluate model performance using precision@k, recall@k, and F1 score with k=30\n",
        "print(\"Tuned Item-Item Model Performance)\")\n",
        "results = precision_recall_at_k(tuned_item_item_model, k=30, threshold=1.5)"
      ]
    },
    {
      "cell_type": "markdown",
      "metadata": {
        "id": "XxXelRIluvfh"
      },
      "source": [
        "**Observations and Insights: Our tuning improved on the RMSE over all other models except for the grid search. Precision is lower than all other models. Recall is improved from the untuned model but still worse than user-user. F_1 score has only fallen further. Overall tuning the model increased the RMSE but lowered all other factors.**"
      ]
    },
    {
      "cell_type": "code",
      "execution_count": 70,
      "metadata": {
        "id": "gIBRRvdoTsnt",
        "colab": {
          "base_uri": "https://localhost:8080/"
        },
        "outputId": "707b3d36-f0fe-4567-b498-2533e4ce621c"
      },
      "outputs": [
        {
          "output_type": "stream",
          "name": "stdout",
          "text": [
            "Prediction for user 6958 with song 1671 (listened)  Estimated play_count: 1.36\n",
            "  Real play_count: 2\n",
            "  Details: {'actual_k': 20, 'was_impossible': False}\n"
          ]
        }
      ],
      "source": [
        "# Predict the play_count for user_id 6958 and song_id 1671 (listened, r_ui=2)\n",
        "prediction_listened = tuned_item_item_model.predict(uid=6958, iid=1671, r_ui=2)\n",
        "print(f\"Prediction for user 6958 with song 1671 (listened)\"\n",
        "      f\"  Estimated play_count: {prediction_listened.est:.2f}\\n\"\n",
        "      f\"  Real play_count: {prediction_listened.r_ui}\\n\"\n",
        "      f\"  Details: {prediction_listened.details}\")"
      ]
    },
    {
      "cell_type": "code",
      "execution_count": 71,
      "metadata": {
        "id": "LNEgcI9PTsnu",
        "colab": {
          "base_uri": "https://localhost:8080/"
        },
        "outputId": "d1be21f3-c1b7-483e-fec3-8c600ca0f524"
      },
      "outputs": [
        {
          "output_type": "stream",
          "name": "stdout",
          "text": [
            "Prediction for user 6958 with song 3232 (not listened)  Estimated play_count: 1.38\n",
            "  Details: {'actual_k': 20, 'was_impossible': False}\n"
          ]
        }
      ],
      "source": [
        "# Verify song_id 3232 is not listened to by user_id 6958\n",
        "is_unlistened = df_final[(df_final['user_id'] == 6958) & (df_final['song_id'] == 3232)].empty\n",
        "if is_unlistened:\n",
        "    # Predict the play_count for user_id 6958 and song_id 3232 (not listened)\n",
        "    prediction_unlistened = tuned_item_item_model.predict(uid=6958, iid=3232)\n",
        "    print(f\"Prediction for user 6958 with song 3232 (not listened)\"\n",
        "          f\"  Estimated play_count: {prediction_unlistened.est:.2f}\\n\"\n",
        "          f\"  Details: {prediction_unlistened.details}\")\n",
        "else:\n",
        "    print(f\"Error: Song 3232 has been listened to by user 6958.\")"
      ]
    },
    {
      "cell_type": "markdown",
      "metadata": {
        "id": "yf3kDSepuwcw"
      },
      "source": [
        "**Observations and Insights: Our prediction error has actually decreased slightly but nothing of note especially compared to the tradeoffs of the model.**"
      ]
    },
    {
      "cell_type": "code",
      "execution_count": 75,
      "metadata": {
        "id": "ZRJS4oDFTsnu"
      },
      "outputs": [],
      "source": [
        "# Find five most similar items to the item with inner id 0 using tuned_item_item_model\n",
        "song_inner_id = 0\n",
        "neighbors = tuned_item_item_model.get_neighbors(iid=song_inner_id, k=5)\n",
        "\n",
        "# Convert inner IDs to raw song IDs\n",
        "raw_song_ids = [tuned_item_item_model.trainset.to_raw_iid(inner_id) for inner_id in neighbors]\n",
        "\n",
        "# Get song details for neighbors\n",
        "neighbor_details = df_final[df_final['song_id'].isin(raw_song_ids)][['song_id', 'title', 'artist_name']].drop_duplicates()"
      ]
    },
    {
      "cell_type": "code",
      "execution_count": 79,
      "metadata": {
        "id": "rzoEbuZFTsnu",
        "colab": {
          "base_uri": "https://localhost:8080/"
        },
        "outputId": "bbf60b99-11c1-433e-dc45-a301ac31b4f8"
      },
      "outputs": [
        {
          "output_type": "stream",
          "name": "stdout",
          "text": [
            "5 Most Similar Songs to Song with Inner ID 0 (Raw ID: 211):\n",
            "\n",
            "       song_id                            title      artist_name\n",
            "734       9702                          Trouble         Coldplay\n",
            "1220      2686                 Vanilla Twilight         Owl City\n",
            "5017      8624                   Hearts On Fire         Cut Copy\n",
            "16033     5616  No One's Gonna Love You (Album)   Band Of Horses\n",
            "27584     6482                   Porno Disaster  Octopus Project\n"
          ]
        }
      ],
      "source": [
        "# Making top 5 recommendations for any user_id  with item_item_similarity-based recommendation engine\n",
        "# Print the results\n",
        "print(f\"5 Most Similar Songs to Song with Inner ID {song_inner_id} (Raw ID: {tuned_item_item_model.trainset.to_raw_iid(song_inner_id)}):\\n\")\n",
        "print(neighbor_details)"
      ]
    },
    {
      "cell_type": "code",
      "execution_count": 80,
      "metadata": {
        "id": "_kXVTiysTsnv",
        "colab": {
          "base_uri": "https://localhost:8080/"
        },
        "outputId": "56d7b164-ae44-40e9-b529-087727b9a566"
      },
      "outputs": [
        {
          "output_type": "stream",
          "name": "stdout",
          "text": [
            "Top 5 Song Recommendations for User 6958\n",
            "   song_id                            title  artist_name  predicted_play_count\n",
            "0     7224            Victoria (LP Version)     Old 97's              2.935235\n",
            "1     6450               Brave The Elements     Colossal              2.668720\n",
            "2     8324                  The Big Gundown  The Prodigy              2.467205\n",
            "3     6448                       Wild World  Cat Stevens              2.386082\n",
            "4     4831  Heaven Must Be Missing An Angel      Tavares              2.348859\n"
          ]
        }
      ],
      "source": [
        "# Building the dataframe for the recommendations with columns \"song_id\" and \"predicted_play_count\"\n",
        "recommendations_df = pd.DataFrame(top_5_recommendations, columns=['song_id', 'predicted_play_count'])\n",
        "\n",
        "# Add song details (title, artist_name) for interpretability\n",
        "recommendations_df = recommendations_df.merge(df_final[['song_id', 'title', 'artist_name']].drop_duplicates(), on='song_id', how='left')\n",
        "\n",
        "# Print the recommendations for user 6958\n",
        "print(f\"Top 5 Song Recommendations for User 6958\")\n",
        "print(recommendations_df[['song_id', 'title', 'artist_name', 'predicted_play_count']])"
      ]
    },
    {
      "cell_type": "code",
      "execution_count": 81,
      "metadata": {
        "id": "7gewfmTATsnv",
        "colab": {
          "base_uri": "https://localhost:8080/"
        },
        "outputId": "c6ee8fe9-079c-44c2-f23c-1cd6dde36d69"
      },
      "outputs": [
        {
          "output_type": "stream",
          "name": "stdout",
          "text": [
            "Ranked Songs for User 6958 based on Corrected Play Counts\n",
            "     song_id                            title             artist_name  \\\n",
            "0        352   Dog Days Are Over (Radio Edit)  Florence + The Machine   \n",
            "1       2220                    Sehr kosmisch                Harmonia   \n",
            "2       8582                     Use Somebody           Kings Of Leon   \n",
            "3       5531                          Secrets             OneRepublic   \n",
            "4       4448                        Fireflies      Charttraxx Karaoke   \n",
            "..       ...                              ...                     ...   \n",
            "558     7224            Victoria (LP Version)                Old 97's   \n",
            "559     6450               Brave The Elements                Colossal   \n",
            "560     8324                  The Big Gundown             The Prodigy   \n",
            "561     6448                       Wild World             Cat Stevens   \n",
            "562     4831  Heaven Must Be Missing An Angel                 Tavares   \n",
            "\n",
            "     corrected_play_count  play_count  predicted_play_count  \n",
            "0             1634.000000        1634                   NaN  \n",
            "1             1583.000000        1583                   NaN  \n",
            "2             1463.000000        1463                   NaN  \n",
            "3             1427.000000        1427                   NaN  \n",
            "4             1291.000000        1291                   NaN  \n",
            "..                    ...         ...                   ...  \n",
            "558              2.935235         361              2.935235  \n",
            "559              2.668720         263              2.668720  \n",
            "560              2.467205         252              2.467205  \n",
            "561              2.386082         202              2.386082  \n",
            "562              2.348859         214              2.348859  \n",
            "\n",
            "[563 rows x 6 columns]\n"
          ]
        }
      ],
      "source": [
        "# Generate playing_count from df_final\n",
        "playing_count = df_final.groupby('song_id')['play_count'].sum().reset_index()\n",
        "\n",
        "# Apply the ranking_songs function on the recommendations for user 6958\n",
        "ranked_songs_df = ranking_songs(recommendations_df, playing_count)"
      ]
    },
    {
      "cell_type": "markdown",
      "metadata": {
        "id": "Ore9XTFgv5Np"
      },
      "source": [
        "**Observations and Insights: We know the model is pretty imprecise so we can expect such low play count recommendations aka recommendations that are not relevant. Corrected play count doesn't seem to drastically impact the model. The songs are relatively close despite being imprecise so there is something in the KNN. Essentially it is good at locating similar songs but not making recommendations.**"
      ]
    },
    {
      "cell_type": "markdown",
      "metadata": {
        "id": "rKgJpSA9vOOL"
      },
      "source": [
        "### Model Based Collaborative Filtering - Matrix Factorization"
      ]
    },
    {
      "cell_type": "markdown",
      "metadata": {
        "id": "hJynidJCw-ti"
      },
      "source": [
        "Model-based Collaborative Filtering is a **personalized recommendation system**, the recommendations are based on the past behavior of the user and it is not dependent on any additional information. We use **latent features** to find recommendations for each user."
      ]
    },
    {
      "cell_type": "code",
      "execution_count": 82,
      "metadata": {
        "id": "07-2PT5Ssjqm",
        "colab": {
          "base_uri": "https://localhost:8080/"
        },
        "outputId": "4839dee0-bb93-4c93-e29b-d795e7541364"
      },
      "outputs": [
        {
          "output_type": "execute_result",
          "data": {
            "text/plain": [
              "<surprise.prediction_algorithms.matrix_factorization.SVD at 0x7ea3e3d27710>"
            ]
          },
          "metadata": {},
          "execution_count": 82
        }
      ],
      "source": [
        "# Build baseline model using SVD\n",
        "baseline_svd_model = SVD(random_state=1)\n",
        "baseline_svd_model.fit(trainset)"
      ]
    },
    {
      "cell_type": "code",
      "execution_count": 83,
      "metadata": {
        "id": "yWIhfdxXsjqm",
        "colab": {
          "base_uri": "https://localhost:8080/"
        },
        "outputId": "fa6644cc-4209-4280-f689-d917f798b194"
      },
      "outputs": [
        {
          "output_type": "stream",
          "name": "stdout",
          "text": [
            "Prediction for user 6958 with song 1671 (listened):  Estimated play_count: 1.27\n",
            "  Real play_count: 2\n",
            "  Details: {'was_impossible': False}\n"
          ]
        }
      ],
      "source": [
        "# Making prediction for user (with user_id 6958) to song (with song_id 1671), take r_ui = 2\n",
        "prediction_listened = baseline_svd_model.predict(uid=6958, iid=1671, r_ui=2)\n",
        "print(f\"Prediction for user 6958 with song 1671 (listened):\"\n",
        "      f\"  Estimated play_count: {prediction_listened.est:.2f}\\n\"\n",
        "      f\"  Real play_count: {prediction_listened.r_ui}\\n\"\n",
        "      f\"  Details: {prediction_listened.details}\")"
      ]
    },
    {
      "cell_type": "code",
      "execution_count": 84,
      "metadata": {
        "id": "APm-uMSvcAMf",
        "colab": {
          "base_uri": "https://localhost:8080/"
        },
        "outputId": "86181fad-803a-497f-f599-dfa237b84558"
      },
      "outputs": [
        {
          "output_type": "stream",
          "name": "stdout",
          "text": [
            "Prediction for user 6958 with song 3232 (not listened):\n",
            "  Estimated play_count: 1.56\n",
            "  Details: {'was_impossible': False}\n"
          ]
        }
      ],
      "source": [
        "# Making a prediction for the user who has not listened to the song (song_id 3232)\n",
        "prediction_unlistened = baseline_svd_model.predict(uid=6958, iid=3232)\n",
        "print(f\"Prediction for user 6958 with song 3232 (not listened):\\n\"\n",
        "      f\"  Estimated play_count: {prediction_unlistened.est:.2f}\\n\"\n",
        "      f\"  Details: {prediction_unlistened.details}\")"
      ]
    },
    {
      "cell_type": "markdown",
      "metadata": {
        "id": "23tnRUJJxWTR"
      },
      "source": [
        "#### Improving matrix factorization based recommendation system by tuning its hyperparameters"
      ]
    },
    {
      "cell_type": "code",
      "execution_count": 85,
      "metadata": {
        "id": "4bM81V_hvtwv",
        "colab": {
          "base_uri": "https://localhost:8080/"
        },
        "outputId": "7f72bb5a-ea71-4a55-8b68-97542f0f6f51"
      },
      "outputs": [
        {
          "output_type": "stream",
          "name": "stdout",
          "text": [
            "Starting GridSearchCV fitting for SVD model...\n",
            "GridSearchCV fitting completed.\n",
            "Best RMSE score: 1.0027\n",
            "Best parameters: {'n_factors': 150, 'n_epochs': 30, 'lr_all': 0.01, 'reg_all': 0.1}\n"
          ]
        }
      ],
      "source": [
        "# Set the parameter space to tune\n",
        "param_grid = {\n",
        "    'n_factors': [50, 100, 150],  # Number of latent factors\n",
        "    'n_epochs': [20, 30],         # Number of iterations\n",
        "    'lr_all': [0.005, 0.01],     # Learning rate\n",
        "    'reg_all': [0.02, 0.1]       # Regularization term\n",
        "}\n",
        "\n",
        "# Perform 3-fold grid-search cross-validation\n",
        "svd_grid_search = GridSearchCV(SVD, param_grid, measures=['rmse'], cv=3)\n",
        "\n",
        "# Fitting data\n",
        "print(\"Starting GridSearchCV fitting for SVD model...\")\n",
        "svd_grid_search.fit(data)\n",
        "print(\"GridSearchCV fitting completed.\")\n",
        "\n",
        "# Best RMSE score\n",
        "print(f\"Best RMSE score: {svd_grid_search.best_score['rmse']:.4f}\")\n",
        "\n",
        "# Combination of parameters that gave the best RMSE score\n",
        "print(\"Best parameters:\", svd_grid_search.best_params['rmse'])\n"
      ]
    },
    {
      "cell_type": "markdown",
      "metadata": {
        "id": "aSgBRcL1xnVC"
      },
      "source": [
        "**Think About It**: How do the parameters affect the performance of the model? Can we improve the performance of the model further? Check the available hyperparameters [here](https://surprise.readthedocs.io/en/stable/matrix_factorization.html)."
      ]
    },
    {
      "cell_type": "code",
      "execution_count": 87,
      "metadata": {
        "id": "TA_7xe-nnhuu",
        "colab": {
          "base_uri": "https://localhost:8080/"
        },
        "outputId": "cc9e51d1-e0be-4e15-fb34-fa68e5ab39b1"
      },
      "outputs": [
        {
          "output_type": "stream",
          "name": "stdout",
          "text": [
            "Tuned SVD Model Performance\n",
            "RMSE: 1.0081\n",
            "Precision:  0.419\n",
            "Recall:  0.624\n",
            "F_1 score:  0.501\n"
          ]
        }
      ],
      "source": [
        "# Building the optimized SVD model using optimal hyperparameters\n",
        "tuned_svd_model = SVD(\n",
        "    n_factors=150,\n",
        "    n_epochs=30,\n",
        "    lr_all=0.01,\n",
        "    reg_all=0.1,\n",
        "    random_state=1\n",
        ")\n",
        "tuned_svd_model.fit(trainset)\n",
        "\n",
        "# Evaluate model performance using precision@k, recall@k, and F1 score with k=30\n",
        "predictions = tuned_svd_model.test(testset)\n",
        "print(\"Tuned SVD Model Performance\")\n",
        "results = precision_recall_at_k(tuned_svd_model, k=30, threshold=1.5)\n"
      ]
    },
    {
      "cell_type": "markdown",
      "metadata": {
        "id": "l3t5JdBmxz8l"
      },
      "source": [
        "**Observations and Insights: This is the best RMSE we've gotten yet. This is the highest level of presicion over all other models. Recall is slightly less than user to user but higher than item to item. The same F_1 score as user to user and stronger than item to item. This means that SVD is our most effective model so far.**"
      ]
    },
    {
      "cell_type": "code",
      "execution_count": 88,
      "metadata": {
        "id": "s6C1PAfboM8_",
        "colab": {
          "base_uri": "https://localhost:8080/"
        },
        "outputId": "fa1286e1-84b6-4b82-fd01-ed832e8d9e67"
      },
      "outputs": [
        {
          "output_type": "stream",
          "name": "stdout",
          "text": [
            "Prediction for user 6958 with song 1671 (listened)  Estimated play_count: 1.55\n",
            "  Real play_count: 2\n",
            "  Details: {'was_impossible': False}\n"
          ]
        }
      ],
      "source": [
        "# Using tuned_svd_model to predict for user_id 6958 and song_id 1671 (listened, r_ui=2)\n",
        "prediction_listened = tuned_svd_model.predict(uid=6958, iid=1671, r_ui=2)\n",
        "print(f\"Prediction for user 6958 with song 1671 (listened)\"\n",
        "      f\"  Estimated play_count: {prediction_listened.est:.2f}\\n\"\n",
        "      f\"  Real play_count: {prediction_listened.r_ui}\\n\"\n",
        "      f\"  Details: {prediction_listened.details}\")\n"
      ]
    },
    {
      "cell_type": "code",
      "execution_count": 89,
      "metadata": {
        "id": "k1xjn3kOoQyg",
        "colab": {
          "base_uri": "https://localhost:8080/"
        },
        "outputId": "73041859-6051-498c-8181-318ffd8ba9d1"
      },
      "outputs": [
        {
          "output_type": "stream",
          "name": "stdout",
          "text": [
            "Prediction for user 6958 with song 3232 (not listened):\n",
            "  Estimated play_count: 1.42\n",
            "  Details: {'was_impossible': False}\n"
          ]
        }
      ],
      "source": [
        "# Verify song_id 3232 is not listened to by user_id 6958\n",
        "is_unlistened = df_final[(df_final['user_id'] == 6958) & (df_final['song_id'] == 3232)].empty\n",
        "if is_unlistened:\n",
        "    # Using tuned_svd_model to predict for user_id 6958 and song_id 3232 (not listened)\n",
        "    prediction_unlistened = tuned_svd_model.predict(uid=6958, iid=3232)\n",
        "    print(f\"Prediction for user 6958 with song 3232 (not listened):\\n\"\n",
        "          f\"  Estimated play_count: {prediction_unlistened.est:.2f}\\n\"\n",
        "          f\"  Details: {prediction_unlistened.details}\")\n",
        "else:\n",
        "    print(f\"Error: Song 3232 has been listened to by user 6958.\")"
      ]
    },
    {
      "cell_type": "markdown",
      "metadata": {
        "id": "Qm732Wuvy76R"
      },
      "source": [
        "**Observations and Insights: This is our smallest margin of error between estimated and actual values so far for the user. This means we can likely presume the prediction is closer but can still be tuned for unlistened songs.**"
      ]
    },
    {
      "cell_type": "code",
      "execution_count": 91,
      "metadata": {
        "id": "1LGeE2EB_n90",
        "colab": {
          "base_uri": "https://localhost:8080/"
        },
        "outputId": "74e3e3ab-4099-434e-b604-6559e7ada837"
      },
      "outputs": [
        {
          "output_type": "stream",
          "name": "stdout",
          "text": [
            "Top 5 Song Recommendations for User 6958 using SVD Model\n",
            "   song_id                            title   artist_name  \\\n",
            "0     7224            Victoria (LP Version)      Old 97's   \n",
            "1     4831  Heaven Must Be Missing An Angel       Tavares   \n",
            "2     9942                      Greece 2000  Three Drives   \n",
            "3     6860             Mercy:The Laundromat      Pavement   \n",
            "4     5531                          Secrets   OneRepublic   \n",
            "\n",
            "   predicted_play_count  actual_play_count  \n",
            "0              2.716191                  0  \n",
            "1              2.264428                  0  \n",
            "2              2.143706                  0  \n",
            "3              2.102709                  0  \n",
            "4              2.085055                  0  \n"
          ]
        }
      ],
      "source": [
        "# Getting top 5 recommendations for user_id 6958 using \"svd_optimized\" algorithm\n",
        "top_5_recommendations = get_recommendations(df_final, 6958, top_n=5, algo=tuned_svd_model)\n",
        "\n",
        "# Building the dataframe for the recommendations with columns \"song_id\" and \"predicted_play_count\"\n",
        "recommendations_df = pd.DataFrame(top_5_recommendations, columns=['song_id', 'predicted_play_count'])\n",
        "\n",
        "# Add song details (title, artist_name) and actual play_count for interpretability\n",
        "recommendations_df = recommendations_df.merge(df_final[['song_id', 'title', 'artist_name']].drop_duplicates(), on='song_id', how='left')\n",
        "recommendations_df['actual_play_count'] = recommendations_df['song_id'].apply(\n",
        "    lambda sid: df_final[(df_final['user_id'] == 6958) & (df_final['song_id'] == sid)]['play_count'].iloc[0]\n",
        "    if not df_final[(df_final['user_id'] == 6958) & (df_final['song_id'] == sid)].empty else 0\n",
        ")\n",
        "\n",
        "# Print the recommendations\n",
        "print(f\"Top 5 Song Recommendations for User 6958 using SVD Model\")\n",
        "print(recommendations_df[['song_id', 'title', 'artist_name', 'predicted_play_count', 'actual_play_count']])"
      ]
    },
    {
      "cell_type": "code",
      "execution_count": 92,
      "metadata": {
        "id": "6ngiGSJU818M",
        "colab": {
          "base_uri": "https://localhost:8080/"
        },
        "outputId": "b6dab5ba-f925-49ea-87b8-dc8a1af24adb"
      },
      "outputs": [
        {
          "output_type": "stream",
          "name": "stdout",
          "text": [
            "Ranked Songs for User 6958 based on Corrected Play Counts\n",
            "     song_id                            title             artist_name  \\\n",
            "0       8582                     Use Somebody           Kings Of Leon   \n",
            "1        352   Dog Days Are Over (Radio Edit)  Florence + The Machine   \n",
            "2       2220                    Sehr kosmisch                Harmonia   \n",
            "3       1118                           Clocks                Coldplay   \n",
            "4       4152                    The Scientist                Coldplay   \n",
            "..       ...                              ...                     ...   \n",
            "558     7224            Victoria (LP Version)                Old 97's   \n",
            "559     4831  Heaven Must Be Missing An Angel                 Tavares   \n",
            "560     9942                      Greece 2000            Three Drives   \n",
            "561     6860             Mercy:The Laundromat                Pavement   \n",
            "562     5531                          Secrets             OneRepublic   \n",
            "\n",
            "     corrected_play_count  play_count  predicted_play_count  \n",
            "0              751.000000         751                   NaN  \n",
            "1              748.000000         748                   NaN  \n",
            "2              713.000000         713                   NaN  \n",
            "3              662.000000         662                   NaN  \n",
            "4              652.000000         652                   NaN  \n",
            "..                    ...         ...                   ...  \n",
            "558              2.716191         107              2.716191  \n",
            "559              2.264428          97              2.264428  \n",
            "560              2.143706         150              2.143706  \n",
            "561              2.102709         169              2.102709  \n",
            "562              2.085055         618              2.085055  \n",
            "\n",
            "[563 rows x 6 columns]\n"
          ]
        }
      ],
      "source": [
        "# Ranking songs based on above recommendations\n",
        "# Apply the ranking_songs function\n",
        "playing_count = final_play[['song_id', 'play_freq']].rename(columns={'play_freq': 'play_count'})\n",
        "ranked_songs_df = ranking_songs(recommendations_df, playing_count)"
      ]
    },
    {
      "cell_type": "markdown",
      "metadata": {
        "id": "SepUU1Efy_9Z"
      },
      "source": [
        "**Observations and Insights: As expected from our stats we see more relevant recommendations albeit with lower play counts compared to item to item. We see somewhat of an inverse with user to user with it having slightly lower recall but a better RMSE - it captures less relevance but is more accurate than user to user.**"
      ]
    },
    {
      "cell_type": "markdown",
      "metadata": {
        "id": "57b31de5"
      },
      "source": [
        "### Cluster Based Recommendation System"
      ]
    },
    {
      "cell_type": "markdown",
      "metadata": {
        "id": "9Xv2AZCszCdN"
      },
      "source": [
        "In **clustering-based recommendation systems**, we explore the **similarities and differences** in people's tastes in songs based on how they rate different songs. We cluster similar users together and recommend songs to a user based on play_counts from other users in the same cluster."
      ]
    },
    {
      "cell_type": "code",
      "execution_count": 93,
      "metadata": {
        "id": "0c4b20e4",
        "colab": {
          "base_uri": "https://localhost:8080/"
        },
        "outputId": "8365e205-6437-413f-915c-e1c9a6547d90"
      },
      "outputs": [
        {
          "output_type": "execute_result",
          "data": {
            "text/plain": [
              "<surprise.prediction_algorithms.co_clustering.CoClustering at 0x7ea3e3d111f0>"
            ]
          },
          "metadata": {},
          "execution_count": 93
        }
      ],
      "source": [
        "# Make baseline clustering model\n",
        "baseline_clustering_model = CoClustering(random_state=1)\n",
        "baseline_clustering_model.fit(trainset)"
      ]
    },
    {
      "cell_type": "code",
      "execution_count": 122,
      "metadata": {
        "id": "11dbdc0f",
        "colab": {
          "base_uri": "https://localhost:8080/"
        },
        "outputId": "d3e34937-6d66-46b1-b015-7c81811540fb"
      },
      "outputs": [
        {
          "output_type": "stream",
          "name": "stdout",
          "text": [
            "Prediction for user 6958 with song 1671 (listened)  Estimated play_count: 1.29\n",
            "  Real play_count: 2\n",
            "  Details: {'was_impossible': False}\n"
          ]
        }
      ],
      "source": [
        "# Making prediction for user_id 6958 and song_id 1671\n",
        "prediction_listened = baseline_clustering_model.predict(uid=6958, iid=1671, r_ui=2)\n",
        "print(f\"Prediction for user 6958 with song 1671 (listened)\"\n",
        "      f\"  Estimated play_count: {prediction_listened.est:.2f}\\n\"\n",
        "      f\"  Real play_count: {prediction_listened.r_ui}\\n\"\n",
        "      f\"  Details: {prediction_listened.details}\")"
      ]
    },
    {
      "cell_type": "code",
      "execution_count": 95,
      "metadata": {
        "id": "dab1aaed",
        "colab": {
          "base_uri": "https://localhost:8080/"
        },
        "outputId": "aba82980-d0bb-491c-bf82-b1b0bd19bc0b"
      },
      "outputs": [
        {
          "output_type": "stream",
          "name": "stdout",
          "text": [
            "Prediction for user 6958 with song 3232 (not listened):\n",
            "  Estimated play_count: 1.48\n",
            "  Details: {'was_impossible': False}\n"
          ]
        }
      ],
      "source": [
        "# Making prediction for user (userid 6958) for a song(song_id 3232) not listened to by the user\n",
        "# note we have been practicing clean code methodology and accounting for errors\n",
        "is_unlistened = df_final[(df_final['user_id'] == 6958) & (df_final['song_id'] == 3232)].empty\n",
        "if is_unlistened:\n",
        "    # Making prediction for user_id 6958 and song_id 3232 (not listened)\n",
        "    prediction_unlistened = baseline_clustering_model.predict(uid=6958, iid=3232)\n",
        "    print(f\"Prediction for user 6958 with song 3232 (not listened):\\n\"\n",
        "          f\"  Estimated play_count: {prediction_unlistened.est:.2f}\\n\"\n",
        "          f\"  Details: {prediction_unlistened.details}\")\n",
        "else:\n",
        "    print(f\"Error: Song 3232 has been listened to by user 6958.\")"
      ]
    },
    {
      "cell_type": "markdown",
      "metadata": {
        "id": "c2fd66f5"
      },
      "source": [
        "#### Improving clustering-based recommendation system by tuning its hyper-parameters"
      ]
    },
    {
      "cell_type": "code",
      "execution_count": 98,
      "metadata": {
        "id": "efe7d8e6",
        "colab": {
          "base_uri": "https://localhost:8080/"
        },
        "outputId": "26463b5c-9a62-4811-d41e-836329800e7b"
      },
      "outputs": [
        {
          "output_type": "stream",
          "name": "stdout",
          "text": [
            "Starting GridSearchCV fitting for CoClustering model\n",
            "GridSearchCV fitting completed.\n",
            "Best RMSE score: 1.0459\n",
            "Best parameters: {'n_cltr_u': 3, 'n_cltr_i': 3, 'n_epochs': 20}\n"
          ]
        }
      ],
      "source": [
        "# Set the parameter space to tune\n",
        "param_grid = {\n",
        "    'n_cltr_u': [3, 5, 7],  # Number of user clusters\n",
        "    'n_cltr_i': [3, 5, 7],  # Number of item clusters\n",
        "    'n_epochs': [20, 30]     # Number of iterations\n",
        "}\n",
        "\n",
        "# Performing 3-fold grid search cross-validation\n",
        "clustering_grid_search = GridSearchCV(CoClustering, param_grid, measures=['rmse'], cv=3)\n",
        "\n",
        "# Fitting data\n",
        "print(\"Starting GridSearchCV fitting for CoClustering model\")\n",
        "clustering_grid_search.fit(data)\n",
        "print(\"GridSearchCV fitting completed.\")\n",
        "\n",
        "# Best RMSE score\n",
        "print(f\"Best RMSE score: {clustering_grid_search.best_score['rmse']:.4f}\")\n",
        "\n",
        "# Combination of parameters that gave the best RMSE score\n",
        "print(\"Best parameters:\", clustering_grid_search.best_params['rmse'])"
      ]
    },
    {
      "cell_type": "markdown",
      "metadata": {
        "id": "CS6aMVJLyj21"
      },
      "source": [
        "**Think About It**: How do the parameters affect the performance of the model? Can we improve the performance of the model further? Check the available hyperparameters [here](https://surprise.readthedocs.io/en/stable/co_clustering.html)."
      ]
    },
    {
      "cell_type": "code",
      "execution_count": 100,
      "metadata": {
        "id": "5a7a8a30",
        "colab": {
          "base_uri": "https://localhost:8080/"
        },
        "outputId": "9bfb1ef6-cfca-430e-f1c1-37b38236bc87"
      },
      "outputs": [
        {
          "output_type": "stream",
          "name": "stdout",
          "text": [
            "Tuned CoClustering Model Performance\n",
            "RMSE: 1.0487\n",
            "Precision:  0.397\n",
            "Recall:  0.582\n",
            "F_1 score:  0.472\n"
          ]
        }
      ],
      "source": [
        "# Train the tuned CoClustering algorithm with best parameters\n",
        "tuned_coclustering_model = CoClustering(\n",
        "    n_cltr_u=3,\n",
        "    n_cltr_i=3,\n",
        "    n_epochs=20,\n",
        "    random_state=1\n",
        ")\n",
        "tuned_coclustering_model.fit(trainset)\n",
        "\n",
        "# Evaluate model performance using precision@k, recall@k, and F1 score with k=30\n",
        "predictions = tuned_coclustering_model.test(testset)\n",
        "print(\"Tuned CoClustering Model Performance\")\n",
        "results = precision_recall_at_k(tuned_coclustering_model, k=30, threshold=1.5)"
      ]
    },
    {
      "cell_type": "markdown",
      "metadata": {
        "id": "l-Jvce1gznKa"
      },
      "source": [
        "**Observations and Insights: For RMSE it ranks only above user-user. Precision is lower than SVD and user but higher than item. Recall is higher than item but lower than SVD and user. F_1 is better than item but lower than user and SVD. It only really outperforms item-item in precision and F1 but is beat out by SVD mostly universally in this case.**"
      ]
    },
    {
      "cell_type": "code",
      "execution_count": 102,
      "metadata": {
        "id": "6ba5b26b",
        "colab": {
          "base_uri": "https://localhost:8080/"
        },
        "outputId": "796fbbab-2863-47fe-b957-ca1e0f2d419b"
      },
      "outputs": [
        {
          "output_type": "stream",
          "name": "stdout",
          "text": [
            "Prediction for user 6958 with song 1671 (listened)  Estimated play_count: 1.29\n",
            "  Real play_count: 2\n",
            "  Details: {'was_impossible': False}\n"
          ]
        }
      ],
      "source": [
        "# Using tuned_coclustering_model to predict for user_id 6958 and song_id 1671 (listened, r_ui=2)\n",
        "prediction_listened = tuned_coclustering_model.predict(uid=6958, iid=1671, r_ui=2)\n",
        "print(f\"Prediction for user 6958 with song 1671 (listened)\"\n",
        "      f\"  Estimated play_count: {prediction_listened.est:.2f}\\n\"\n",
        "      f\"  Real play_count: {prediction_listened.r_ui}\\n\"\n",
        "      f\"  Details: {prediction_listened.details}\")"
      ]
    },
    {
      "cell_type": "code",
      "execution_count": 103,
      "metadata": {
        "id": "ec582940",
        "colab": {
          "base_uri": "https://localhost:8080/"
        },
        "outputId": "d49d9afa-8381-4f9f-fb9a-d56e55b97477"
      },
      "outputs": [
        {
          "output_type": "stream",
          "name": "stdout",
          "text": [
            "Prediction for user 6958 with song 3232 (not listened):\n",
            "  Estimated play_count: 1.48\n",
            "  Details: {'was_impossible': False}\n"
          ]
        }
      ],
      "source": [
        "# Verify song_id 3232 is not listened to by user_id 6958\n",
        "is_unlistened = df_final[(df_final['user_id'] == 6958) & (df_final['song_id'] == 3232)].empty\n",
        "if is_unlistened:\n",
        "    # Using tuned_coclustering_model to predict for user_id 6958 and song_id 3232 (not listened)\n",
        "    prediction_unlistened = tuned_coclustering_model.predict(uid=6958, iid=3232)\n",
        "    print(f\"Prediction for user 6958 with song 3232 (not listened):\\n\"\n",
        "          f\"  Estimated play_count: {prediction_unlistened.est:.2f}\\n\"\n",
        "          f\"  Details: {prediction_unlistened.details}\")\n",
        "else:\n",
        "    print(f\"Error: Song 3232 has been listened to by user 6958.\")"
      ]
    },
    {
      "cell_type": "markdown",
      "metadata": {
        "id": "rjGUSMqrzoDH"
      },
      "source": [
        "**Observations and Insights: We see a larger margin of error on prediction count than other models compared to real value. Therefore it is less likely 1.48 is the case here.**"
      ]
    },
    {
      "cell_type": "markdown",
      "metadata": {
        "id": "df9e28ba"
      },
      "source": [
        "#### Implementing the recommendation algorithm based on optimized CoClustering model"
      ]
    },
    {
      "cell_type": "code",
      "execution_count": 104,
      "metadata": {
        "id": "e0f36e15",
        "colab": {
          "base_uri": "https://localhost:8080/"
        },
        "outputId": "cac6cbcf-a090-4919-fc64-94caca590671"
      },
      "outputs": [
        {
          "output_type": "stream",
          "name": "stdout",
          "text": [
            "\n",
            "Top 5 Song Recommendations for User 6958 using CoClustering Model\n",
            "   song_id                            title   artist_name  \\\n",
            "0     7224            Victoria (LP Version)      Old 97's   \n",
            "1     8324                  The Big Gundown   The Prodigy   \n",
            "2     9942                      Greece 2000  Three Drives   \n",
            "3     5531                          Secrets   OneRepublic   \n",
            "4     4831  Heaven Must Be Missing An Angel       Tavares   \n",
            "\n",
            "   predicted_play_count  actual_play_count  \n",
            "0              3.094797                  0  \n",
            "1              2.311498                  0  \n",
            "2              2.215039                  0  \n",
            "3              2.124563                  0  \n",
            "4              2.123783                  0  \n"
          ]
        }
      ],
      "source": [
        "# Getting top 5 recommendations for user_id 6958 using \"Co-clustering based optimized\" algorithm\n",
        "top_5_recommendations = get_recommendations(df_final, 6958, top_n=5, algo=tuned_coclustering_model)\n",
        "\n",
        "recommendations_df = pd.DataFrame(top_5_recommendations, columns=['song_id', 'predicted_play_count'])\n",
        "recommendations_df = recommendations_df.merge(df_final[['song_id', 'title', 'artist_name']].drop_duplicates(), on='song_id', how='left')\n",
        "recommendations_df['actual_play_count'] = recommendations_df['song_id'].apply(\n",
        "    lambda sid: df_final[(df_final['user_id'] == 6958) & (df_final['song_id'] == sid)]['play_count'].iloc[0]\n",
        "    if not df_final[(df_final['user_id'] == 6958) & (df_final['song_id'] == sid)].empty else 0\n",
        ")\n",
        "\n",
        "# Print the recommendations\n",
        "print(f\"\\nTop 5 Song Recommendations for User 6958 using CoClustering Model\")\n",
        "print(recommendations_df[['song_id', 'title', 'artist_name', 'predicted_play_count', 'actual_play_count']])"
      ]
    },
    {
      "cell_type": "markdown",
      "metadata": {
        "id": "f1696941"
      },
      "source": [
        "### Correcting the play_count and Ranking the above songs"
      ]
    },
    {
      "cell_type": "code",
      "execution_count": 121,
      "metadata": {
        "id": "c186f13b",
        "scrolled": true,
        "colab": {
          "base_uri": "https://localhost:8080/"
        },
        "outputId": "8922be27-558d-4823-eabd-68000571c7ec"
      },
      "outputs": [
        {
          "output_type": "stream",
          "name": "stdout",
          "text": [
            "Ranked Songs for User 6958 based on Corrected Play Counts (CoClustering)\n",
            "     song_id                            title             artist_name  \\\n",
            "0       8582                     Use Somebody           Kings Of Leon   \n",
            "1        352   Dog Days Are Over (Radio Edit)  Florence + The Machine   \n",
            "2       2220                    Sehr kosmisch                Harmonia   \n",
            "3       1118                           Clocks                Coldplay   \n",
            "4       4152                    The Scientist                Coldplay   \n",
            "..       ...                              ...                     ...   \n",
            "558     7224            Victoria (LP Version)                Old 97's   \n",
            "559     8324                  The Big Gundown             The Prodigy   \n",
            "560     9942                      Greece 2000            Three Drives   \n",
            "561     5531                          Secrets             OneRepublic   \n",
            "562     4831  Heaven Must Be Missing An Angel                 Tavares   \n",
            "\n",
            "     corrected_play_count  play_count  predicted_play_count  \n",
            "0              751.000000         751                   NaN  \n",
            "1              748.000000         748                   NaN  \n",
            "2              713.000000         713                   NaN  \n",
            "3              662.000000         662                   NaN  \n",
            "4              652.000000         652                   NaN  \n",
            "..                    ...         ...                   ...  \n",
            "558              2.998123         107              3.094797  \n",
            "559              2.209436          96              2.311498  \n",
            "560              2.133389         150              2.215039  \n",
            "561              2.084337         618              2.124563  \n",
            "562              2.022248          97              2.123783  \n",
            "\n",
            "[563 rows x 6 columns]\n"
          ]
        }
      ],
      "source": [
        "# Ranking songs based on the above recommendations\n",
        "\n",
        "# Define the ranking_songs function (already defined, included for completeness)\n",
        "def ranking_songs(recommendations, playing_count):\n",
        "    # Sort the songs based on play counts\n",
        "    ranked_songs = playing_count.sort_values('play_count', ascending=False).reset_index()\n",
        "\n",
        "    # Merge with the recommended songs to get predicted play_counts\n",
        "    ranked_songs = ranked_songs.merge(recommendations[['song_id', 'predicted_play_count']],\n",
        "                                     on='song_id', how='left')\n",
        "\n",
        "    # Calculate number of users who played each song (n)\n",
        "    song_user_counts = df_final.groupby('song_id')['user_id'].count().reset_index()\n",
        "    song_user_counts.columns = ['song_id', 'n_users']\n",
        "\n",
        "    # Merge user counts into ranked_songs\n",
        "    ranked_songs = ranked_songs.merge(song_user_counts, on='song_id', how='left')\n",
        "\n",
        "    # Rank the songs based on corrected play_counts (subtract 1/sqrt(n) from predicted_play_count where available)\n",
        "    ranked_songs['corrected_play_count'] = ranked_songs.apply(\n",
        "        lambda row: row['predicted_play_count'] - 1/np.sqrt(row['n_users'])\n",
        "        if not pd.isna(row['predicted_play_count']) else row['play_count'], axis=1)\n",
        "\n",
        "    # Sort the songs based on corrected play_counts\n",
        "    ranked_songs = ranked_songs.sort_values('corrected_play_count', ascending=False)\n",
        "\n",
        "    # Merge with song details for interpretability\n",
        "    ranked_songs = ranked_songs.merge(df_final[['song_id', 'title', 'artist_name']].drop_duplicates(),\n",
        "                                     on='song_id', how='left')\n",
        "\n",
        "    # Display the ranked songs\n",
        "    print(\"Ranked Songs for User 6958 based on Corrected Play Counts (CoClustering)\")\n",
        "    print(ranked_songs[['song_id', 'title', 'artist_name', 'corrected_play_count', 'play_count', 'predicted_play_count']])\n",
        "\n",
        "    return ranked_songs\n",
        "\n",
        "# Generate playing_count DataFrame from final_play\n",
        "playing_count = final_play[['song_id', 'play_freq']].rename(columns={'play_freq': 'play_count'})\n",
        "\n",
        "# Use the provided top 5 recommendations for user_id 6958 from CoClustering\n",
        "recommendations_df = pd.DataFrame([\n",
        "    (7224, 3.094797, \"Victoria (LP Version)\", \"Old 97's\", 0),\n",
        "    (8324, 2.311498, \"The Big Gundown\", \"The Prodigy\", 0),\n",
        "    (9942, 2.215039, \"Greece 2000\", \"Three Drives\", 0),\n",
        "    (5531, 2.124563, \"Secrets\", \"OneRepublic\", 0),\n",
        "    (4831, 2.123783, \"Heaven Must Be Missing An Angel\", \"Tavares\", 0)\n",
        "], columns=['song_id', 'predicted_play_count', 'title', 'artist_name', 'actual_play_count'])\n",
        "\n",
        "# Apply the ranking_songs function\n",
        "ranked_songs_df = ranking_songs(recommendations_df, playing_count)"
      ]
    },
    {
      "cell_type": "markdown",
      "metadata": {
        "id": "_uJ_nZjBzvKH"
      },
      "source": [
        "**Observations and Insights: Now we see higher predicted play counts meaning the model has more optimistic views of user interaction. Popularity is still an overall heavy weight. The recommended songs rank low due to this. As we know this model underperforms SVD we have no good reason to follow its results other than the generation of an optimistic range.**"
      ]
    },
    {
      "cell_type": "markdown",
      "metadata": {
        "id": "5U56oSNsR-F2"
      },
      "source": [
        "### Content Based Recommendation Systems"
      ]
    },
    {
      "cell_type": "markdown",
      "metadata": {
        "id": "9aTEqaOjhoEg"
      },
      "source": [
        "**Think About It:** So far we have only used the play_count of songs to find recommendations but we have other information/features on songs as well. Can we take those song features into account?"
      ]
    },
    {
      "cell_type": "code",
      "execution_count": 106,
      "metadata": {
        "id": "RhUx2jgp4frC"
      },
      "outputs": [],
      "source": [
        "# Assume df_final is the main dataset; create df_small as a subset if needed (or use df_final directly)\n",
        "df_small = df_final.copy()"
      ]
    },
    {
      "cell_type": "code",
      "execution_count": 107,
      "metadata": {
        "id": "UX826CsjR-F3"
      },
      "outputs": [],
      "source": [
        "# Concatenate the \"title\", \"release\", \"artist_name\" columns to create a different column named \"text\"\n",
        "df_small['text'] = df_small['title'] + ' ' + df_small['release'] + ' ' + df_small['artist_name']"
      ]
    },
    {
      "cell_type": "code",
      "execution_count": 108,
      "metadata": {
        "id": "WdXw4U-wR-F4",
        "colab": {
          "base_uri": "https://localhost:8080/"
        },
        "outputId": "55386057-a96d-4954-a6bd-bbd392108edf"
      },
      "outputs": [
        {
          "output_type": "stream",
          "name": "stdout",
          "text": [
            "                                 user_id  song_id  play_count  \\\n",
            "title                                                           \n",
            "Daisy And Prudence                  6958      447           1   \n",
            "The Ballad of Michael Valentine     6958      512           1   \n",
            "I Stand Corrected (Album)           6958      549           1   \n",
            "They Might Follow You               6958      703           1   \n",
            "Monkey Man                          6958      719           1   \n",
            "\n",
            "                                                                              text  \n",
            "title                                                                               \n",
            "Daisy And Prudence                    Daisy And Prudence Distillation Erin McKeown  \n",
            "The Ballad of Michael Valentine  The Ballad of Michael Valentine Sawdust The Ki...  \n",
            "I Stand Corrected (Album)        I Stand Corrected (Album) Vampire Weekend Vamp...  \n",
            "They Might Follow You                They Might Follow You Tiny Vipers Tiny Vipers  \n",
            "Monkey Man                           Monkey Man You Know I'm No Good Amy Winehouse  \n"
          ]
        }
      ],
      "source": [
        "# Select the columns 'user_id', 'song_id', 'play_count', 'title', 'text' from df_small data\n",
        "df_small = df_small[['user_id', 'song_id', 'play_count', 'title', 'text']]\n",
        "\n",
        "# Drop the duplicates from the title column\n",
        "df_small = df_small.drop_duplicates(subset='title')\n",
        "\n",
        "# Set the title column as the index\n",
        "df_small.set_index('title', inplace=True)\n",
        "\n",
        "# See the first 5 records of the df_small dataset\n",
        "print(df_small.head())"
      ]
    },
    {
      "cell_type": "code",
      "execution_count": 109,
      "metadata": {
        "id": "qDcYHwZTR-F5"
      },
      "outputs": [],
      "source": [
        "# Create the series of indices from the data\n",
        "indices = pd.Series(df_small.index)\n"
      ]
    },
    {
      "cell_type": "code",
      "execution_count": 110,
      "metadata": {
        "id": "9UINF3Nwvwfr",
        "colab": {
          "base_uri": "https://localhost:8080/"
        },
        "outputId": "56fbb05a-3c7c-4ada-90ed-3e1d66d1e153"
      },
      "outputs": [
        {
          "output_type": "stream",
          "name": "stderr",
          "text": [
            "[nltk_data] Downloading package punkt to /root/nltk_data...\n",
            "[nltk_data]   Unzipping tokenizers/punkt.zip.\n",
            "[nltk_data] Downloading package stopwords to /root/nltk_data...\n",
            "[nltk_data]   Unzipping corpora/stopwords.zip.\n",
            "[nltk_data] Downloading package wordnet to /root/nltk_data...\n"
          ]
        }
      ],
      "source": [
        "# Importing necessary packages to work with text data\n",
        "import nltk\n",
        "\n",
        "# Download punkt library\n",
        "nltk.download('punkt')\n",
        "\n",
        "# Download stopwords library\n",
        "nltk.download('stopwords')\n",
        "\n",
        "# Download wordnet\n",
        "nltk.download('wordnet')\n",
        "\n",
        "# Import regular expression\n",
        "import re\n",
        "\n",
        "# Import word_tokenizer\n",
        "from nltk.tokenize import word_tokenize\n",
        "\n",
        "# Import WordNetLemmatizer\n",
        "from nltk.stem import WordNetLemmatizer\n",
        "\n",
        "# Import stopwords\n",
        "from nltk.corpus import stopwords\n",
        "\n",
        "# Import CountVectorizer and TfidfVectorizer\n",
        "from sklearn.feature_extraction.text import CountVectorizer, TfidfVectorizer"
      ]
    },
    {
      "cell_type": "markdown",
      "metadata": {
        "id": "Jt2vitlnhoEg"
      },
      "source": [
        "We will create a **function to pre-process the text data:**"
      ]
    },
    {
      "cell_type": "code",
      "execution_count": 114,
      "metadata": {
        "id": "j5QSSeUvR-F6",
        "colab": {
          "base_uri": "https://localhost:8080/"
        },
        "outputId": "c413d439-0eb4-4095-b174-20bab41e74dd"
      },
      "outputs": [
        {
          "output_type": "stream",
          "name": "stderr",
          "text": [
            "[nltk_data] Downloading package punkt_tab to /root/nltk_data...\n",
            "[nltk_data]   Unzipping tokenizers/punkt_tab.zip.\n",
            "[nltk_data] Downloading package stopwords to /root/nltk_data...\n",
            "[nltk_data]   Package stopwords is already up-to-date!\n",
            "[nltk_data] Downloading package wordnet to /root/nltk_data...\n",
            "[nltk_data]   Package wordnet is already up-to-date!\n"
          ]
        }
      ],
      "source": [
        "# Download required NLTK resources\n",
        "nltk.download('punkt_tab')  # Updated to download punkt_tab\n",
        "nltk.download('stopwords')\n",
        "nltk.download('wordnet')\n",
        "\n",
        "# Create a function to tokenize the text\n",
        "def tokenize(text):\n",
        "    # Lowercase the text\n",
        "    text = text.lower()\n",
        "    # Remove punctuation and non-alphabetic characters\n",
        "    text = re.sub(r'[^a-zA-Z\\s]', '', text)\n",
        "    # Tokenize the text\n",
        "    tokens = word_tokenize(text)\n",
        "    # Remove stopwords\n",
        "    stop_words = set(stopwords.words('english'))\n",
        "    tokens = [word for word in tokens if word not in stop_words]\n",
        "    # Lemmatize the tokens\n",
        "    lemmatizer = WordNetLemmatizer()\n",
        "    tokens = [lemmatizer.lemmatize(word) for word in tokens]\n",
        "    return ' '.join(tokens)\n",
        "\n",
        "# Apply the tokenize function to the text column\n",
        "df_small['text'] = df_small['text'].apply(tokenize)"
      ]
    },
    {
      "cell_type": "code",
      "execution_count": 115,
      "metadata": {
        "id": "RI_onIGdR-F6"
      },
      "outputs": [],
      "source": [
        "# Create tfidf vectorizer\n",
        "tfidf = TfidfVectorizer()\n",
        "\n",
        "# Fit_transfrom the above vectorizer on the text column and then convert the output into an array\n",
        "tfidf_matrix = tfidf.fit_transform(df_small['text']).toarray()"
      ]
    },
    {
      "cell_type": "code",
      "execution_count": 116,
      "metadata": {
        "id": "Beak6ODRR-F7"
      },
      "outputs": [],
      "source": [
        "# Compute the cosine similarity for the tfidf above output\n",
        "similarity = cosine_similarity(tfidf_matrix)"
      ]
    },
    {
      "cell_type": "markdown",
      "metadata": {
        "id": "3Jjo3UHKhoEh"
      },
      "source": [
        " Finally, let's create a function to find most similar songs to recommend for a given song."
      ]
    },
    {
      "cell_type": "code",
      "execution_count": 117,
      "metadata": {
        "id": "upANOISkR-F8"
      },
      "outputs": [],
      "source": [
        "# Function that takes in song title as input and returns the top 10 recommended songs\n",
        "def recommendations(title, similar_songs=similarity):\n",
        "    recommended_songs = []\n",
        "\n",
        "    # Getting the index of the song that matches the title\n",
        "    idx = indices[indices == title].index[0]\n",
        "\n",
        "    # Creating a Series with the similarity scores in descending order\n",
        "    score_series = pd.Series(similar_songs[idx]).sort_values(ascending=False)\n",
        "\n",
        "    # Getting the indexes of the 10 most similar songs\n",
        "    top_10_indexes = list(score_series.iloc[1:11].index)\n",
        "\n",
        "    # Populating the list with the titles of the best 10 matching songs\n",
        "    for i in top_10_indexes:\n",
        "        recommended_songs.append(list(df_small.index)[i])\n",
        "\n",
        "    return recommended_songs"
      ]
    },
    {
      "cell_type": "markdown",
      "metadata": {
        "id": "o4EINBmkR-F8"
      },
      "source": [
        "Recommending 10 songs similar to Learn to Fly"
      ]
    },
    {
      "cell_type": "code",
      "execution_count": 119,
      "metadata": {
        "id": "ohEK5dkVR-F8",
        "colab": {
          "base_uri": "https://localhost:8080/"
        },
        "outputId": "582ec51e-4333-438a-b97e-d28ff8f76261"
      },
      "outputs": [
        {
          "output_type": "stream",
          "name": "stdout",
          "text": [
            "\n",
            "Top 10 Recommended Songs for 'Learn To Fly'\n",
            "['Everlong', 'The Pretender', 'Nothing Better (Album)', 'From Left To Right', 'Lifespan Of A Fly', 'Under The Gun', 'I Need A Dollar', 'Feel The Love', 'All The Pretty Faces', 'Bones']\n"
          ]
        }
      ],
      "source": [
        "# Make the recommendation for the song with title 'Learn To Fly'\n",
        "print(\"\\nTop 10 Recommended Songs for 'Learn To Fly'\")\n",
        "print(recommendations('Learn To Fly'))"
      ]
    },
    {
      "cell_type": "markdown",
      "metadata": {
        "id": "UQ7iI5QJ0oem"
      },
      "source": [
        "**Observations and Insights: All the recommended songs have a low play count which is likely because this user listens to a varied or dissimilar set of music. This is mostly for textual patterns as an additional integration and not a full model approach.**"
      ]
    },
    {
      "cell_type": "markdown",
      "metadata": {
        "id": "73367782"
      },
      "source": [
        "## **Conclusion and Recommendations**"
      ]
    },
    {
      "cell_type": "markdown",
      "source": [
        "Results matrix:\n",
        "Performance Metrics (k=30, threshold=1.5 for precision/recall/F1):\n",
        "\n",
        "User-User (k=60, MSD):\n",
        "RMSE: 1.0588\n",
        "Precision: 0.415\n",
        "Recall: 0.632\n",
        "F1: 0.501\n",
        "Prediction for User 6958, Song 1671 (r_ui=2): 1.52 (error: 0.48)\n",
        "\n",
        "Item-Item (k=40, cosine):\n",
        "RMSE: 1.0394\n",
        "Precision: 0.307\n",
        "Recall: 0.562\n",
        "F1: 0.397\n",
        "Predictions for User 6958: Song 1671 (1.33, error: 0.67), Song 3232 (~1.00)\n",
        "\n",
        "SVD (n_factors=150, n_epochs=30, lr_all=0.01, reg_all=0.1):\n",
        "RMSE: 1.0081\n",
        "Precision: 0.419\n",
        "Recall: 0.624\n",
        "F1: 0.501\n",
        "Top 5 Recommendations: \"Victoria\" (2.716191), \"Heaven Must Be Missing An Angel\" (2.264428), etc., all unlistened.\n",
        "\n",
        "CoClustering (n_cltr_u=3, n_cltr_i=3, n_epochs=20):\n",
        "RMSE: 1.0487\n",
        "Precision: 0.397\n",
        "Recall: 0.582\n",
        "F1: 0.472\n",
        "Top 5 Recommendations: \"Victoria\" (3.094797), \"The Big Gundown\" (2.311498), etc., all unlistened.\n",
        "\n",
        "Content-Based (TF-IDF, Cosine Similarity):\n",
        "No RMSE/precision/recall/F1 (not evaluated with collaborative metrics).\n",
        "Recommendations for \"Learn To Fly\": \"Everlong\", \"The Pretender\", etc., based on textual similarity."
      ],
      "metadata": {
        "id": "DCAQJbJVUrSV"
      }
    },
    {
      "cell_type": "markdown",
      "metadata": {
        "id": "N5BT7Ocwqf5x"
      },
      "source": [
        "**1. Comparison of various techniques and their relative performance based on chosen Metric (Measure of success)**:\n",
        "- How do different techniques perform? Which one is performing relatively better? Is there scope to improve the performance further?\n",
        "\n",
        "The highest performing model is SVD, ranking #1 in RSME, precision and F1 - this means it has the highest accuracy and relevance in recommendations. User-User has a higher recall and may sometimes capture more relevant songs at the cost of precision. Overall item-item did not seem to do well compared to other models. CoClustering was better than item but slightly over optimistic and worse than SVD. Content based really only comes into play when song metadata is correlative or with a cold start and the user doesn't have much data.\n",
        "\n",
        "SVD can be further tuned by increasing hyperparameters and adjusting the threshhold to incorporate stronger preferences. Combining SVD and Content based is likely best where SVD is the primary use case but content based can be used for sparsity/cold starts until surpassed by SVD metrics."
      ]
    },
    {
      "cell_type": "markdown",
      "metadata": {
        "id": "wjc6vTcoqp6v"
      },
      "source": [
        "**2. Refined insights**:\n",
        "- What are the most meaningful insights from the data relevant to the problem?\n",
        "\n",
        "The dataset's sparsity - 117,876 interactions, 3,155 users, 563 songs - limits item-item and CoClustering to be essentially ineffective here. We see this reflected in low neighbor counts and the middling precision/recall. SVD handles sparsity better and especially in tandem with a content based fallback.\n",
        "\n",
        "We saw that popularity is an active and heavy weight in the industry and will likely be influential on models for some time.\n",
        "\n",
        "We saw some overlap in recommendations suggesting that consistent results are possible with this type of data.\n",
        "\n",
        "We reached similar conclusions that you might expect from this industry and this type of dataset."
      ]
    },
    {
      "cell_type": "markdown",
      "metadata": {
        "id": "hK6PMGUtoxVx"
      },
      "source": [
        "**3. Proposal for the final solution design:**\n",
        "- What model do you propose to be adopted? Why is this the best solution to adopt?\n",
        "\n",
        "Proposal: Hybrid model combining SVD and Content-Based\n",
        "\n",
        "As we noted, SVD's performance is best in most situations and can even tackle relative sparsity. During cold-start or major sparsity problems Content-Based recommendations can be used until SVD surpasses it from data garnered.\n",
        "\n",
        "SVD’s superior RMSE (1.0081), precision (0.419), and F1 (0.501) make it the best collaborative model for accurate predictions and relevant recommendations.\n",
        "\n",
        "As we know popularity is influential the use of content based similarity should help to steer early users despite this large effect, act as an effective sorter into the algorithim model by generating a standard response data frame down pathways.\n",
        "\n",
        "In the instance of new songs and artists we will also implement content-based recommendation to solve for the inverse problem of relative sparsity.\n",
        "\n",
        "This hybrid approach maximizes recommendation quality (precision/recall), handles sparsity, and mitigates popularity bias, making it ideal for this specific user 6958 and the dataset’s overall characteristics.\n",
        "\n",
        "It is likely the industry at large acts similarly based on the logic of encountered problems.\n",
        "\n",
        "After testing the hybrid model a final decision can be made in a similar results comparison."
      ]
    }
  ],
  "metadata": {
    "colab": {
      "provenance": []
    },
    "kernelspec": {
      "display_name": "Python 3 (ipykernel)",
      "language": "python",
      "name": "python3"
    },
    "language_info": {
      "codemirror_mode": {
        "name": "ipython",
        "version": 3
      },
      "file_extension": ".py",
      "mimetype": "text/x-python",
      "name": "python",
      "nbconvert_exporter": "python",
      "pygments_lexer": "ipython3",
      "version": "3.9.13"
    }
  },
  "nbformat": 4,
  "nbformat_minor": 0
}